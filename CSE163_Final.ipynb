{
  "cells": [
    {
      "cell_type": "code",
      "execution_count": 405,
      "metadata": {
        "id": "texXrDAUzzmL"
      },
      "outputs": [],
      "source": [
        "# Imports packages\n",
        "import geopandas as gpd\n",
        "import pandas as pd\n",
        "import plotly.express as px\n",
        "from plotly.subplots import make_subplots"
      ]
    },
    {
      "cell_type": "markdown",
      "metadata": {
        "id": "ByqxZwQB0MyC"
      },
      "source": [
        "# **Obtaining Data**"
      ]
    },
    {
      "cell_type": "code",
      "execution_count": 406,
      "metadata": {
        "colab": {
          "base_uri": "https://localhost:8080/",
          "height": 1000
        },
        "id": "teAvy3UD0I4V",
        "outputId": "c42ad389-be7b-4f88-c0eb-adc7ed7bf80e"
      },
      "outputs": [
        {
          "data": {
            "text/html": [
              "<div>\n",
              "<style scoped>\n",
              "    .dataframe tbody tr th:only-of-type {\n",
              "        vertical-align: middle;\n",
              "    }\n",
              "\n",
              "    .dataframe tbody tr th {\n",
              "        vertical-align: top;\n",
              "    }\n",
              "\n",
              "    .dataframe thead th {\n",
              "        text-align: right;\n",
              "    }\n",
              "</style>\n",
              "<table border=\"1\" class=\"dataframe\">\n",
              "  <thead>\n",
              "    <tr style=\"text-align: right;\">\n",
              "      <th></th>\n",
              "      <th>GeoFIPS</th>\n",
              "      <th>GeoName</th>\n",
              "      <th>Region</th>\n",
              "      <th>TableName</th>\n",
              "      <th>LineCode</th>\n",
              "      <th>IndustryClassification</th>\n",
              "      <th>Description</th>\n",
              "      <th>Unit</th>\n",
              "      <th>1997</th>\n",
              "      <th>1998</th>\n",
              "      <th>...</th>\n",
              "      <th>2011</th>\n",
              "      <th>2012</th>\n",
              "      <th>2013</th>\n",
              "      <th>2014</th>\n",
              "      <th>2015</th>\n",
              "      <th>2016</th>\n",
              "      <th>2017</th>\n",
              "      <th>2018</th>\n",
              "      <th>2019</th>\n",
              "      <th>2020</th>\n",
              "    </tr>\n",
              "  </thead>\n",
              "  <tbody>\n",
              "    <tr>\n",
              "      <th>0</th>\n",
              "      <td>\"00000\"</td>\n",
              "      <td>United States *</td>\n",
              "      <td></td>\n",
              "      <td>SAGDP2N</td>\n",
              "      <td>1.0</td>\n",
              "      <td>...</td>\n",
              "      <td>All industry total</td>\n",
              "      <td>Millions of current dollars</td>\n",
              "      <td>8577552.0</td>\n",
              "      <td>9062817.0</td>\n",
              "      <td>...</td>\n",
              "      <td>15542582.0</td>\n",
              "      <td>16197007.0</td>\n",
              "      <td>16784851.0</td>\n",
              "      <td>17527258.0</td>\n",
              "      <td>18238301.0</td>\n",
              "      <td>18745075.0</td>\n",
              "      <td>19542980.0</td>\n",
              "      <td>20611861.0</td>\n",
              "      <td>21433226.0</td>\n",
              "      <td>20936558.0</td>\n",
              "    </tr>\n",
              "    <tr>\n",
              "      <th>1</th>\n",
              "      <td>\"00000\"</td>\n",
              "      <td>United States *</td>\n",
              "      <td></td>\n",
              "      <td>SAGDP2N</td>\n",
              "      <td>2.0</td>\n",
              "      <td>...</td>\n",
              "      <td>Private industries</td>\n",
              "      <td>Millions of current dollars</td>\n",
              "      <td>7431992.0</td>\n",
              "      <td>7871500.0</td>\n",
              "      <td>...</td>\n",
              "      <td>13405520.0</td>\n",
              "      <td>14037519.0</td>\n",
              "      <td>14572341.0</td>\n",
              "      <td>15255889.0</td>\n",
              "      <td>15898859.0</td>\n",
              "      <td>16360179.0</td>\n",
              "      <td>17094245.0</td>\n",
              "      <td>18062184.0</td>\n",
              "      <td>18793750.0</td>\n",
              "      <td>18290860.0</td>\n",
              "    </tr>\n",
              "    <tr>\n",
              "      <th>2</th>\n",
              "      <td>\"00000\"</td>\n",
              "      <td>United States *</td>\n",
              "      <td></td>\n",
              "      <td>SAGDP2N</td>\n",
              "      <td>3.0</td>\n",
              "      <td>11</td>\n",
              "      <td>Agriculture, forestry, fishing and hunting</td>\n",
              "      <td>Millions of current dollars</td>\n",
              "      <td>108637.0</td>\n",
              "      <td>99756.0</td>\n",
              "      <td>...</td>\n",
              "      <td>180945.0</td>\n",
              "      <td>179573.0</td>\n",
              "      <td>215601.0</td>\n",
              "      <td>201003.0</td>\n",
              "      <td>182283.0</td>\n",
              "      <td>166571.0</td>\n",
              "      <td>176625.0</td>\n",
              "      <td>178569.0</td>\n",
              "      <td>175373.0</td>\n",
              "      <td>175802.0</td>\n",
              "    </tr>\n",
              "    <tr>\n",
              "      <th>3</th>\n",
              "      <td>\"00000\"</td>\n",
              "      <td>United States *</td>\n",
              "      <td></td>\n",
              "      <td>SAGDP2N</td>\n",
              "      <td>4.0</td>\n",
              "      <td>111-112</td>\n",
              "      <td>Farms</td>\n",
              "      <td>Millions of current dollars</td>\n",
              "      <td>88136.0</td>\n",
              "      <td>79030.0</td>\n",
              "      <td>...</td>\n",
              "      <td>152249.0</td>\n",
              "      <td>148939.0</td>\n",
              "      <td>184621.0</td>\n",
              "      <td>168147.0</td>\n",
              "      <td>147384.0</td>\n",
              "      <td>130639.0</td>\n",
              "      <td>140053.0</td>\n",
              "      <td>140271.0</td>\n",
              "      <td>136080.0</td>\n",
              "      <td>(NA)</td>\n",
              "    </tr>\n",
              "    <tr>\n",
              "      <th>4</th>\n",
              "      <td>\"00000\"</td>\n",
              "      <td>United States *</td>\n",
              "      <td></td>\n",
              "      <td>SAGDP2N</td>\n",
              "      <td>5.0</td>\n",
              "      <td>113-115</td>\n",
              "      <td>Forestry, fishing, and related activities</td>\n",
              "      <td>Millions of current dollars</td>\n",
              "      <td>20501.0</td>\n",
              "      <td>20726.0</td>\n",
              "      <td>...</td>\n",
              "      <td>28696.0</td>\n",
              "      <td>30634.0</td>\n",
              "      <td>30980.0</td>\n",
              "      <td>32856.0</td>\n",
              "      <td>34899.0</td>\n",
              "      <td>35932.0</td>\n",
              "      <td>36571.0</td>\n",
              "      <td>38298.0</td>\n",
              "      <td>39293.0</td>\n",
              "      <td>(NA)</td>\n",
              "    </tr>\n",
              "    <tr>\n",
              "      <th>...</th>\n",
              "      <td>...</td>\n",
              "      <td>...</td>\n",
              "      <td>...</td>\n",
              "      <td>...</td>\n",
              "      <td>...</td>\n",
              "      <td>...</td>\n",
              "      <td>...</td>\n",
              "      <td>...</td>\n",
              "      <td>...</td>\n",
              "      <td>...</td>\n",
              "      <td>...</td>\n",
              "      <td>...</td>\n",
              "      <td>...</td>\n",
              "      <td>...</td>\n",
              "      <td>...</td>\n",
              "      <td>...</td>\n",
              "      <td>...</td>\n",
              "      <td>...</td>\n",
              "      <td>...</td>\n",
              "      <td>...</td>\n",
              "      <td>...</td>\n",
              "    </tr>\n",
              "    <tr>\n",
              "      <th>5523</th>\n",
              "      <td>\"98000\"</td>\n",
              "      <td>Far West</td>\n",
              "      <td>8</td>\n",
              "      <td>SAGDP2N</td>\n",
              "      <td>92.0</td>\n",
              "      <td>...</td>\n",
              "      <td>Private services-providing industries 3/</td>\n",
              "      <td>Millions of current dollars</td>\n",
              "      <td>985596.4</td>\n",
              "      <td>1064211.3</td>\n",
              "      <td>...</td>\n",
              "      <td>1976062.0</td>\n",
              "      <td>2075109.3</td>\n",
              "      <td>2181136.7</td>\n",
              "      <td>2313170.7</td>\n",
              "      <td>2486666.3</td>\n",
              "      <td>2618453.8</td>\n",
              "      <td>2789660.2</td>\n",
              "      <td>2954243.6</td>\n",
              "      <td>3138895.7</td>\n",
              "      <td>3104513.5</td>\n",
              "    </tr>\n",
              "    <tr>\n",
              "      <th>5524</th>\n",
              "      <td>Note: See the included footnote file.</td>\n",
              "      <td>NaN</td>\n",
              "      <td>NaN</td>\n",
              "      <td>NaN</td>\n",
              "      <td>NaN</td>\n",
              "      <td>NaN</td>\n",
              "      <td>NaN</td>\n",
              "      <td>NaN</td>\n",
              "      <td>NaN</td>\n",
              "      <td>NaN</td>\n",
              "      <td>...</td>\n",
              "      <td>NaN</td>\n",
              "      <td>NaN</td>\n",
              "      <td>NaN</td>\n",
              "      <td>NaN</td>\n",
              "      <td>NaN</td>\n",
              "      <td>NaN</td>\n",
              "      <td>NaN</td>\n",
              "      <td>NaN</td>\n",
              "      <td>NaN</td>\n",
              "      <td>NaN</td>\n",
              "    </tr>\n",
              "    <tr>\n",
              "      <th>5525</th>\n",
              "      <td>SAGDP2N: Gross domestic product (GDP) by state 1/</td>\n",
              "      <td>NaN</td>\n",
              "      <td>NaN</td>\n",
              "      <td>NaN</td>\n",
              "      <td>NaN</td>\n",
              "      <td>NaN</td>\n",
              "      <td>NaN</td>\n",
              "      <td>NaN</td>\n",
              "      <td>NaN</td>\n",
              "      <td>NaN</td>\n",
              "      <td>...</td>\n",
              "      <td>NaN</td>\n",
              "      <td>NaN</td>\n",
              "      <td>NaN</td>\n",
              "      <td>NaN</td>\n",
              "      <td>NaN</td>\n",
              "      <td>NaN</td>\n",
              "      <td>NaN</td>\n",
              "      <td>NaN</td>\n",
              "      <td>NaN</td>\n",
              "      <td>NaN</td>\n",
              "    </tr>\n",
              "    <tr>\n",
              "      <th>5526</th>\n",
              "      <td>Last updated: March 26, 2021-- new statistics ...</td>\n",
              "      <td>NaN</td>\n",
              "      <td>NaN</td>\n",
              "      <td>NaN</td>\n",
              "      <td>NaN</td>\n",
              "      <td>NaN</td>\n",
              "      <td>NaN</td>\n",
              "      <td>NaN</td>\n",
              "      <td>NaN</td>\n",
              "      <td>NaN</td>\n",
              "      <td>...</td>\n",
              "      <td>NaN</td>\n",
              "      <td>NaN</td>\n",
              "      <td>NaN</td>\n",
              "      <td>NaN</td>\n",
              "      <td>NaN</td>\n",
              "      <td>NaN</td>\n",
              "      <td>NaN</td>\n",
              "      <td>NaN</td>\n",
              "      <td>NaN</td>\n",
              "      <td>NaN</td>\n",
              "    </tr>\n",
              "    <tr>\n",
              "      <th>5527</th>\n",
              "      <td>Source: U.S. Department of Commerce / Bureau o...</td>\n",
              "      <td>NaN</td>\n",
              "      <td>NaN</td>\n",
              "      <td>NaN</td>\n",
              "      <td>NaN</td>\n",
              "      <td>NaN</td>\n",
              "      <td>NaN</td>\n",
              "      <td>NaN</td>\n",
              "      <td>NaN</td>\n",
              "      <td>NaN</td>\n",
              "      <td>...</td>\n",
              "      <td>NaN</td>\n",
              "      <td>NaN</td>\n",
              "      <td>NaN</td>\n",
              "      <td>NaN</td>\n",
              "      <td>NaN</td>\n",
              "      <td>NaN</td>\n",
              "      <td>NaN</td>\n",
              "      <td>NaN</td>\n",
              "      <td>NaN</td>\n",
              "      <td>NaN</td>\n",
              "    </tr>\n",
              "  </tbody>\n",
              "</table>\n",
              "<p>5528 rows × 32 columns</p>\n",
              "</div>"
            ],
            "text/plain": [
              "                                                GeoFIPS          GeoName  \\\n",
              "0                                               \"00000\"  United States *   \n",
              "1                                               \"00000\"  United States *   \n",
              "2                                               \"00000\"  United States *   \n",
              "3                                               \"00000\"  United States *   \n",
              "4                                               \"00000\"  United States *   \n",
              "...                                                 ...              ...   \n",
              "5523                                            \"98000\"         Far West   \n",
              "5524              Note: See the included footnote file.              NaN   \n",
              "5525  SAGDP2N: Gross domestic product (GDP) by state 1/              NaN   \n",
              "5526  Last updated: March 26, 2021-- new statistics ...              NaN   \n",
              "5527  Source: U.S. Department of Commerce / Bureau o...              NaN   \n",
              "\n",
              "     Region TableName  LineCode IndustryClassification  \\\n",
              "0             SAGDP2N       1.0                    ...   \n",
              "1             SAGDP2N       2.0                    ...   \n",
              "2             SAGDP2N       3.0                     11   \n",
              "3             SAGDP2N       4.0                111-112   \n",
              "4             SAGDP2N       5.0                113-115   \n",
              "...     ...       ...       ...                    ...   \n",
              "5523      8   SAGDP2N      92.0                    ...   \n",
              "5524    NaN       NaN       NaN                    NaN   \n",
              "5525    NaN       NaN       NaN                    NaN   \n",
              "5526    NaN       NaN       NaN                    NaN   \n",
              "5527    NaN       NaN       NaN                    NaN   \n",
              "\n",
              "                                       Description  \\\n",
              "0                               All industry total   \n",
              "1                               Private industries   \n",
              "2       Agriculture, forestry, fishing and hunting   \n",
              "3                                            Farms   \n",
              "4        Forestry, fishing, and related activities   \n",
              "...                                            ...   \n",
              "5523      Private services-providing industries 3/   \n",
              "5524                                           NaN   \n",
              "5525                                           NaN   \n",
              "5526                                           NaN   \n",
              "5527                                           NaN   \n",
              "\n",
              "                             Unit       1997       1998  ...        2011  \\\n",
              "0     Millions of current dollars  8577552.0  9062817.0  ...  15542582.0   \n",
              "1     Millions of current dollars  7431992.0  7871500.0  ...  13405520.0   \n",
              "2     Millions of current dollars   108637.0    99756.0  ...    180945.0   \n",
              "3     Millions of current dollars    88136.0    79030.0  ...    152249.0   \n",
              "4     Millions of current dollars    20501.0    20726.0  ...     28696.0   \n",
              "...                           ...        ...        ...  ...         ...   \n",
              "5523  Millions of current dollars   985596.4  1064211.3  ...   1976062.0   \n",
              "5524                          NaN        NaN        NaN  ...         NaN   \n",
              "5525                          NaN        NaN        NaN  ...         NaN   \n",
              "5526                          NaN        NaN        NaN  ...         NaN   \n",
              "5527                          NaN        NaN        NaN  ...         NaN   \n",
              "\n",
              "            2012        2013        2014        2015        2016        2017  \\\n",
              "0     16197007.0  16784851.0  17527258.0  18238301.0  18745075.0  19542980.0   \n",
              "1     14037519.0  14572341.0  15255889.0  15898859.0  16360179.0  17094245.0   \n",
              "2       179573.0    215601.0    201003.0    182283.0    166571.0    176625.0   \n",
              "3       148939.0    184621.0    168147.0    147384.0    130639.0    140053.0   \n",
              "4        30634.0     30980.0     32856.0     34899.0     35932.0     36571.0   \n",
              "...          ...         ...         ...         ...         ...         ...   \n",
              "5523   2075109.3   2181136.7   2313170.7   2486666.3   2618453.8   2789660.2   \n",
              "5524         NaN         NaN         NaN         NaN         NaN         NaN   \n",
              "5525         NaN         NaN         NaN         NaN         NaN         NaN   \n",
              "5526         NaN         NaN         NaN         NaN         NaN         NaN   \n",
              "5527         NaN         NaN         NaN         NaN         NaN         NaN   \n",
              "\n",
              "            2018        2019        2020  \n",
              "0     20611861.0  21433226.0  20936558.0  \n",
              "1     18062184.0  18793750.0  18290860.0  \n",
              "2       178569.0    175373.0    175802.0  \n",
              "3       140271.0    136080.0        (NA)  \n",
              "4        38298.0     39293.0        (NA)  \n",
              "...          ...         ...         ...  \n",
              "5523   2954243.6   3138895.7   3104513.5  \n",
              "5524         NaN         NaN         NaN  \n",
              "5525         NaN         NaN         NaN  \n",
              "5526         NaN         NaN         NaN  \n",
              "5527         NaN         NaN         NaN  \n",
              "\n",
              "[5528 rows x 32 columns]"
            ]
          },
          "execution_count": 406,
          "metadata": {},
          "output_type": "execute_result"
        }
      ],
      "source": [
        "# Reads and loads in industries dataset\n",
        "industries_data = pd.read_csv(\"/Users/anushkaverma/Desktop/UW/Sophomore year/CSE 160/SAGDP2N__ALL_AREAS_1997_2020.csv\")\n",
        "industries_data"
      ]
    },
    {
      "cell_type": "code",
      "execution_count": 407,
      "metadata": {
        "colab": {
          "base_uri": "https://localhost:8080/",
          "height": 443
        },
        "id": "cvxG8BvR0Yvh",
        "outputId": "c092d18e-2a7d-450f-8d2e-644f1b4a142b"
      },
      "outputs": [
        {
          "data": {
            "text/html": [
              "<div>\n",
              "<style scoped>\n",
              "    .dataframe tbody tr th:only-of-type {\n",
              "        vertical-align: middle;\n",
              "    }\n",
              "\n",
              "    .dataframe tbody tr th {\n",
              "        vertical-align: top;\n",
              "    }\n",
              "\n",
              "    .dataframe thead th {\n",
              "        text-align: right;\n",
              "    }\n",
              "</style>\n",
              "<table border=\"1\" class=\"dataframe\">\n",
              "  <thead>\n",
              "    <tr style=\"text-align: right;\">\n",
              "      <th></th>\n",
              "      <th>chamber</th>\n",
              "      <th>congress</th>\n",
              "      <th>year</th>\n",
              "      <th>party.mean.diff.d1</th>\n",
              "      <th>prop.moderate.d1</th>\n",
              "      <th>prop.moderate.dem.d1</th>\n",
              "      <th>prop.moderate.rep.d1</th>\n",
              "      <th>overlap</th>\n",
              "      <th>chamber.mean.d1</th>\n",
              "      <th>chamber.mean.d2</th>\n",
              "      <th>...</th>\n",
              "      <th>rep.mean.d1</th>\n",
              "      <th>rep.mean.d2</th>\n",
              "      <th>north.rep.mean.d1</th>\n",
              "      <th>north.rep.mean.d2</th>\n",
              "      <th>south.rep.mean.d1</th>\n",
              "      <th>south.rep.mean.d2</th>\n",
              "      <th>north.dem.mean.d1</th>\n",
              "      <th>north.dem.mean.d2</th>\n",
              "      <th>south.dem.mean.d1</th>\n",
              "      <th>south.dem.mean.d2</th>\n",
              "    </tr>\n",
              "  </thead>\n",
              "  <tbody>\n",
              "    <tr>\n",
              "      <th>0</th>\n",
              "      <td>House</td>\n",
              "      <td>46</td>\n",
              "      <td>1879</td>\n",
              "      <td>0.785883</td>\n",
              "      <td>0.130435</td>\n",
              "      <td>0.110345</td>\n",
              "      <td>0.066667</td>\n",
              "      <td>0.0</td>\n",
              "      <td>-0.018943</td>\n",
              "      <td>-0.043084</td>\n",
              "      <td>...</td>\n",
              "      <td>0.394896</td>\n",
              "      <td>-0.128074</td>\n",
              "      <td>0.398015</td>\n",
              "      <td>-0.127235</td>\n",
              "      <td>0.257667</td>\n",
              "      <td>-0.165000</td>\n",
              "      <td>-0.343253</td>\n",
              "      <td>-0.063924</td>\n",
              "      <td>-0.448121</td>\n",
              "      <td>-0.031894</td>\n",
              "    </tr>\n",
              "    <tr>\n",
              "      <th>1</th>\n",
              "      <td>Senate</td>\n",
              "      <td>46</td>\n",
              "      <td>1879</td>\n",
              "      <td>0.747943</td>\n",
              "      <td>0.160494</td>\n",
              "      <td>0.000000</td>\n",
              "      <td>0.342857</td>\n",
              "      <td>0.0</td>\n",
              "      <td>-0.124568</td>\n",
              "      <td>-0.077630</td>\n",
              "      <td>...</td>\n",
              "      <td>0.295343</td>\n",
              "      <td>-0.027171</td>\n",
              "      <td>0.296303</td>\n",
              "      <td>-0.079273</td>\n",
              "      <td>0.279500</td>\n",
              "      <td>0.832500</td>\n",
              "      <td>-0.455136</td>\n",
              "      <td>-0.263591</td>\n",
              "      <td>-0.450174</td>\n",
              "      <td>0.023696</td>\n",
              "    </tr>\n",
              "    <tr>\n",
              "      <th>2</th>\n",
              "      <td>House</td>\n",
              "      <td>47</td>\n",
              "      <td>1881</td>\n",
              "      <td>0.782714</td>\n",
              "      <td>0.100324</td>\n",
              "      <td>0.110294</td>\n",
              "      <td>0.025157</td>\n",
              "      <td>0.0</td>\n",
              "      <td>0.026343</td>\n",
              "      <td>-0.025706</td>\n",
              "      <td>...</td>\n",
              "      <td>0.387736</td>\n",
              "      <td>-0.050755</td>\n",
              "      <td>0.391087</td>\n",
              "      <td>-0.042993</td>\n",
              "      <td>0.331889</td>\n",
              "      <td>-0.180111</td>\n",
              "      <td>-0.332643</td>\n",
              "      <td>-0.058429</td>\n",
              "      <td>-0.461091</td>\n",
              "      <td>-0.078530</td>\n",
              "    </tr>\n",
              "    <tr>\n",
              "      <th>3</th>\n",
              "      <td>Senate</td>\n",
              "      <td>47</td>\n",
              "      <td>1881</td>\n",
              "      <td>0.763571</td>\n",
              "      <td>0.141176</td>\n",
              "      <td>0.000000</td>\n",
              "      <td>0.244444</td>\n",
              "      <td>0.0</td>\n",
              "      <td>-0.030047</td>\n",
              "      <td>-0.080929</td>\n",
              "      <td>...</td>\n",
              "      <td>0.314756</td>\n",
              "      <td>-0.113044</td>\n",
              "      <td>0.316341</td>\n",
              "      <td>-0.132182</td>\n",
              "      <td>0.245000</td>\n",
              "      <td>0.729000</td>\n",
              "      <td>-0.455118</td>\n",
              "      <td>-0.199059</td>\n",
              "      <td>-0.443714</td>\n",
              "      <td>0.065667</td>\n",
              "    </tr>\n",
              "    <tr>\n",
              "      <th>4</th>\n",
              "      <td>House</td>\n",
              "      <td>48</td>\n",
              "      <td>1883</td>\n",
              "      <td>0.724404</td>\n",
              "      <td>0.216374</td>\n",
              "      <td>0.275862</td>\n",
              "      <td>0.096000</td>\n",
              "      <td>0.0</td>\n",
              "      <td>-0.066354</td>\n",
              "      <td>-0.029848</td>\n",
              "      <td>...</td>\n",
              "      <td>0.377488</td>\n",
              "      <td>0.001824</td>\n",
              "      <td>0.384009</td>\n",
              "      <td>0.009155</td>\n",
              "      <td>0.293444</td>\n",
              "      <td>-0.092667</td>\n",
              "      <td>-0.281450</td>\n",
              "      <td>-0.008705</td>\n",
              "      <td>-0.461041</td>\n",
              "      <td>-0.129784</td>\n",
              "    </tr>\n",
              "    <tr>\n",
              "      <th>...</th>\n",
              "      <td>...</td>\n",
              "      <td>...</td>\n",
              "      <td>...</td>\n",
              "      <td>...</td>\n",
              "      <td>...</td>\n",
              "      <td>...</td>\n",
              "      <td>...</td>\n",
              "      <td>...</td>\n",
              "      <td>...</td>\n",
              "      <td>...</td>\n",
              "      <td>...</td>\n",
              "      <td>...</td>\n",
              "      <td>...</td>\n",
              "      <td>...</td>\n",
              "      <td>...</td>\n",
              "      <td>...</td>\n",
              "      <td>...</td>\n",
              "      <td>...</td>\n",
              "      <td>...</td>\n",
              "      <td>...</td>\n",
              "      <td>...</td>\n",
              "    </tr>\n",
              "    <tr>\n",
              "      <th>139</th>\n",
              "      <td>Senate</td>\n",
              "      <td>115</td>\n",
              "      <td>2017</td>\n",
              "      <td>0.826032</td>\n",
              "      <td>0.171429</td>\n",
              "      <td>0.312500</td>\n",
              "      <td>0.036364</td>\n",
              "      <td>0.0</td>\n",
              "      <td>0.096114</td>\n",
              "      <td>-0.069962</td>\n",
              "      <td>...</td>\n",
              "      <td>0.489636</td>\n",
              "      <td>-0.030291</td>\n",
              "      <td>0.469250</td>\n",
              "      <td>-0.077031</td>\n",
              "      <td>0.518000</td>\n",
              "      <td>0.034739</td>\n",
              "      <td>-0.350432</td>\n",
              "      <td>-0.124841</td>\n",
              "      <td>-0.182000</td>\n",
              "      <td>0.107500</td>\n",
              "    </tr>\n",
              "    <tr>\n",
              "      <th>140</th>\n",
              "      <td>House</td>\n",
              "      <td>116</td>\n",
              "      <td>2019</td>\n",
              "      <td>0.873306</td>\n",
              "      <td>0.101580</td>\n",
              "      <td>0.161017</td>\n",
              "      <td>0.033981</td>\n",
              "      <td>0.0</td>\n",
              "      <td>0.037210</td>\n",
              "      <td>0.028898</td>\n",
              "      <td>...</td>\n",
              "      <td>0.502772</td>\n",
              "      <td>0.059888</td>\n",
              "      <td>0.461301</td>\n",
              "      <td>0.073398</td>\n",
              "      <td>0.553161</td>\n",
              "      <td>0.043473</td>\n",
              "      <td>-0.367995</td>\n",
              "      <td>-0.038569</td>\n",
              "      <td>-0.380479</td>\n",
              "      <td>0.180188</td>\n",
              "    </tr>\n",
              "    <tr>\n",
              "      <th>141</th>\n",
              "      <td>Senate</td>\n",
              "      <td>116</td>\n",
              "      <td>2019</td>\n",
              "      <td>0.840789</td>\n",
              "      <td>0.156863</td>\n",
              "      <td>0.282609</td>\n",
              "      <td>0.037037</td>\n",
              "      <td>0.0</td>\n",
              "      <td>0.102735</td>\n",
              "      <td>-0.044157</td>\n",
              "      <td>...</td>\n",
              "      <td>0.498463</td>\n",
              "      <td>0.025778</td>\n",
              "      <td>0.474250</td>\n",
              "      <td>0.034875</td>\n",
              "      <td>0.533682</td>\n",
              "      <td>0.012545</td>\n",
              "      <td>-0.353767</td>\n",
              "      <td>-0.124930</td>\n",
              "      <td>-0.178333</td>\n",
              "      <td>0.031000</td>\n",
              "    </tr>\n",
              "    <tr>\n",
              "      <th>142</th>\n",
              "      <td>House</td>\n",
              "      <td>117</td>\n",
              "      <td>2021</td>\n",
              "      <td>0.885473</td>\n",
              "      <td>0.079545</td>\n",
              "      <td>0.128889</td>\n",
              "      <td>0.027907</td>\n",
              "      <td>0.0</td>\n",
              "      <td>0.052652</td>\n",
              "      <td>0.022725</td>\n",
              "      <td>...</td>\n",
              "      <td>0.505451</td>\n",
              "      <td>0.078121</td>\n",
              "      <td>0.464496</td>\n",
              "      <td>0.101066</td>\n",
              "      <td>0.558170</td>\n",
              "      <td>0.048585</td>\n",
              "      <td>-0.379994</td>\n",
              "      <td>-0.082780</td>\n",
              "      <td>-0.380125</td>\n",
              "      <td>0.163646</td>\n",
              "    </tr>\n",
              "    <tr>\n",
              "      <th>143</th>\n",
              "      <td>Senate</td>\n",
              "      <td>117</td>\n",
              "      <td>2021</td>\n",
              "      <td>0.873317</td>\n",
              "      <td>0.156863</td>\n",
              "      <td>0.265306</td>\n",
              "      <td>0.039216</td>\n",
              "      <td>0.0</td>\n",
              "      <td>0.088147</td>\n",
              "      <td>-0.047696</td>\n",
              "      <td>...</td>\n",
              "      <td>0.524745</td>\n",
              "      <td>0.016176</td>\n",
              "      <td>0.501633</td>\n",
              "      <td>0.027167</td>\n",
              "      <td>0.557762</td>\n",
              "      <td>0.000476</td>\n",
              "      <td>-0.350644</td>\n",
              "      <td>-0.131978</td>\n",
              "      <td>-0.325250</td>\n",
              "      <td>0.216500</td>\n",
              "    </tr>\n",
              "  </tbody>\n",
              "</table>\n",
              "<p>144 rows × 22 columns</p>\n",
              "</div>"
            ],
            "text/plain": [
              "    chamber  congress  year  party.mean.diff.d1  prop.moderate.d1  \\\n",
              "0     House        46  1879            0.785883          0.130435   \n",
              "1    Senate        46  1879            0.747943          0.160494   \n",
              "2     House        47  1881            0.782714          0.100324   \n",
              "3    Senate        47  1881            0.763571          0.141176   \n",
              "4     House        48  1883            0.724404          0.216374   \n",
              "..      ...       ...   ...                 ...               ...   \n",
              "139  Senate       115  2017            0.826032          0.171429   \n",
              "140   House       116  2019            0.873306          0.101580   \n",
              "141  Senate       116  2019            0.840789          0.156863   \n",
              "142   House       117  2021            0.885473          0.079545   \n",
              "143  Senate       117  2021            0.873317          0.156863   \n",
              "\n",
              "     prop.moderate.dem.d1  prop.moderate.rep.d1  overlap  chamber.mean.d1  \\\n",
              "0                0.110345              0.066667      0.0        -0.018943   \n",
              "1                0.000000              0.342857      0.0        -0.124568   \n",
              "2                0.110294              0.025157      0.0         0.026343   \n",
              "3                0.000000              0.244444      0.0        -0.030047   \n",
              "4                0.275862              0.096000      0.0        -0.066354   \n",
              "..                    ...                   ...      ...              ...   \n",
              "139              0.312500              0.036364      0.0         0.096114   \n",
              "140              0.161017              0.033981      0.0         0.037210   \n",
              "141              0.282609              0.037037      0.0         0.102735   \n",
              "142              0.128889              0.027907      0.0         0.052652   \n",
              "143              0.265306              0.039216      0.0         0.088147   \n",
              "\n",
              "     chamber.mean.d2  ...  rep.mean.d1  rep.mean.d2  north.rep.mean.d1  \\\n",
              "0          -0.043084  ...     0.394896    -0.128074           0.398015   \n",
              "1          -0.077630  ...     0.295343    -0.027171           0.296303   \n",
              "2          -0.025706  ...     0.387736    -0.050755           0.391087   \n",
              "3          -0.080929  ...     0.314756    -0.113044           0.316341   \n",
              "4          -0.029848  ...     0.377488     0.001824           0.384009   \n",
              "..               ...  ...          ...          ...                ...   \n",
              "139        -0.069962  ...     0.489636    -0.030291           0.469250   \n",
              "140         0.028898  ...     0.502772     0.059888           0.461301   \n",
              "141        -0.044157  ...     0.498463     0.025778           0.474250   \n",
              "142         0.022725  ...     0.505451     0.078121           0.464496   \n",
              "143        -0.047696  ...     0.524745     0.016176           0.501633   \n",
              "\n",
              "     north.rep.mean.d2  south.rep.mean.d1  south.rep.mean.d2  \\\n",
              "0            -0.127235           0.257667          -0.165000   \n",
              "1            -0.079273           0.279500           0.832500   \n",
              "2            -0.042993           0.331889          -0.180111   \n",
              "3            -0.132182           0.245000           0.729000   \n",
              "4             0.009155           0.293444          -0.092667   \n",
              "..                 ...                ...                ...   \n",
              "139          -0.077031           0.518000           0.034739   \n",
              "140           0.073398           0.553161           0.043473   \n",
              "141           0.034875           0.533682           0.012545   \n",
              "142           0.101066           0.558170           0.048585   \n",
              "143           0.027167           0.557762           0.000476   \n",
              "\n",
              "     north.dem.mean.d1  north.dem.mean.d2  south.dem.mean.d1  \\\n",
              "0            -0.343253          -0.063924          -0.448121   \n",
              "1            -0.455136          -0.263591          -0.450174   \n",
              "2            -0.332643          -0.058429          -0.461091   \n",
              "3            -0.455118          -0.199059          -0.443714   \n",
              "4            -0.281450          -0.008705          -0.461041   \n",
              "..                 ...                ...                ...   \n",
              "139          -0.350432          -0.124841          -0.182000   \n",
              "140          -0.367995          -0.038569          -0.380479   \n",
              "141          -0.353767          -0.124930          -0.178333   \n",
              "142          -0.379994          -0.082780          -0.380125   \n",
              "143          -0.350644          -0.131978          -0.325250   \n",
              "\n",
              "     south.dem.mean.d2  \n",
              "0            -0.031894  \n",
              "1             0.023696  \n",
              "2            -0.078530  \n",
              "3             0.065667  \n",
              "4            -0.129784  \n",
              "..                 ...  \n",
              "139           0.107500  \n",
              "140           0.180188  \n",
              "141           0.031000  \n",
              "142           0.163646  \n",
              "143           0.216500  \n",
              "\n",
              "[144 rows x 22 columns]"
            ]
          },
          "execution_count": 407,
          "metadata": {},
          "output_type": "execute_result"
        }
      ],
      "source": [
        "# Reads and loads in polarization dataset\n",
        "polarization_data= pd.read_csv(\"/Users/anushkaverma/Desktop/UW/Sophomore year/CSE 160/political polarization/Political Polarization in US Congress (Assorted).csv\")\n",
        "polarization_data"
      ]
    },
    {
      "cell_type": "code",
      "execution_count": 408,
      "metadata": {
        "colab": {
          "base_uri": "https://localhost:8080/",
          "height": 443
        },
        "id": "rjZV9LUi0Zcs",
        "outputId": "00e35d5f-5e41-4ba3-e385-534cc98873ee"
      },
      "outputs": [
        {
          "data": {
            "text/html": [
              "<div>\n",
              "<style scoped>\n",
              "    .dataframe tbody tr th:only-of-type {\n",
              "        vertical-align: middle;\n",
              "    }\n",
              "\n",
              "    .dataframe tbody tr th {\n",
              "        vertical-align: top;\n",
              "    }\n",
              "\n",
              "    .dataframe thead th {\n",
              "        text-align: right;\n",
              "    }\n",
              "</style>\n",
              "<table border=\"1\" class=\"dataframe\">\n",
              "  <thead>\n",
              "    <tr style=\"text-align: right;\">\n",
              "      <th></th>\n",
              "      <th>year</th>\n",
              "      <th>country</th>\n",
              "      <th>contcod</th>\n",
              "      <th>mean</th>\n",
              "      <th>region</th>\n",
              "      <th>gdpppp</th>\n",
              "      <th>pop</th>\n",
              "      <th>expgdp</th>\n",
              "      <th>xpo</th>\n",
              "      <th>mpo</th>\n",
              "      <th>...</th>\n",
              "      <th>share1</th>\n",
              "      <th>share2</th>\n",
              "      <th>share3</th>\n",
              "      <th>share4</th>\n",
              "      <th>share5</th>\n",
              "      <th>share6</th>\n",
              "      <th>share7</th>\n",
              "      <th>share8</th>\n",
              "      <th>share9</th>\n",
              "      <th>share10</th>\n",
              "    </tr>\n",
              "  </thead>\n",
              "  <tbody>\n",
              "    <tr>\n",
              "      <th>0</th>\n",
              "      <td>1975</td>\n",
              "      <td>6</td>\n",
              "      <td>AGO</td>\n",
              "      <td>1.79769313486232e+308</td>\n",
              "      <td>1</td>\n",
              "      <td>3643</td>\n",
              "      <td>6.123</td>\n",
              "      <td>1.79769313486232e+308</td>\n",
              "      <td>1.79769313486232e+308</td>\n",
              "      <td>1.79769313486232e+308</td>\n",
              "      <td>...</td>\n",
              "      <td>1.79769313486232e+308</td>\n",
              "      <td>1.79769313486232e+308</td>\n",
              "      <td>1.79769313486232e+308</td>\n",
              "      <td>1.79769313486232e+308</td>\n",
              "      <td>1.79769313486232e+308</td>\n",
              "      <td>1.79769313486232e+308</td>\n",
              "      <td>1.79769313486232e+308</td>\n",
              "      <td>1.79769313486232e+308</td>\n",
              "      <td>1.79769313486232e+308</td>\n",
              "      <td>1.79769313486232e+308</td>\n",
              "    </tr>\n",
              "    <tr>\n",
              "      <th>1</th>\n",
              "      <td>1976</td>\n",
              "      <td>6</td>\n",
              "      <td>AGO</td>\n",
              "      <td>1.79769313486232e+308</td>\n",
              "      <td>1</td>\n",
              "      <td>3230</td>\n",
              "      <td>6.2762</td>\n",
              "      <td>1.79769313486232e+308</td>\n",
              "      <td>1.79769313486232e+308</td>\n",
              "      <td>1.79769313486232e+308</td>\n",
              "      <td>...</td>\n",
              "      <td>1.79769313486232e+308</td>\n",
              "      <td>1.79769313486232e+308</td>\n",
              "      <td>1.79769313486232e+308</td>\n",
              "      <td>1.79769313486232e+308</td>\n",
              "      <td>1.79769313486232e+308</td>\n",
              "      <td>1.79769313486232e+308</td>\n",
              "      <td>1.79769313486232e+308</td>\n",
              "      <td>1.79769313486232e+308</td>\n",
              "      <td>1.79769313486232e+308</td>\n",
              "      <td>1.79769313486232e+308</td>\n",
              "    </tr>\n",
              "    <tr>\n",
              "      <th>2</th>\n",
              "      <td>1977</td>\n",
              "      <td>6</td>\n",
              "      <td>AGO</td>\n",
              "      <td>1.79769313486232e+308</td>\n",
              "      <td>1</td>\n",
              "      <td>3220</td>\n",
              "      <td>6.44934</td>\n",
              "      <td>1.79769313486232e+308</td>\n",
              "      <td>1.79769313486232e+308</td>\n",
              "      <td>1.79769313486232e+308</td>\n",
              "      <td>...</td>\n",
              "      <td>1.79769313486232e+308</td>\n",
              "      <td>1.79769313486232e+308</td>\n",
              "      <td>1.79769313486232e+308</td>\n",
              "      <td>1.79769313486232e+308</td>\n",
              "      <td>1.79769313486232e+308</td>\n",
              "      <td>1.79769313486232e+308</td>\n",
              "      <td>1.79769313486232e+308</td>\n",
              "      <td>1.79769313486232e+308</td>\n",
              "      <td>1.79769313486232e+308</td>\n",
              "      <td>1.79769313486232e+308</td>\n",
              "    </tr>\n",
              "    <tr>\n",
              "      <th>3</th>\n",
              "      <td>1978</td>\n",
              "      <td>6</td>\n",
              "      <td>AGO</td>\n",
              "      <td>1.79769313486232e+308</td>\n",
              "      <td>1</td>\n",
              "      <td>3305</td>\n",
              "      <td>6.63663</td>\n",
              "      <td>1.79769313486232e+308</td>\n",
              "      <td>1.79769313486232e+308</td>\n",
              "      <td>1.79769313486232e+308</td>\n",
              "      <td>...</td>\n",
              "      <td>1.79769313486232e+308</td>\n",
              "      <td>1.79769313486232e+308</td>\n",
              "      <td>1.79769313486232e+308</td>\n",
              "      <td>1.79769313486232e+308</td>\n",
              "      <td>1.79769313486232e+308</td>\n",
              "      <td>1.79769313486232e+308</td>\n",
              "      <td>1.79769313486232e+308</td>\n",
              "      <td>1.79769313486232e+308</td>\n",
              "      <td>1.79769313486232e+308</td>\n",
              "      <td>1.79769313486232e+308</td>\n",
              "    </tr>\n",
              "    <tr>\n",
              "      <th>4</th>\n",
              "      <td>1979</td>\n",
              "      <td>6</td>\n",
              "      <td>AGO</td>\n",
              "      <td>1.79769313486232e+308</td>\n",
              "      <td>1</td>\n",
              "      <td>3300</td>\n",
              "      <td>6.8285</td>\n",
              "      <td>1.79769313486232e+308</td>\n",
              "      <td>1.79769313486232e+308</td>\n",
              "      <td>1.79769313486232e+308</td>\n",
              "      <td>...</td>\n",
              "      <td>1.79769313486232e+308</td>\n",
              "      <td>1.79769313486232e+308</td>\n",
              "      <td>1.79769313486232e+308</td>\n",
              "      <td>1.79769313486232e+308</td>\n",
              "      <td>1.79769313486232e+308</td>\n",
              "      <td>1.79769313486232e+308</td>\n",
              "      <td>1.79769313486232e+308</td>\n",
              "      <td>1.79769313486232e+308</td>\n",
              "      <td>1.79769313486232e+308</td>\n",
              "      <td>1.79769313486232e+308</td>\n",
              "    </tr>\n",
              "    <tr>\n",
              "      <th>...</th>\n",
              "      <td>...</td>\n",
              "      <td>...</td>\n",
              "      <td>...</td>\n",
              "      <td>...</td>\n",
              "      <td>...</td>\n",
              "      <td>...</td>\n",
              "      <td>...</td>\n",
              "      <td>...</td>\n",
              "      <td>...</td>\n",
              "      <td>...</td>\n",
              "      <td>...</td>\n",
              "      <td>...</td>\n",
              "      <td>...</td>\n",
              "      <td>...</td>\n",
              "      <td>...</td>\n",
              "      <td>...</td>\n",
              "      <td>...</td>\n",
              "      <td>...</td>\n",
              "      <td>...</td>\n",
              "      <td>...</td>\n",
              "      <td>...</td>\n",
              "    </tr>\n",
              "    <tr>\n",
              "      <th>4589</th>\n",
              "      <td>1998</td>\n",
              "      <td>212</td>\n",
              "      <td>ZWE</td>\n",
              "      <td>718</td>\n",
              "      <td>1</td>\n",
              "      <td>2204</td>\n",
              "      <td>11.68901</td>\n",
              "      <td>1.79769313486232e+308</td>\n",
              "      <td>2535</td>\n",
              "      <td>2738</td>\n",
              "      <td>...</td>\n",
              "      <td>0.200557097792625</td>\n",
              "      <td>0.30083566904068</td>\n",
              "      <td>0.384401112794876</td>\n",
              "      <td>0.472144842147827</td>\n",
              "      <td>0.571030616760254</td>\n",
              "      <td>0.689415037631988</td>\n",
              "      <td>0.839832842350006</td>\n",
              "      <td>1.08077991008759</td>\n",
              "      <td>1.51671314239502</td>\n",
              "      <td>3.94986081123352</td>\n",
              "    </tr>\n",
              "    <tr>\n",
              "      <th>4590</th>\n",
              "      <td>1999</td>\n",
              "      <td>212</td>\n",
              "      <td>ZWE</td>\n",
              "      <td>1.79769313486232e+308</td>\n",
              "      <td>1</td>\n",
              "      <td>2167</td>\n",
              "      <td>12.627</td>\n",
              "      <td>1.79769313486232e+308</td>\n",
              "      <td>2341</td>\n",
              "      <td>2315</td>\n",
              "      <td>...</td>\n",
              "      <td>1.79769313486232e+308</td>\n",
              "      <td>1.79769313486232e+308</td>\n",
              "      <td>1.79769313486232e+308</td>\n",
              "      <td>1.79769313486232e+308</td>\n",
              "      <td>1.79769313486232e+308</td>\n",
              "      <td>1.79769313486232e+308</td>\n",
              "      <td>1.79769313486232e+308</td>\n",
              "      <td>1.79769313486232e+308</td>\n",
              "      <td>1.79769313486232e+308</td>\n",
              "      <td>1.79769313486232e+308</td>\n",
              "    </tr>\n",
              "    <tr>\n",
              "      <th>4591</th>\n",
              "      <td>2000</td>\n",
              "      <td>212</td>\n",
              "      <td>ZWE</td>\n",
              "      <td>1.79769313486232e+308</td>\n",
              "      <td>1</td>\n",
              "      <td>2023</td>\n",
              "      <td>12.821</td>\n",
              "      <td>1.79769313486232e+308</td>\n",
              "      <td>2101</td>\n",
              "      <td>1991</td>\n",
              "      <td>...</td>\n",
              "      <td>1.79769313486232e+308</td>\n",
              "      <td>1.79769313486232e+308</td>\n",
              "      <td>1.79769313486232e+308</td>\n",
              "      <td>1.79769313486232e+308</td>\n",
              "      <td>1.79769313486232e+308</td>\n",
              "      <td>1.79769313486232e+308</td>\n",
              "      <td>1.79769313486232e+308</td>\n",
              "      <td>1.79769313486232e+308</td>\n",
              "      <td>1.79769313486232e+308</td>\n",
              "      <td>1.79769313486232e+308</td>\n",
              "    </tr>\n",
              "    <tr>\n",
              "      <th>4592</th>\n",
              "      <td>2001</td>\n",
              "      <td>212</td>\n",
              "      <td>ZWE</td>\n",
              "      <td>1.79769313486232e+308</td>\n",
              "      <td>1.79769313486232e+308</td>\n",
              "      <td>1.79769313486232e+308</td>\n",
              "      <td>1.79769313486232e+308</td>\n",
              "      <td>1.79769313486232e+308</td>\n",
              "      <td>1.79769313486232e+308</td>\n",
              "      <td>1.79769313486232e+308</td>\n",
              "      <td>...</td>\n",
              "      <td>1.79769313486232e+308</td>\n",
              "      <td>1.79769313486232e+308</td>\n",
              "      <td>1.79769313486232e+308</td>\n",
              "      <td>1.79769313486232e+308</td>\n",
              "      <td>1.79769313486232e+308</td>\n",
              "      <td>1.79769313486232e+308</td>\n",
              "      <td>1.79769313486232e+308</td>\n",
              "      <td>1.79769313486232e+308</td>\n",
              "      <td>1.79769313486232e+308</td>\n",
              "      <td>1.79769313486232e+308</td>\n",
              "    </tr>\n",
              "    <tr>\n",
              "      <th>4593</th>\n",
              "      <td>2002</td>\n",
              "      <td>212</td>\n",
              "      <td>ZWE</td>\n",
              "      <td>1.79769313486232e+308</td>\n",
              "      <td>1.79769313486232e+308</td>\n",
              "      <td>1.79769313486232e+308</td>\n",
              "      <td>1.79769313486232e+308</td>\n",
              "      <td>1.79769313486232e+308</td>\n",
              "      <td>1.79769313486232e+308</td>\n",
              "      <td>1.79769313486232e+308</td>\n",
              "      <td>...</td>\n",
              "      <td>1.79769313486232e+308</td>\n",
              "      <td>1.79769313486232e+308</td>\n",
              "      <td>1.79769313486232e+308</td>\n",
              "      <td>1.79769313486232e+308</td>\n",
              "      <td>1.79769313486232e+308</td>\n",
              "      <td>1.79769313486232e+308</td>\n",
              "      <td>1.79769313486232e+308</td>\n",
              "      <td>1.79769313486232e+308</td>\n",
              "      <td>1.79769313486232e+308</td>\n",
              "      <td>1.79769313486232e+308</td>\n",
              "    </tr>\n",
              "  </tbody>\n",
              "</table>\n",
              "<p>4594 rows × 34 columns</p>\n",
              "</div>"
            ],
            "text/plain": [
              "      year country contcod                   mean                 region  \\\n",
              "0     1975       6     AGO  1.79769313486232e+308                      1   \n",
              "1     1976       6     AGO  1.79769313486232e+308                      1   \n",
              "2     1977       6     AGO  1.79769313486232e+308                      1   \n",
              "3     1978       6     AGO  1.79769313486232e+308                      1   \n",
              "4     1979       6     AGO  1.79769313486232e+308                      1   \n",
              "...    ...     ...     ...                    ...                    ...   \n",
              "4589  1998     212     ZWE                    718                      1   \n",
              "4590  1999     212     ZWE  1.79769313486232e+308                      1   \n",
              "4591  2000     212     ZWE  1.79769313486232e+308                      1   \n",
              "4592  2001     212     ZWE  1.79769313486232e+308  1.79769313486232e+308   \n",
              "4593  2002     212     ZWE  1.79769313486232e+308  1.79769313486232e+308   \n",
              "\n",
              "                     gdpppp                    pop                 expgdp  \\\n",
              "0                      3643                  6.123  1.79769313486232e+308   \n",
              "1                      3230                 6.2762  1.79769313486232e+308   \n",
              "2                      3220                6.44934  1.79769313486232e+308   \n",
              "3                      3305                6.63663  1.79769313486232e+308   \n",
              "4                      3300                 6.8285  1.79769313486232e+308   \n",
              "...                     ...                    ...                    ...   \n",
              "4589                   2204               11.68901  1.79769313486232e+308   \n",
              "4590                   2167                 12.627  1.79769313486232e+308   \n",
              "4591                   2023                 12.821  1.79769313486232e+308   \n",
              "4592  1.79769313486232e+308  1.79769313486232e+308  1.79769313486232e+308   \n",
              "4593  1.79769313486232e+308  1.79769313486232e+308  1.79769313486232e+308   \n",
              "\n",
              "                        xpo                    mpo  ...  \\\n",
              "0     1.79769313486232e+308  1.79769313486232e+308  ...   \n",
              "1     1.79769313486232e+308  1.79769313486232e+308  ...   \n",
              "2     1.79769313486232e+308  1.79769313486232e+308  ...   \n",
              "3     1.79769313486232e+308  1.79769313486232e+308  ...   \n",
              "4     1.79769313486232e+308  1.79769313486232e+308  ...   \n",
              "...                     ...                    ...  ...   \n",
              "4589                   2535                   2738  ...   \n",
              "4590                   2341                   2315  ...   \n",
              "4591                   2101                   1991  ...   \n",
              "4592  1.79769313486232e+308  1.79769313486232e+308  ...   \n",
              "4593  1.79769313486232e+308  1.79769313486232e+308  ...   \n",
              "\n",
              "                     share1                 share2                 share3  \\\n",
              "0     1.79769313486232e+308  1.79769313486232e+308  1.79769313486232e+308   \n",
              "1     1.79769313486232e+308  1.79769313486232e+308  1.79769313486232e+308   \n",
              "2     1.79769313486232e+308  1.79769313486232e+308  1.79769313486232e+308   \n",
              "3     1.79769313486232e+308  1.79769313486232e+308  1.79769313486232e+308   \n",
              "4     1.79769313486232e+308  1.79769313486232e+308  1.79769313486232e+308   \n",
              "...                     ...                    ...                    ...   \n",
              "4589      0.200557097792625       0.30083566904068      0.384401112794876   \n",
              "4590  1.79769313486232e+308  1.79769313486232e+308  1.79769313486232e+308   \n",
              "4591  1.79769313486232e+308  1.79769313486232e+308  1.79769313486232e+308   \n",
              "4592  1.79769313486232e+308  1.79769313486232e+308  1.79769313486232e+308   \n",
              "4593  1.79769313486232e+308  1.79769313486232e+308  1.79769313486232e+308   \n",
              "\n",
              "                     share4                 share5                 share6  \\\n",
              "0     1.79769313486232e+308  1.79769313486232e+308  1.79769313486232e+308   \n",
              "1     1.79769313486232e+308  1.79769313486232e+308  1.79769313486232e+308   \n",
              "2     1.79769313486232e+308  1.79769313486232e+308  1.79769313486232e+308   \n",
              "3     1.79769313486232e+308  1.79769313486232e+308  1.79769313486232e+308   \n",
              "4     1.79769313486232e+308  1.79769313486232e+308  1.79769313486232e+308   \n",
              "...                     ...                    ...                    ...   \n",
              "4589      0.472144842147827      0.571030616760254      0.689415037631988   \n",
              "4590  1.79769313486232e+308  1.79769313486232e+308  1.79769313486232e+308   \n",
              "4591  1.79769313486232e+308  1.79769313486232e+308  1.79769313486232e+308   \n",
              "4592  1.79769313486232e+308  1.79769313486232e+308  1.79769313486232e+308   \n",
              "4593  1.79769313486232e+308  1.79769313486232e+308  1.79769313486232e+308   \n",
              "\n",
              "                     share7                 share8                 share9  \\\n",
              "0     1.79769313486232e+308  1.79769313486232e+308  1.79769313486232e+308   \n",
              "1     1.79769313486232e+308  1.79769313486232e+308  1.79769313486232e+308   \n",
              "2     1.79769313486232e+308  1.79769313486232e+308  1.79769313486232e+308   \n",
              "3     1.79769313486232e+308  1.79769313486232e+308  1.79769313486232e+308   \n",
              "4     1.79769313486232e+308  1.79769313486232e+308  1.79769313486232e+308   \n",
              "...                     ...                    ...                    ...   \n",
              "4589      0.839832842350006       1.08077991008759       1.51671314239502   \n",
              "4590  1.79769313486232e+308  1.79769313486232e+308  1.79769313486232e+308   \n",
              "4591  1.79769313486232e+308  1.79769313486232e+308  1.79769313486232e+308   \n",
              "4592  1.79769313486232e+308  1.79769313486232e+308  1.79769313486232e+308   \n",
              "4593  1.79769313486232e+308  1.79769313486232e+308  1.79769313486232e+308   \n",
              "\n",
              "                    share10  \n",
              "0     1.79769313486232e+308  \n",
              "1     1.79769313486232e+308  \n",
              "2     1.79769313486232e+308  \n",
              "3     1.79769313486232e+308  \n",
              "4     1.79769313486232e+308  \n",
              "...                     ...  \n",
              "4589       3.94986081123352  \n",
              "4590  1.79769313486232e+308  \n",
              "4591  1.79769313486232e+308  \n",
              "4592  1.79769313486232e+308  \n",
              "4593  1.79769313486232e+308  \n",
              "\n",
              "[4594 rows x 34 columns]"
            ]
          },
          "execution_count": 408,
          "metadata": {},
          "output_type": "execute_result"
        }
      ],
      "source": [
        "#Reads and loads in gdp dataset\n",
        "gdp_data= pd.read_csv(\"/Users/anushkaverma/Desktop/UW/Sophomore year/CSE 160/Global_for_release.csv\")\n",
        "gdp_data"
      ]
    },
    {
      "cell_type": "markdown",
      "metadata": {
        "id": "ErwAS0Di2U7m"
      },
      "source": [
        "# **Cleaning Data**"
      ]
    },
    {
      "cell_type": "markdown",
      "metadata": {
        "id": "daCMAvxpHs_N"
      },
      "source": [
        "## Cleaning Industries Dataset"
      ]
    },
    {
      "cell_type": "markdown",
      "metadata": {
        "id": "Dw-Fwy5HaOwU"
      },
      "source": [
        "This cell removes all unneccessary columns in the Industries dataset"
      ]
    },
    {
      "cell_type": "code",
      "execution_count": 409,
      "metadata": {
        "colab": {
          "base_uri": "https://localhost:8080/",
          "height": 736
        },
        "id": "Ugxb7ozxPfZj",
        "outputId": "dca690ac-48af-4da7-f998-16ca2bcfeef6"
      },
      "outputs": [
        {
          "data": {
            "text/html": [
              "<div>\n",
              "<style scoped>\n",
              "    .dataframe tbody tr th:only-of-type {\n",
              "        vertical-align: middle;\n",
              "    }\n",
              "\n",
              "    .dataframe tbody tr th {\n",
              "        vertical-align: top;\n",
              "    }\n",
              "\n",
              "    .dataframe thead th {\n",
              "        text-align: right;\n",
              "    }\n",
              "</style>\n",
              "<table border=\"1\" class=\"dataframe\">\n",
              "  <thead>\n",
              "    <tr style=\"text-align: right;\">\n",
              "      <th></th>\n",
              "      <th>GeoName</th>\n",
              "      <th>Description</th>\n",
              "      <th>Unit</th>\n",
              "      <th>1997</th>\n",
              "      <th>1998</th>\n",
              "      <th>1999</th>\n",
              "      <th>2000</th>\n",
              "      <th>2001</th>\n",
              "      <th>2002</th>\n",
              "    </tr>\n",
              "  </thead>\n",
              "  <tbody>\n",
              "    <tr>\n",
              "      <th>0</th>\n",
              "      <td>United States *</td>\n",
              "      <td>All industry total</td>\n",
              "      <td>Millions of current dollars</td>\n",
              "      <td>8577552.0</td>\n",
              "      <td>9062817.0</td>\n",
              "      <td>9630663.0</td>\n",
              "      <td>10252347.0</td>\n",
              "      <td>10581822.0</td>\n",
              "      <td>10936418.0</td>\n",
              "    </tr>\n",
              "    <tr>\n",
              "      <th>1</th>\n",
              "      <td>United States *</td>\n",
              "      <td>Private industries</td>\n",
              "      <td>Millions of current dollars</td>\n",
              "      <td>7431992.0</td>\n",
              "      <td>7871500.0</td>\n",
              "      <td>8378315.0</td>\n",
              "      <td>8929320.0</td>\n",
              "      <td>9188887.0</td>\n",
              "      <td>9462020.0</td>\n",
              "    </tr>\n",
              "    <tr>\n",
              "      <th>2</th>\n",
              "      <td>United States *</td>\n",
              "      <td>Agriculture, forestry, fishing and hunting</td>\n",
              "      <td>Millions of current dollars</td>\n",
              "      <td>108637.0</td>\n",
              "      <td>99756.0</td>\n",
              "      <td>92590.0</td>\n",
              "      <td>98312.0</td>\n",
              "      <td>99836.0</td>\n",
              "      <td>95629.0</td>\n",
              "    </tr>\n",
              "    <tr>\n",
              "      <th>3</th>\n",
              "      <td>United States *</td>\n",
              "      <td>Farms</td>\n",
              "      <td>Millions of current dollars</td>\n",
              "      <td>88136.0</td>\n",
              "      <td>79030.0</td>\n",
              "      <td>70934.0</td>\n",
              "      <td>76043.0</td>\n",
              "      <td>78093.0</td>\n",
              "      <td>74033.0</td>\n",
              "    </tr>\n",
              "    <tr>\n",
              "      <th>4</th>\n",
              "      <td>United States *</td>\n",
              "      <td>Forestry, fishing, and related activities</td>\n",
              "      <td>Millions of current dollars</td>\n",
              "      <td>20501.0</td>\n",
              "      <td>20726.0</td>\n",
              "      <td>21656.0</td>\n",
              "      <td>22269.0</td>\n",
              "      <td>21743.0</td>\n",
              "      <td>21596.0</td>\n",
              "    </tr>\n",
              "    <tr>\n",
              "      <th>...</th>\n",
              "      <td>...</td>\n",
              "      <td>...</td>\n",
              "      <td>...</td>\n",
              "      <td>...</td>\n",
              "      <td>...</td>\n",
              "      <td>...</td>\n",
              "      <td>...</td>\n",
              "      <td>...</td>\n",
              "      <td>...</td>\n",
              "    </tr>\n",
              "    <tr>\n",
              "      <th>5523</th>\n",
              "      <td>Far West</td>\n",
              "      <td>Private services-providing industries 3/</td>\n",
              "      <td>Millions of current dollars</td>\n",
              "      <td>985596.4</td>\n",
              "      <td>1064211.3</td>\n",
              "      <td>1160608.6</td>\n",
              "      <td>1244783.3</td>\n",
              "      <td>1289426.5</td>\n",
              "      <td>1358322.0</td>\n",
              "    </tr>\n",
              "    <tr>\n",
              "      <th>5524</th>\n",
              "      <td>NaN</td>\n",
              "      <td>NaN</td>\n",
              "      <td>NaN</td>\n",
              "      <td>NaN</td>\n",
              "      <td>NaN</td>\n",
              "      <td>NaN</td>\n",
              "      <td>NaN</td>\n",
              "      <td>NaN</td>\n",
              "      <td>NaN</td>\n",
              "    </tr>\n",
              "    <tr>\n",
              "      <th>5525</th>\n",
              "      <td>NaN</td>\n",
              "      <td>NaN</td>\n",
              "      <td>NaN</td>\n",
              "      <td>NaN</td>\n",
              "      <td>NaN</td>\n",
              "      <td>NaN</td>\n",
              "      <td>NaN</td>\n",
              "      <td>NaN</td>\n",
              "      <td>NaN</td>\n",
              "    </tr>\n",
              "    <tr>\n",
              "      <th>5526</th>\n",
              "      <td>NaN</td>\n",
              "      <td>NaN</td>\n",
              "      <td>NaN</td>\n",
              "      <td>NaN</td>\n",
              "      <td>NaN</td>\n",
              "      <td>NaN</td>\n",
              "      <td>NaN</td>\n",
              "      <td>NaN</td>\n",
              "      <td>NaN</td>\n",
              "    </tr>\n",
              "    <tr>\n",
              "      <th>5527</th>\n",
              "      <td>NaN</td>\n",
              "      <td>NaN</td>\n",
              "      <td>NaN</td>\n",
              "      <td>NaN</td>\n",
              "      <td>NaN</td>\n",
              "      <td>NaN</td>\n",
              "      <td>NaN</td>\n",
              "      <td>NaN</td>\n",
              "      <td>NaN</td>\n",
              "    </tr>\n",
              "  </tbody>\n",
              "</table>\n",
              "<p>5528 rows × 9 columns</p>\n",
              "</div>"
            ],
            "text/plain": [
              "              GeoName                                   Description  \\\n",
              "0     United States *                            All industry total   \n",
              "1     United States *                            Private industries   \n",
              "2     United States *    Agriculture, forestry, fishing and hunting   \n",
              "3     United States *                                         Farms   \n",
              "4     United States *     Forestry, fishing, and related activities   \n",
              "...               ...                                           ...   \n",
              "5523         Far West      Private services-providing industries 3/   \n",
              "5524              NaN                                           NaN   \n",
              "5525              NaN                                           NaN   \n",
              "5526              NaN                                           NaN   \n",
              "5527              NaN                                           NaN   \n",
              "\n",
              "                             Unit       1997       1998       1999  \\\n",
              "0     Millions of current dollars  8577552.0  9062817.0  9630663.0   \n",
              "1     Millions of current dollars  7431992.0  7871500.0  8378315.0   \n",
              "2     Millions of current dollars   108637.0    99756.0    92590.0   \n",
              "3     Millions of current dollars    88136.0    79030.0    70934.0   \n",
              "4     Millions of current dollars    20501.0    20726.0    21656.0   \n",
              "...                           ...        ...        ...        ...   \n",
              "5523  Millions of current dollars   985596.4  1064211.3  1160608.6   \n",
              "5524                          NaN        NaN        NaN        NaN   \n",
              "5525                          NaN        NaN        NaN        NaN   \n",
              "5526                          NaN        NaN        NaN        NaN   \n",
              "5527                          NaN        NaN        NaN        NaN   \n",
              "\n",
              "            2000        2001        2002  \n",
              "0     10252347.0  10581822.0  10936418.0  \n",
              "1      8929320.0   9188887.0   9462020.0  \n",
              "2        98312.0     99836.0     95629.0  \n",
              "3        76043.0     78093.0     74033.0  \n",
              "4        22269.0     21743.0     21596.0  \n",
              "...          ...         ...         ...  \n",
              "5523   1244783.3   1289426.5   1358322.0  \n",
              "5524         NaN         NaN         NaN  \n",
              "5525         NaN         NaN         NaN  \n",
              "5526         NaN         NaN         NaN  \n",
              "5527         NaN         NaN         NaN  \n",
              "\n",
              "[5528 rows x 9 columns]"
            ]
          },
          "execution_count": 409,
          "metadata": {},
          "output_type": "execute_result"
        }
      ],
      "source": [
        "# Columns to keep\n",
        "col_keep = [\"GeoName\", \"Description\", \"Unit\", \"1997\", \"1998\", \"1999\", \"2000\", \"2001\", \"2002\"]\n",
        "\n",
        "industries_data = industries_data[col_keep]\n",
        "industries_data"
      ]
    },
    {
      "cell_type": "markdown",
      "metadata": {
        "id": "JMQzEecuaY4E"
      },
      "source": [
        "This cell removes rows that are regions of the United States, rather than state names or the entire US. This cell also removes rows with NaN values"
      ]
    },
    {
      "cell_type": "code",
      "execution_count": 410,
      "metadata": {
        "colab": {
          "base_uri": "https://localhost:8080/",
          "height": 944
        },
        "id": "wIw5YD81cRv1",
        "outputId": "8fb6d87e-9805-40da-fc78-9a4c5cdf5fe6"
      },
      "outputs": [
        {
          "data": {
            "text/html": [
              "<div>\n",
              "<style scoped>\n",
              "    .dataframe tbody tr th:only-of-type {\n",
              "        vertical-align: middle;\n",
              "    }\n",
              "\n",
              "    .dataframe tbody tr th {\n",
              "        vertical-align: top;\n",
              "    }\n",
              "\n",
              "    .dataframe thead th {\n",
              "        text-align: right;\n",
              "    }\n",
              "</style>\n",
              "<table border=\"1\" class=\"dataframe\">\n",
              "  <thead>\n",
              "    <tr style=\"text-align: right;\">\n",
              "      <th></th>\n",
              "      <th>GeoName</th>\n",
              "      <th>Description</th>\n",
              "      <th>Unit</th>\n",
              "      <th>1997</th>\n",
              "      <th>1998</th>\n",
              "      <th>1999</th>\n",
              "      <th>2000</th>\n",
              "      <th>2001</th>\n",
              "      <th>2002</th>\n",
              "    </tr>\n",
              "  </thead>\n",
              "  <tbody>\n",
              "    <tr>\n",
              "      <th>0</th>\n",
              "      <td>United States *</td>\n",
              "      <td>All industry total</td>\n",
              "      <td>Millions of current dollars</td>\n",
              "      <td>8577552.0</td>\n",
              "      <td>9062817.0</td>\n",
              "      <td>9630663.0</td>\n",
              "      <td>10252347.0</td>\n",
              "      <td>10581822.0</td>\n",
              "      <td>10936418.0</td>\n",
              "    </tr>\n",
              "    <tr>\n",
              "      <th>1</th>\n",
              "      <td>United States *</td>\n",
              "      <td>Private industries</td>\n",
              "      <td>Millions of current dollars</td>\n",
              "      <td>7431992.0</td>\n",
              "      <td>7871500.0</td>\n",
              "      <td>8378315.0</td>\n",
              "      <td>8929320.0</td>\n",
              "      <td>9188887.0</td>\n",
              "      <td>9462020.0</td>\n",
              "    </tr>\n",
              "    <tr>\n",
              "      <th>2</th>\n",
              "      <td>United States *</td>\n",
              "      <td>Agriculture, forestry, fishing and hunting</td>\n",
              "      <td>Millions of current dollars</td>\n",
              "      <td>108637.0</td>\n",
              "      <td>99756.0</td>\n",
              "      <td>92590.0</td>\n",
              "      <td>98312.0</td>\n",
              "      <td>99836.0</td>\n",
              "      <td>95629.0</td>\n",
              "    </tr>\n",
              "    <tr>\n",
              "      <th>3</th>\n",
              "      <td>United States *</td>\n",
              "      <td>Farms</td>\n",
              "      <td>Millions of current dollars</td>\n",
              "      <td>88136.0</td>\n",
              "      <td>79030.0</td>\n",
              "      <td>70934.0</td>\n",
              "      <td>76043.0</td>\n",
              "      <td>78093.0</td>\n",
              "      <td>74033.0</td>\n",
              "    </tr>\n",
              "    <tr>\n",
              "      <th>4</th>\n",
              "      <td>United States *</td>\n",
              "      <td>Forestry, fishing, and related activities</td>\n",
              "      <td>Millions of current dollars</td>\n",
              "      <td>20501.0</td>\n",
              "      <td>20726.0</td>\n",
              "      <td>21656.0</td>\n",
              "      <td>22269.0</td>\n",
              "      <td>21743.0</td>\n",
              "      <td>21596.0</td>\n",
              "    </tr>\n",
              "    <tr>\n",
              "      <th>...</th>\n",
              "      <td>...</td>\n",
              "      <td>...</td>\n",
              "      <td>...</td>\n",
              "      <td>...</td>\n",
              "      <td>...</td>\n",
              "      <td>...</td>\n",
              "      <td>...</td>\n",
              "      <td>...</td>\n",
              "      <td>...</td>\n",
              "    </tr>\n",
              "    <tr>\n",
              "      <th>4783</th>\n",
              "      <td>Wyoming</td>\n",
              "      <td>Trade</td>\n",
              "      <td>Millions of current dollars</td>\n",
              "      <td>1692.5</td>\n",
              "      <td>1809.5</td>\n",
              "      <td>1905.7</td>\n",
              "      <td>2060.3</td>\n",
              "      <td>2073.8</td>\n",
              "      <td>2184.6</td>\n",
              "    </tr>\n",
              "    <tr>\n",
              "      <th>4784</th>\n",
              "      <td>Wyoming</td>\n",
              "      <td>Transportation and utilities</td>\n",
              "      <td>Millions of current dollars</td>\n",
              "      <td>1337.8</td>\n",
              "      <td>1431.0</td>\n",
              "      <td>1476.7</td>\n",
              "      <td>1520.5</td>\n",
              "      <td>1517.8</td>\n",
              "      <td>1548.6</td>\n",
              "    </tr>\n",
              "    <tr>\n",
              "      <th>4785</th>\n",
              "      <td>Wyoming</td>\n",
              "      <td>Manufacturing and information</td>\n",
              "      <td>Millions of current dollars</td>\n",
              "      <td>1119.9</td>\n",
              "      <td>1197.7</td>\n",
              "      <td>1193.7</td>\n",
              "      <td>1256.0</td>\n",
              "      <td>1611.8</td>\n",
              "      <td>1287.0</td>\n",
              "    </tr>\n",
              "    <tr>\n",
              "      <th>4786</th>\n",
              "      <td>Wyoming</td>\n",
              "      <td>Private goods-producing industries 2/</td>\n",
              "      <td>Millions of current dollars</td>\n",
              "      <td>4990.3</td>\n",
              "      <td>4643.6</td>\n",
              "      <td>4822.0</td>\n",
              "      <td>5669.0</td>\n",
              "      <td>6714.2</td>\n",
              "      <td>6204.0</td>\n",
              "    </tr>\n",
              "    <tr>\n",
              "      <th>4787</th>\n",
              "      <td>Wyoming</td>\n",
              "      <td>Private services-providing industries 3/</td>\n",
              "      <td>Millions of current dollars</td>\n",
              "      <td>7356.3</td>\n",
              "      <td>7779.9</td>\n",
              "      <td>8293.0</td>\n",
              "      <td>8778.6</td>\n",
              "      <td>9015.4</td>\n",
              "      <td>9754.2</td>\n",
              "    </tr>\n",
              "  </tbody>\n",
              "</table>\n",
              "<p>4788 rows × 9 columns</p>\n",
              "</div>"
            ],
            "text/plain": [
              "              GeoName                                   Description  \\\n",
              "0     United States *                            All industry total   \n",
              "1     United States *                            Private industries   \n",
              "2     United States *    Agriculture, forestry, fishing and hunting   \n",
              "3     United States *                                         Farms   \n",
              "4     United States *     Forestry, fishing, and related activities   \n",
              "...               ...                                           ...   \n",
              "4783          Wyoming                                         Trade   \n",
              "4784          Wyoming                  Transportation and utilities   \n",
              "4785          Wyoming                 Manufacturing and information   \n",
              "4786          Wyoming         Private goods-producing industries 2/   \n",
              "4787          Wyoming      Private services-providing industries 3/   \n",
              "\n",
              "                             Unit       1997       1998       1999  \\\n",
              "0     Millions of current dollars  8577552.0  9062817.0  9630663.0   \n",
              "1     Millions of current dollars  7431992.0  7871500.0  8378315.0   \n",
              "2     Millions of current dollars   108637.0    99756.0    92590.0   \n",
              "3     Millions of current dollars    88136.0    79030.0    70934.0   \n",
              "4     Millions of current dollars    20501.0    20726.0    21656.0   \n",
              "...                           ...        ...        ...        ...   \n",
              "4783  Millions of current dollars     1692.5     1809.5     1905.7   \n",
              "4784  Millions of current dollars     1337.8     1431.0     1476.7   \n",
              "4785  Millions of current dollars     1119.9     1197.7     1193.7   \n",
              "4786  Millions of current dollars     4990.3     4643.6     4822.0   \n",
              "4787  Millions of current dollars     7356.3     7779.9     8293.0   \n",
              "\n",
              "            2000        2001        2002  \n",
              "0     10252347.0  10581822.0  10936418.0  \n",
              "1      8929320.0   9188887.0   9462020.0  \n",
              "2        98312.0     99836.0     95629.0  \n",
              "3        76043.0     78093.0     74033.0  \n",
              "4        22269.0     21743.0     21596.0  \n",
              "...          ...         ...         ...  \n",
              "4783      2060.3      2073.8      2184.6  \n",
              "4784      1520.5      1517.8      1548.6  \n",
              "4785      1256.0      1611.8      1287.0  \n",
              "4786      5669.0      6714.2      6204.0  \n",
              "4787      8778.6      9015.4      9754.2  \n",
              "\n",
              "[4788 rows x 9 columns]"
            ]
          },
          "execution_count": 410,
          "metadata": {},
          "output_type": "execute_result"
        }
      ],
      "source": [
        "# Rows to remove from dataframe\n",
        "remove_geoname = [\"New England\", \"Mideast\", \"Great Lakes\",\n",
        "                  \"Plains\", \"Southeast\", \"Southwest\", \"Rocky Mountain\",\n",
        "                  \"Far West\"]\n",
        "\n",
        "for name in remove_geoname:\n",
        "  industries_data= industries_data.drop(industries_data[industries_data[\"GeoName\"] == name].index)\n",
        "\n",
        "industries_data = industries_data.dropna()\n",
        "industries_data"
      ]
    },
    {
      "cell_type": "code",
      "execution_count": 411,
      "metadata": {
        "colab": {
          "base_uri": "https://localhost:8080/",
          "height": 423
        },
        "id": "4z59Cxc9K_yp",
        "outputId": "aaf3ad7f-cb82-4d3c-847b-8697e45208e1"
      },
      "outputs": [
        {
          "data": {
            "text/html": [
              "<div>\n",
              "<style scoped>\n",
              "    .dataframe tbody tr th:only-of-type {\n",
              "        vertical-align: middle;\n",
              "    }\n",
              "\n",
              "    .dataframe tbody tr th {\n",
              "        vertical-align: top;\n",
              "    }\n",
              "\n",
              "    .dataframe thead th {\n",
              "        text-align: right;\n",
              "    }\n",
              "</style>\n",
              "<table border=\"1\" class=\"dataframe\">\n",
              "  <thead>\n",
              "    <tr style=\"text-align: right;\">\n",
              "      <th></th>\n",
              "      <th>name</th>\n",
              "      <th>description</th>\n",
              "      <th>year</th>\n",
              "      <th>gdp</th>\n",
              "    </tr>\n",
              "  </thead>\n",
              "  <tbody>\n",
              "    <tr>\n",
              "      <th>0</th>\n",
              "      <td>United States *</td>\n",
              "      <td>All industry total</td>\n",
              "      <td>1997</td>\n",
              "      <td>8577552.0</td>\n",
              "    </tr>\n",
              "    <tr>\n",
              "      <th>1</th>\n",
              "      <td>United States *</td>\n",
              "      <td>Private industries</td>\n",
              "      <td>1997</td>\n",
              "      <td>7431992.0</td>\n",
              "    </tr>\n",
              "    <tr>\n",
              "      <th>2</th>\n",
              "      <td>United States *</td>\n",
              "      <td>Agriculture, forestry, fishing and hunting</td>\n",
              "      <td>1997</td>\n",
              "      <td>108637.0</td>\n",
              "    </tr>\n",
              "    <tr>\n",
              "      <th>3</th>\n",
              "      <td>United States *</td>\n",
              "      <td>Farms</td>\n",
              "      <td>1997</td>\n",
              "      <td>88136.0</td>\n",
              "    </tr>\n",
              "    <tr>\n",
              "      <th>4</th>\n",
              "      <td>United States *</td>\n",
              "      <td>Forestry, fishing, and related activities</td>\n",
              "      <td>1997</td>\n",
              "      <td>20501.0</td>\n",
              "    </tr>\n",
              "    <tr>\n",
              "      <th>...</th>\n",
              "      <td>...</td>\n",
              "      <td>...</td>\n",
              "      <td>...</td>\n",
              "      <td>...</td>\n",
              "    </tr>\n",
              "    <tr>\n",
              "      <th>28723</th>\n",
              "      <td>Wyoming</td>\n",
              "      <td>Trade</td>\n",
              "      <td>2002</td>\n",
              "      <td>2184.6</td>\n",
              "    </tr>\n",
              "    <tr>\n",
              "      <th>28724</th>\n",
              "      <td>Wyoming</td>\n",
              "      <td>Transportation and utilities</td>\n",
              "      <td>2002</td>\n",
              "      <td>1548.6</td>\n",
              "    </tr>\n",
              "    <tr>\n",
              "      <th>28725</th>\n",
              "      <td>Wyoming</td>\n",
              "      <td>Manufacturing and information</td>\n",
              "      <td>2002</td>\n",
              "      <td>1287.0</td>\n",
              "    </tr>\n",
              "    <tr>\n",
              "      <th>28726</th>\n",
              "      <td>Wyoming</td>\n",
              "      <td>Private goods-producing industries 2/</td>\n",
              "      <td>2002</td>\n",
              "      <td>6204.0</td>\n",
              "    </tr>\n",
              "    <tr>\n",
              "      <th>28727</th>\n",
              "      <td>Wyoming</td>\n",
              "      <td>Private services-providing industries 3/</td>\n",
              "      <td>2002</td>\n",
              "      <td>9754.2</td>\n",
              "    </tr>\n",
              "  </tbody>\n",
              "</table>\n",
              "<p>28728 rows × 4 columns</p>\n",
              "</div>"
            ],
            "text/plain": [
              "                  name                                   description  year  \\\n",
              "0      United States *                            All industry total  1997   \n",
              "1      United States *                            Private industries  1997   \n",
              "2      United States *    Agriculture, forestry, fishing and hunting  1997   \n",
              "3      United States *                                         Farms  1997   \n",
              "4      United States *     Forestry, fishing, and related activities  1997   \n",
              "...                ...                                           ...   ...   \n",
              "28723          Wyoming                                         Trade  2002   \n",
              "28724          Wyoming                  Transportation and utilities  2002   \n",
              "28725          Wyoming                 Manufacturing and information  2002   \n",
              "28726          Wyoming         Private goods-producing industries 2/  2002   \n",
              "28727          Wyoming      Private services-providing industries 3/  2002   \n",
              "\n",
              "             gdp  \n",
              "0      8577552.0  \n",
              "1      7431992.0  \n",
              "2       108637.0  \n",
              "3        88136.0  \n",
              "4        20501.0  \n",
              "...          ...  \n",
              "28723     2184.6  \n",
              "28724     1548.6  \n",
              "28725     1287.0  \n",
              "28726     6204.0  \n",
              "28727     9754.2  \n",
              "\n",
              "[28728 rows x 4 columns]"
            ]
          },
          "execution_count": 411,
          "metadata": {},
          "output_type": "execute_result"
        }
      ],
      "source": [
        "# Making a year column and gdp column so that it is easier to merge datasets when asnwering questions\n",
        "years_col = [\"1997\", \"1998\", \"1999\", \"2000\", \"2001\", \"2002\"]\n",
        "year_gdp_list = []\n",
        "\n",
        "for year in years_col:\n",
        "  for gdp_value in industries_data[year]:\n",
        "    year_gdp_list.append((year, gdp_value))\n",
        "\n",
        "year_gdp_df = pd.DataFrame(year_gdp_list, columns=[\"year\", \"gdp\"])\n",
        "\n",
        "name_list = []\n",
        "desc_list = []\n",
        "\n",
        "for num_of_years in range(len(years_col)):\n",
        "  for name in industries_data[\"GeoName\"]:\n",
        "    name_list.append(name)\n",
        "  for desc in industries_data[\"Description\"]:\n",
        "    desc_list.append(desc)\n",
        "\n",
        "name_df = pd.DataFrame(name_list, columns=[\"name\"])\n",
        "\n",
        "desc_df = pd.DataFrame(desc_list, columns=[\"description\"])\n",
        "\n",
        "industries_data = name_df.join(desc_df)\n",
        "\n",
        "industries_data = industries_data.join(year_gdp_df)\n",
        "\n",
        "industries_data"
      ]
    },
    {
      "cell_type": "markdown",
      "metadata": {
        "id": "fY-8RfmiIA7B"
      },
      "source": [
        "## Cleaning GDP Dataset"
      ]
    },
    {
      "cell_type": "markdown",
      "metadata": {
        "id": "yK_d6MIFKdq1"
      },
      "source": [
        "This cell removes all unnecessary columns from the GDP dataset\n",
        "\n",
        "> Indented block\n",
        "\n"
      ]
    },
    {
      "cell_type": "code",
      "execution_count": 412,
      "metadata": {
        "colab": {
          "base_uri": "https://localhost:8080/",
          "height": 423
        },
        "id": "p4XsK5FoKlCp",
        "outputId": "4e273cb0-a303-41fe-f886-ecfa6d2c13fc"
      },
      "outputs": [
        {
          "data": {
            "text/html": [
              "<div>\n",
              "<style scoped>\n",
              "    .dataframe tbody tr th:only-of-type {\n",
              "        vertical-align: middle;\n",
              "    }\n",
              "\n",
              "    .dataframe tbody tr th {\n",
              "        vertical-align: top;\n",
              "    }\n",
              "\n",
              "    .dataframe thead th {\n",
              "        text-align: right;\n",
              "    }\n",
              "</style>\n",
              "<table border=\"1\" class=\"dataframe\">\n",
              "  <thead>\n",
              "    <tr style=\"text-align: right;\">\n",
              "      <th></th>\n",
              "      <th>year</th>\n",
              "      <th>country</th>\n",
              "      <th>region</th>\n",
              "      <th>contcod</th>\n",
              "      <th>gdpppp</th>\n",
              "      <th>gdp</th>\n",
              "    </tr>\n",
              "  </thead>\n",
              "  <tbody>\n",
              "    <tr>\n",
              "      <th>0</th>\n",
              "      <td>1975</td>\n",
              "      <td>6</td>\n",
              "      <td>1</td>\n",
              "      <td>AGO</td>\n",
              "      <td>3643</td>\n",
              "      <td>1.79769313486232e+308</td>\n",
              "    </tr>\n",
              "    <tr>\n",
              "      <th>1</th>\n",
              "      <td>1976</td>\n",
              "      <td>6</td>\n",
              "      <td>1</td>\n",
              "      <td>AGO</td>\n",
              "      <td>3230</td>\n",
              "      <td>1.79769313486232e+308</td>\n",
              "    </tr>\n",
              "    <tr>\n",
              "      <th>2</th>\n",
              "      <td>1977</td>\n",
              "      <td>6</td>\n",
              "      <td>1</td>\n",
              "      <td>AGO</td>\n",
              "      <td>3220</td>\n",
              "      <td>1.79769313486232e+308</td>\n",
              "    </tr>\n",
              "    <tr>\n",
              "      <th>3</th>\n",
              "      <td>1978</td>\n",
              "      <td>6</td>\n",
              "      <td>1</td>\n",
              "      <td>AGO</td>\n",
              "      <td>3305</td>\n",
              "      <td>1.79769313486232e+308</td>\n",
              "    </tr>\n",
              "    <tr>\n",
              "      <th>4</th>\n",
              "      <td>1979</td>\n",
              "      <td>6</td>\n",
              "      <td>1</td>\n",
              "      <td>AGO</td>\n",
              "      <td>3300</td>\n",
              "      <td>1.79769313486232e+308</td>\n",
              "    </tr>\n",
              "    <tr>\n",
              "      <th>...</th>\n",
              "      <td>...</td>\n",
              "      <td>...</td>\n",
              "      <td>...</td>\n",
              "      <td>...</td>\n",
              "      <td>...</td>\n",
              "      <td>...</td>\n",
              "    </tr>\n",
              "    <tr>\n",
              "      <th>4589</th>\n",
              "      <td>1998</td>\n",
              "      <td>212</td>\n",
              "      <td>1</td>\n",
              "      <td>ZWE</td>\n",
              "      <td>2204</td>\n",
              "      <td>5732</td>\n",
              "    </tr>\n",
              "    <tr>\n",
              "      <th>4590</th>\n",
              "      <td>1999</td>\n",
              "      <td>212</td>\n",
              "      <td>1</td>\n",
              "      <td>ZWE</td>\n",
              "      <td>2167</td>\n",
              "      <td>5494</td>\n",
              "    </tr>\n",
              "    <tr>\n",
              "      <th>4591</th>\n",
              "      <td>2000</td>\n",
              "      <td>212</td>\n",
              "      <td>1</td>\n",
              "      <td>ZWE</td>\n",
              "      <td>2023</td>\n",
              "      <td>7204</td>\n",
              "    </tr>\n",
              "    <tr>\n",
              "      <th>4592</th>\n",
              "      <td>2001</td>\n",
              "      <td>212</td>\n",
              "      <td>1.79769313486232e+308</td>\n",
              "      <td>ZWE</td>\n",
              "      <td>1.79769313486232e+308</td>\n",
              "      <td>1.79769313486232e+308</td>\n",
              "    </tr>\n",
              "    <tr>\n",
              "      <th>4593</th>\n",
              "      <td>2002</td>\n",
              "      <td>212</td>\n",
              "      <td>1.79769313486232e+308</td>\n",
              "      <td>ZWE</td>\n",
              "      <td>1.79769313486232e+308</td>\n",
              "      <td>1.79769313486232e+308</td>\n",
              "    </tr>\n",
              "  </tbody>\n",
              "</table>\n",
              "<p>4594 rows × 6 columns</p>\n",
              "</div>"
            ],
            "text/plain": [
              "      year country                 region contcod                 gdpppp  \\\n",
              "0     1975       6                      1     AGO                   3643   \n",
              "1     1976       6                      1     AGO                   3230   \n",
              "2     1977       6                      1     AGO                   3220   \n",
              "3     1978       6                      1     AGO                   3305   \n",
              "4     1979       6                      1     AGO                   3300   \n",
              "...    ...     ...                    ...     ...                    ...   \n",
              "4589  1998     212                      1     ZWE                   2204   \n",
              "4590  1999     212                      1     ZWE                   2167   \n",
              "4591  2000     212                      1     ZWE                   2023   \n",
              "4592  2001     212  1.79769313486232e+308     ZWE  1.79769313486232e+308   \n",
              "4593  2002     212  1.79769313486232e+308     ZWE  1.79769313486232e+308   \n",
              "\n",
              "                        gdp  \n",
              "0     1.79769313486232e+308  \n",
              "1     1.79769313486232e+308  \n",
              "2     1.79769313486232e+308  \n",
              "3     1.79769313486232e+308  \n",
              "4     1.79769313486232e+308  \n",
              "...                     ...  \n",
              "4589                   5732  \n",
              "4590                   5494  \n",
              "4591                   7204  \n",
              "4592  1.79769313486232e+308  \n",
              "4593  1.79769313486232e+308  \n",
              "\n",
              "[4594 rows x 6 columns]"
            ]
          },
          "execution_count": 412,
          "metadata": {},
          "output_type": "execute_result"
        }
      ],
      "source": [
        "# All of the columns to keep\n",
        "keep_col = [\"year\", \"country\", \"region\", \"contcod\", \"gdpppp\", \"gdp\"]\n",
        "\n",
        "# Dropping unneeded columns\n",
        "cleaned_gdp = gdp_data[keep_col]\n",
        "\n",
        "cleaned_gdp"
      ]
    },
    {
      "cell_type": "markdown",
      "metadata": {
        "id": "RkSNVASkQA9E"
      },
      "source": [
        "This cell removes all rows with a 'year' value that is not between 1997-2002 and those with NaN values."
      ]
    },
    {
      "cell_type": "code",
      "execution_count": 413,
      "metadata": {
        "colab": {
          "base_uri": "https://localhost:8080/",
          "height": 423
        },
        "id": "0Uvyfi-rQs7I",
        "outputId": "1cc05812-a154-490c-c2f7-0c283bf64364"
      },
      "outputs": [
        {
          "data": {
            "text/html": [
              "<div>\n",
              "<style scoped>\n",
              "    .dataframe tbody tr th:only-of-type {\n",
              "        vertical-align: middle;\n",
              "    }\n",
              "\n",
              "    .dataframe tbody tr th {\n",
              "        vertical-align: top;\n",
              "    }\n",
              "\n",
              "    .dataframe thead th {\n",
              "        text-align: right;\n",
              "    }\n",
              "</style>\n",
              "<table border=\"1\" class=\"dataframe\">\n",
              "  <thead>\n",
              "    <tr style=\"text-align: right;\">\n",
              "      <th></th>\n",
              "      <th>year</th>\n",
              "      <th>country</th>\n",
              "      <th>region</th>\n",
              "      <th>contcod</th>\n",
              "      <th>gdpppp</th>\n",
              "      <th>gdp</th>\n",
              "    </tr>\n",
              "  </thead>\n",
              "  <tbody>\n",
              "    <tr>\n",
              "      <th>22</th>\n",
              "      <td>1997</td>\n",
              "      <td>6</td>\n",
              "      <td>1</td>\n",
              "      <td>AGO</td>\n",
              "      <td>2420.0</td>\n",
              "      <td>7675.0</td>\n",
              "    </tr>\n",
              "    <tr>\n",
              "      <th>23</th>\n",
              "      <td>1998</td>\n",
              "      <td>6</td>\n",
              "      <td>1</td>\n",
              "      <td>AGO</td>\n",
              "      <td>2508.0</td>\n",
              "      <td>6445.0</td>\n",
              "    </tr>\n",
              "    <tr>\n",
              "      <th>24</th>\n",
              "      <td>1999</td>\n",
              "      <td>6</td>\n",
              "      <td>1</td>\n",
              "      <td>AGO</td>\n",
              "      <td>2522.0</td>\n",
              "      <td>6090.0</td>\n",
              "    </tr>\n",
              "    <tr>\n",
              "      <th>25</th>\n",
              "      <td>2000</td>\n",
              "      <td>6</td>\n",
              "      <td>1</td>\n",
              "      <td>AGO</td>\n",
              "      <td>2502.0</td>\n",
              "      <td>8858.0</td>\n",
              "    </tr>\n",
              "    <tr>\n",
              "      <th>48</th>\n",
              "      <td>1997</td>\n",
              "      <td>2</td>\n",
              "      <td>4</td>\n",
              "      <td>ALB</td>\n",
              "      <td>2752.0</td>\n",
              "      <td>2295.0</td>\n",
              "    </tr>\n",
              "    <tr>\n",
              "      <th>...</th>\n",
              "      <td>...</td>\n",
              "      <td>...</td>\n",
              "      <td>...</td>\n",
              "      <td>...</td>\n",
              "      <td>...</td>\n",
              "      <td>...</td>\n",
              "    </tr>\n",
              "    <tr>\n",
              "      <th>4589</th>\n",
              "      <td>1998</td>\n",
              "      <td>212</td>\n",
              "      <td>1</td>\n",
              "      <td>ZWE</td>\n",
              "      <td>2204.0</td>\n",
              "      <td>5732.0</td>\n",
              "    </tr>\n",
              "    <tr>\n",
              "      <th>4590</th>\n",
              "      <td>1999</td>\n",
              "      <td>212</td>\n",
              "      <td>1</td>\n",
              "      <td>ZWE</td>\n",
              "      <td>2167.0</td>\n",
              "      <td>5494.0</td>\n",
              "    </tr>\n",
              "    <tr>\n",
              "      <th>4591</th>\n",
              "      <td>2000</td>\n",
              "      <td>212</td>\n",
              "      <td>1</td>\n",
              "      <td>ZWE</td>\n",
              "      <td>2023.0</td>\n",
              "      <td>7204.0</td>\n",
              "    </tr>\n",
              "    <tr>\n",
              "      <th>4592</th>\n",
              "      <td>2001</td>\n",
              "      <td>212</td>\n",
              "      <td>1.79769313486232e+308</td>\n",
              "      <td>ZWE</td>\n",
              "      <td>inf</td>\n",
              "      <td>inf</td>\n",
              "    </tr>\n",
              "    <tr>\n",
              "      <th>4593</th>\n",
              "      <td>2002</td>\n",
              "      <td>212</td>\n",
              "      <td>1.79769313486232e+308</td>\n",
              "      <td>ZWE</td>\n",
              "      <td>inf</td>\n",
              "      <td>inf</td>\n",
              "    </tr>\n",
              "  </tbody>\n",
              "</table>\n",
              "<p>915 rows × 6 columns</p>\n",
              "</div>"
            ],
            "text/plain": [
              "      year country                 region contcod  gdpppp     gdp\n",
              "22    1997       6                      1     AGO  2420.0  7675.0\n",
              "23    1998       6                      1     AGO  2508.0  6445.0\n",
              "24    1999       6                      1     AGO  2522.0  6090.0\n",
              "25    2000       6                      1     AGO  2502.0  8858.0\n",
              "48    1997       2                      4     ALB  2752.0  2295.0\n",
              "...    ...     ...                    ...     ...     ...     ...\n",
              "4589  1998     212                      1     ZWE  2204.0  5732.0\n",
              "4590  1999     212                      1     ZWE  2167.0  5494.0\n",
              "4591  2000     212                      1     ZWE  2023.0  7204.0\n",
              "4592  2001     212  1.79769313486232e+308     ZWE     inf     inf\n",
              "4593  2002     212  1.79769313486232e+308     ZWE     inf     inf\n",
              "\n",
              "[915 rows x 6 columns]"
            ]
          },
          "execution_count": 413,
          "metadata": {},
          "output_type": "execute_result"
        }
      ],
      "source": [
        "# Filters for 'year' between 1997-2002\n",
        "cleaned_gdp = cleaned_gdp[(cleaned_gdp[\"year\"] >= 1997) & (cleaned_gdp[\"year\"] <= 2002)]\n",
        "\n",
        "# Drops NaN values\n",
        "cleaned_gdp = cleaned_gdp.dropna()\n",
        "\n",
        "cleaned_gdp[\"gdpppp\"] = cleaned_gdp[\"gdpppp\"].astype(float)\n",
        "cleaned_gdp[\"gdp\"] = cleaned_gdp[\"gdp\"].astype(float)\n",
        "\n",
        "cleaned_gdp"
      ]
    },
    {
      "cell_type": "markdown",
      "metadata": {
        "id": "7AaGAegzXwLB"
      },
      "source": [
        "## Cleaning Polarization Dataset"
      ]
    },
    {
      "cell_type": "markdown",
      "metadata": {
        "id": "0ORhf4cZdVr7"
      },
      "source": [
        "This cell removes all unnecessary columns from the polarization dataset. It keeps the columns: Chamber, Congress, Year,\n",
        "Mean difference between the Dem & Rep parties, Proportion of moderates overall, and Overlap"
      ]
    },
    {
      "cell_type": "code",
      "execution_count": 414,
      "metadata": {
        "colab": {
          "base_uri": "https://localhost:8080/",
          "height": 423
        },
        "id": "b0J7MOkNXyyj",
        "outputId": "52163316-7750-418d-9927-b2ccf31265fb"
      },
      "outputs": [
        {
          "data": {
            "text/html": [
              "<div>\n",
              "<style scoped>\n",
              "    .dataframe tbody tr th:only-of-type {\n",
              "        vertical-align: middle;\n",
              "    }\n",
              "\n",
              "    .dataframe tbody tr th {\n",
              "        vertical-align: top;\n",
              "    }\n",
              "\n",
              "    .dataframe thead th {\n",
              "        text-align: right;\n",
              "    }\n",
              "</style>\n",
              "<table border=\"1\" class=\"dataframe\">\n",
              "  <thead>\n",
              "    <tr style=\"text-align: right;\">\n",
              "      <th></th>\n",
              "      <th>chamber</th>\n",
              "      <th>congress</th>\n",
              "      <th>year</th>\n",
              "      <th>party.mean.diff.d1</th>\n",
              "      <th>prop.moderate.d1</th>\n",
              "      <th>overlap</th>\n",
              "    </tr>\n",
              "  </thead>\n",
              "  <tbody>\n",
              "    <tr>\n",
              "      <th>0</th>\n",
              "      <td>House</td>\n",
              "      <td>46</td>\n",
              "      <td>1879</td>\n",
              "      <td>0.785883</td>\n",
              "      <td>0.130435</td>\n",
              "      <td>0.0</td>\n",
              "    </tr>\n",
              "    <tr>\n",
              "      <th>1</th>\n",
              "      <td>Senate</td>\n",
              "      <td>46</td>\n",
              "      <td>1879</td>\n",
              "      <td>0.747943</td>\n",
              "      <td>0.160494</td>\n",
              "      <td>0.0</td>\n",
              "    </tr>\n",
              "    <tr>\n",
              "      <th>2</th>\n",
              "      <td>House</td>\n",
              "      <td>47</td>\n",
              "      <td>1881</td>\n",
              "      <td>0.782714</td>\n",
              "      <td>0.100324</td>\n",
              "      <td>0.0</td>\n",
              "    </tr>\n",
              "    <tr>\n",
              "      <th>3</th>\n",
              "      <td>Senate</td>\n",
              "      <td>47</td>\n",
              "      <td>1881</td>\n",
              "      <td>0.763571</td>\n",
              "      <td>0.141176</td>\n",
              "      <td>0.0</td>\n",
              "    </tr>\n",
              "    <tr>\n",
              "      <th>4</th>\n",
              "      <td>House</td>\n",
              "      <td>48</td>\n",
              "      <td>1883</td>\n",
              "      <td>0.724404</td>\n",
              "      <td>0.216374</td>\n",
              "      <td>0.0</td>\n",
              "    </tr>\n",
              "    <tr>\n",
              "      <th>...</th>\n",
              "      <td>...</td>\n",
              "      <td>...</td>\n",
              "      <td>...</td>\n",
              "      <td>...</td>\n",
              "      <td>...</td>\n",
              "      <td>...</td>\n",
              "    </tr>\n",
              "    <tr>\n",
              "      <th>139</th>\n",
              "      <td>Senate</td>\n",
              "      <td>115</td>\n",
              "      <td>2017</td>\n",
              "      <td>0.826032</td>\n",
              "      <td>0.171429</td>\n",
              "      <td>0.0</td>\n",
              "    </tr>\n",
              "    <tr>\n",
              "      <th>140</th>\n",
              "      <td>House</td>\n",
              "      <td>116</td>\n",
              "      <td>2019</td>\n",
              "      <td>0.873306</td>\n",
              "      <td>0.101580</td>\n",
              "      <td>0.0</td>\n",
              "    </tr>\n",
              "    <tr>\n",
              "      <th>141</th>\n",
              "      <td>Senate</td>\n",
              "      <td>116</td>\n",
              "      <td>2019</td>\n",
              "      <td>0.840789</td>\n",
              "      <td>0.156863</td>\n",
              "      <td>0.0</td>\n",
              "    </tr>\n",
              "    <tr>\n",
              "      <th>142</th>\n",
              "      <td>House</td>\n",
              "      <td>117</td>\n",
              "      <td>2021</td>\n",
              "      <td>0.885473</td>\n",
              "      <td>0.079545</td>\n",
              "      <td>0.0</td>\n",
              "    </tr>\n",
              "    <tr>\n",
              "      <th>143</th>\n",
              "      <td>Senate</td>\n",
              "      <td>117</td>\n",
              "      <td>2021</td>\n",
              "      <td>0.873317</td>\n",
              "      <td>0.156863</td>\n",
              "      <td>0.0</td>\n",
              "    </tr>\n",
              "  </tbody>\n",
              "</table>\n",
              "<p>144 rows × 6 columns</p>\n",
              "</div>"
            ],
            "text/plain": [
              "    chamber  congress  year  party.mean.diff.d1  prop.moderate.d1  overlap\n",
              "0     House        46  1879            0.785883          0.130435      0.0\n",
              "1    Senate        46  1879            0.747943          0.160494      0.0\n",
              "2     House        47  1881            0.782714          0.100324      0.0\n",
              "3    Senate        47  1881            0.763571          0.141176      0.0\n",
              "4     House        48  1883            0.724404          0.216374      0.0\n",
              "..      ...       ...   ...                 ...               ...      ...\n",
              "139  Senate       115  2017            0.826032          0.171429      0.0\n",
              "140   House       116  2019            0.873306          0.101580      0.0\n",
              "141  Senate       116  2019            0.840789          0.156863      0.0\n",
              "142   House       117  2021            0.885473          0.079545      0.0\n",
              "143  Senate       117  2021            0.873317          0.156863      0.0\n",
              "\n",
              "[144 rows x 6 columns]"
            ]
          },
          "execution_count": 414,
          "metadata": {},
          "output_type": "execute_result"
        }
      ],
      "source": [
        "# All the columns to keep\n",
        "keep_column = [\"chamber\", \"congress\", \"year\", \"party.mean.diff.d1\", \"prop.moderate.d1\", \"overlap\"]\n",
        "\n",
        "# Calls the columns we kept from dataset\n",
        "clean_polarization = polarization_data[keep_column]\n",
        "clean_polarization"
      ]
    },
    {
      "cell_type": "markdown",
      "metadata": {
        "id": "tkaX05wpdh7K"
      },
      "source": [
        "This cell removes keeps only the years from 1997-2002 in the polarization dataset. It also drops all NaN values."
      ]
    },
    {
      "cell_type": "code",
      "execution_count": 415,
      "metadata": {
        "colab": {
          "base_uri": "https://localhost:8080/",
          "height": 237
        },
        "id": "KTtcOmcIdpam",
        "outputId": "42c6ca3a-a878-4082-fba5-d79204f94f8c"
      },
      "outputs": [
        {
          "data": {
            "text/html": [
              "<div>\n",
              "<style scoped>\n",
              "    .dataframe tbody tr th:only-of-type {\n",
              "        vertical-align: middle;\n",
              "    }\n",
              "\n",
              "    .dataframe tbody tr th {\n",
              "        vertical-align: top;\n",
              "    }\n",
              "\n",
              "    .dataframe thead th {\n",
              "        text-align: right;\n",
              "    }\n",
              "</style>\n",
              "<table border=\"1\" class=\"dataframe\">\n",
              "  <thead>\n",
              "    <tr style=\"text-align: right;\">\n",
              "      <th></th>\n",
              "      <th>chamber</th>\n",
              "      <th>congress</th>\n",
              "      <th>year</th>\n",
              "      <th>party.mean.diff.d1</th>\n",
              "      <th>prop.moderate.d1</th>\n",
              "      <th>overlap</th>\n",
              "    </tr>\n",
              "  </thead>\n",
              "  <tbody>\n",
              "    <tr>\n",
              "      <th>118</th>\n",
              "      <td>House</td>\n",
              "      <td>105</td>\n",
              "      <td>1997</td>\n",
              "      <td>0.777287</td>\n",
              "      <td>0.155405</td>\n",
              "      <td>0.018059</td>\n",
              "    </tr>\n",
              "    <tr>\n",
              "      <th>119</th>\n",
              "      <td>Senate</td>\n",
              "      <td>105</td>\n",
              "      <td>1997</td>\n",
              "      <td>0.683943</td>\n",
              "      <td>0.180000</td>\n",
              "      <td>0.000000</td>\n",
              "    </tr>\n",
              "    <tr>\n",
              "      <th>120</th>\n",
              "      <td>House</td>\n",
              "      <td>106</td>\n",
              "      <td>1999</td>\n",
              "      <td>0.777078</td>\n",
              "      <td>0.156818</td>\n",
              "      <td>0.015982</td>\n",
              "    </tr>\n",
              "    <tr>\n",
              "      <th>121</th>\n",
              "      <td>Senate</td>\n",
              "      <td>106</td>\n",
              "      <td>1999</td>\n",
              "      <td>0.658384</td>\n",
              "      <td>0.215686</td>\n",
              "      <td>0.068627</td>\n",
              "    </tr>\n",
              "    <tr>\n",
              "      <th>122</th>\n",
              "      <td>House</td>\n",
              "      <td>107</td>\n",
              "      <td>2001</td>\n",
              "      <td>0.786643</td>\n",
              "      <td>0.146396</td>\n",
              "      <td>0.009050</td>\n",
              "    </tr>\n",
              "    <tr>\n",
              "      <th>123</th>\n",
              "      <td>Senate</td>\n",
              "      <td>107</td>\n",
              "      <td>2001</td>\n",
              "      <td>0.663180</td>\n",
              "      <td>0.217822</td>\n",
              "      <td>0.060000</td>\n",
              "    </tr>\n",
              "  </tbody>\n",
              "</table>\n",
              "</div>"
            ],
            "text/plain": [
              "    chamber  congress  year  party.mean.diff.d1  prop.moderate.d1   overlap\n",
              "118   House       105  1997            0.777287          0.155405  0.018059\n",
              "119  Senate       105  1997            0.683943          0.180000  0.000000\n",
              "120   House       106  1999            0.777078          0.156818  0.015982\n",
              "121  Senate       106  1999            0.658384          0.215686  0.068627\n",
              "122   House       107  2001            0.786643          0.146396  0.009050\n",
              "123  Senate       107  2001            0.663180          0.217822  0.060000"
            ]
          },
          "execution_count": 415,
          "metadata": {},
          "output_type": "execute_result"
        }
      ],
      "source": [
        "# Filters for 'year' between 1997-2002\n",
        "clean_polarization = clean_polarization[(clean_polarization[\"year\"] >= 1997) & (clean_polarization[\"year\"] <= 2002)]\n",
        "\n",
        "clean_polarization"
      ]
    },
    {
      "cell_type": "markdown",
      "metadata": {
        "id": "hMvzApOPvXUB"
      },
      "source": [
        "# **Question 1**\n",
        "\n",
        "Is GDP increasing or decreasing on a national and state level? What does the trend look like when compared to polarization levels?\n",
        "\n",
        "What is the trend?\n",
        "\n",
        "This one will join all 3 datasets by year\n",
        "\n",
        "\n",
        "\n",
        "*   left join or right join?\n",
        "*   List item\n",
        "\n",
        "\n"
      ]
    },
    {
      "cell_type": "markdown",
      "metadata": {
        "id": "3eD_vIrF-5D_"
      },
      "source": [
        "# **Question 2**\n",
        "\n",
        "For each year, which countries and states have the lowest GDP?\n",
        "\n",
        "This one will join two datasets by year\n",
        "\n",
        "\n",
        "\n",
        "*   which gdp column are we using\n",
        "  *   what unit is this column in? check website later and only use \"gdp\"\n",
        "*   it doesnt make sense to merge these datasets together at the beginning. maybe we can merge them together after sorting?\n",
        "\n",
        "\n",
        "\n"
      ]
    },
    {
      "cell_type": "code",
      "execution_count": 416,
      "metadata": {
        "colab": {
          "base_uri": "https://localhost:8080/",
          "height": 423
        },
        "id": "nLiYzlxF_c2l",
        "outputId": "75e34478-ce6e-459c-b8e1-395bebccce53"
      },
      "outputs": [
        {
          "data": {
            "text/html": [
              "<div>\n",
              "<style scoped>\n",
              "    .dataframe tbody tr th:only-of-type {\n",
              "        vertical-align: middle;\n",
              "    }\n",
              "\n",
              "    .dataframe tbody tr th {\n",
              "        vertical-align: top;\n",
              "    }\n",
              "\n",
              "    .dataframe thead th {\n",
              "        text-align: right;\n",
              "    }\n",
              "</style>\n",
              "<table border=\"1\" class=\"dataframe\">\n",
              "  <thead>\n",
              "    <tr style=\"text-align: right;\">\n",
              "      <th></th>\n",
              "      <th>year</th>\n",
              "      <th>country</th>\n",
              "      <th>region</th>\n",
              "      <th>contcod</th>\n",
              "      <th>gdpppp</th>\n",
              "      <th>gdp</th>\n",
              "      <th>name</th>\n",
              "      <th>description</th>\n",
              "    </tr>\n",
              "  </thead>\n",
              "  <tbody>\n",
              "    <tr>\n",
              "      <th>22</th>\n",
              "      <td>1997</td>\n",
              "      <td>6</td>\n",
              "      <td>1</td>\n",
              "      <td>AGO</td>\n",
              "      <td>2420.0</td>\n",
              "      <td>7675.0</td>\n",
              "      <td>NaN</td>\n",
              "      <td>NaN</td>\n",
              "    </tr>\n",
              "    <tr>\n",
              "      <th>23</th>\n",
              "      <td>1998</td>\n",
              "      <td>6</td>\n",
              "      <td>1</td>\n",
              "      <td>AGO</td>\n",
              "      <td>2508.0</td>\n",
              "      <td>6445.0</td>\n",
              "      <td>NaN</td>\n",
              "      <td>NaN</td>\n",
              "    </tr>\n",
              "    <tr>\n",
              "      <th>24</th>\n",
              "      <td>1999</td>\n",
              "      <td>6</td>\n",
              "      <td>1</td>\n",
              "      <td>AGO</td>\n",
              "      <td>2522.0</td>\n",
              "      <td>6090.0</td>\n",
              "      <td>NaN</td>\n",
              "      <td>NaN</td>\n",
              "    </tr>\n",
              "    <tr>\n",
              "      <th>25</th>\n",
              "      <td>2000</td>\n",
              "      <td>6</td>\n",
              "      <td>1</td>\n",
              "      <td>AGO</td>\n",
              "      <td>2502.0</td>\n",
              "      <td>8858.0</td>\n",
              "      <td>NaN</td>\n",
              "      <td>NaN</td>\n",
              "    </tr>\n",
              "    <tr>\n",
              "      <th>48</th>\n",
              "      <td>1997</td>\n",
              "      <td>2</td>\n",
              "      <td>4</td>\n",
              "      <td>ALB</td>\n",
              "      <td>2752.0</td>\n",
              "      <td>2295.0</td>\n",
              "      <td>NaN</td>\n",
              "      <td>NaN</td>\n",
              "    </tr>\n",
              "    <tr>\n",
              "      <th>...</th>\n",
              "      <td>...</td>\n",
              "      <td>...</td>\n",
              "      <td>...</td>\n",
              "      <td>...</td>\n",
              "      <td>...</td>\n",
              "      <td>...</td>\n",
              "      <td>...</td>\n",
              "      <td>...</td>\n",
              "    </tr>\n",
              "    <tr>\n",
              "      <th>28723</th>\n",
              "      <td>2002</td>\n",
              "      <td>NaN</td>\n",
              "      <td>NaN</td>\n",
              "      <td>NaN</td>\n",
              "      <td>NaN</td>\n",
              "      <td>2184.6</td>\n",
              "      <td>Wyoming</td>\n",
              "      <td>Trade</td>\n",
              "    </tr>\n",
              "    <tr>\n",
              "      <th>28724</th>\n",
              "      <td>2002</td>\n",
              "      <td>NaN</td>\n",
              "      <td>NaN</td>\n",
              "      <td>NaN</td>\n",
              "      <td>NaN</td>\n",
              "      <td>1548.6</td>\n",
              "      <td>Wyoming</td>\n",
              "      <td>Transportation and utilities</td>\n",
              "    </tr>\n",
              "    <tr>\n",
              "      <th>28725</th>\n",
              "      <td>2002</td>\n",
              "      <td>NaN</td>\n",
              "      <td>NaN</td>\n",
              "      <td>NaN</td>\n",
              "      <td>NaN</td>\n",
              "      <td>1287.0</td>\n",
              "      <td>Wyoming</td>\n",
              "      <td>Manufacturing and information</td>\n",
              "    </tr>\n",
              "    <tr>\n",
              "      <th>28726</th>\n",
              "      <td>2002</td>\n",
              "      <td>NaN</td>\n",
              "      <td>NaN</td>\n",
              "      <td>NaN</td>\n",
              "      <td>NaN</td>\n",
              "      <td>6204.0</td>\n",
              "      <td>Wyoming</td>\n",
              "      <td>Private goods-producing industries 2/</td>\n",
              "    </tr>\n",
              "    <tr>\n",
              "      <th>28727</th>\n",
              "      <td>2002</td>\n",
              "      <td>NaN</td>\n",
              "      <td>NaN</td>\n",
              "      <td>NaN</td>\n",
              "      <td>NaN</td>\n",
              "      <td>9754.2</td>\n",
              "      <td>Wyoming</td>\n",
              "      <td>Private services-providing industries 3/</td>\n",
              "    </tr>\n",
              "  </tbody>\n",
              "</table>\n",
              "<p>29643 rows × 8 columns</p>\n",
              "</div>"
            ],
            "text/plain": [
              "       year country region contcod  gdpppp     gdp     name  \\\n",
              "22     1997       6      1     AGO  2420.0  7675.0      NaN   \n",
              "23     1998       6      1     AGO  2508.0  6445.0      NaN   \n",
              "24     1999       6      1     AGO  2522.0  6090.0      NaN   \n",
              "25     2000       6      1     AGO  2502.0  8858.0      NaN   \n",
              "48     1997       2      4     ALB  2752.0  2295.0      NaN   \n",
              "...     ...     ...    ...     ...     ...     ...      ...   \n",
              "28723  2002     NaN    NaN     NaN     NaN  2184.6  Wyoming   \n",
              "28724  2002     NaN    NaN     NaN     NaN  1548.6  Wyoming   \n",
              "28725  2002     NaN    NaN     NaN     NaN  1287.0  Wyoming   \n",
              "28726  2002     NaN    NaN     NaN     NaN  6204.0  Wyoming   \n",
              "28727  2002     NaN    NaN     NaN     NaN  9754.2  Wyoming   \n",
              "\n",
              "                                    description  \n",
              "22                                          NaN  \n",
              "23                                          NaN  \n",
              "24                                          NaN  \n",
              "25                                          NaN  \n",
              "48                                          NaN  \n",
              "...                                         ...  \n",
              "28723                                     Trade  \n",
              "28724              Transportation and utilities  \n",
              "28725             Manufacturing and information  \n",
              "28726     Private goods-producing industries 2/  \n",
              "28727  Private services-providing industries 3/  \n",
              "\n",
              "[29643 rows x 8 columns]"
            ]
          },
          "execution_count": 416,
          "metadata": {},
          "output_type": "execute_result"
        }
      ],
      "source": [
        "# Puts the two datasets together\n",
        "q2_data = pd.concat([cleaned_gdp, industries_data])\n",
        "q2_data"
      ]
    },
    {
      "cell_type": "code",
      "execution_count": 417,
      "metadata": {
        "colab": {
          "base_uri": "https://localhost:8080/",
          "height": 990
        },
        "id": "m_lCAO7-mUes",
        "outputId": "6d75322d-bb2b-4eb3-bf8c-7d0436bdf3e9"
      },
      "outputs": [
        {
          "data": {
            "text/html": [
              "<div>\n",
              "<style scoped>\n",
              "    .dataframe tbody tr th:only-of-type {\n",
              "        vertical-align: middle;\n",
              "    }\n",
              "\n",
              "    .dataframe tbody tr th {\n",
              "        vertical-align: top;\n",
              "    }\n",
              "\n",
              "    .dataframe thead th {\n",
              "        text-align: right;\n",
              "    }\n",
              "</style>\n",
              "<table border=\"1\" class=\"dataframe\">\n",
              "  <thead>\n",
              "    <tr style=\"text-align: right;\">\n",
              "      <th></th>\n",
              "      <th>year</th>\n",
              "      <th>gdp</th>\n",
              "      <th>name</th>\n",
              "    </tr>\n",
              "  </thead>\n",
              "  <tbody>\n",
              "    <tr>\n",
              "      <th>4426</th>\n",
              "      <td>1997</td>\n",
              "      <td>245.0</td>\n",
              "      <td>WSM</td>\n",
              "    </tr>\n",
              "    <tr>\n",
              "      <th>1562</th>\n",
              "      <td>1997</td>\n",
              "      <td>269.0</td>\n",
              "      <td>GNB</td>\n",
              "    </tr>\n",
              "    <tr>\n",
              "      <th>1536</th>\n",
              "      <td>1997</td>\n",
              "      <td>410.0</td>\n",
              "      <td>GMB</td>\n",
              "    </tr>\n",
              "    <tr>\n",
              "      <th>1590</th>\n",
              "      <td>1997</td>\n",
              "      <td>498.0</td>\n",
              "      <td>GNQ</td>\n",
              "    </tr>\n",
              "    <tr>\n",
              "      <th>1068</th>\n",
              "      <td>1997</td>\n",
              "      <td>503.0</td>\n",
              "      <td>DJI</td>\n",
              "    </tr>\n",
              "    <tr>\n",
              "      <th>1563</th>\n",
              "      <td>1998</td>\n",
              "      <td>206.0</td>\n",
              "      <td>GNB</td>\n",
              "    </tr>\n",
              "    <tr>\n",
              "      <th>4427</th>\n",
              "      <td>1998</td>\n",
              "      <td>224.0</td>\n",
              "      <td>WSM</td>\n",
              "    </tr>\n",
              "    <tr>\n",
              "      <th>1537</th>\n",
              "      <td>1998</td>\n",
              "      <td>417.0</td>\n",
              "      <td>GMB</td>\n",
              "    </tr>\n",
              "    <tr>\n",
              "      <th>1591</th>\n",
              "      <td>1998</td>\n",
              "      <td>456.0</td>\n",
              "      <td>GNQ</td>\n",
              "    </tr>\n",
              "    <tr>\n",
              "      <th>1069</th>\n",
              "      <td>1998</td>\n",
              "      <td>514.0</td>\n",
              "      <td>DJI</td>\n",
              "    </tr>\n",
              "    <tr>\n",
              "      <th>1564</th>\n",
              "      <td>1999</td>\n",
              "      <td>224.0</td>\n",
              "      <td>GNB</td>\n",
              "    </tr>\n",
              "    <tr>\n",
              "      <th>4428</th>\n",
              "      <td>1999</td>\n",
              "      <td>233.0</td>\n",
              "      <td>WSM</td>\n",
              "    </tr>\n",
              "    <tr>\n",
              "      <th>1538</th>\n",
              "      <td>1999</td>\n",
              "      <td>432.0</td>\n",
              "      <td>GMB</td>\n",
              "    </tr>\n",
              "    <tr>\n",
              "      <th>1070</th>\n",
              "      <td>1999</td>\n",
              "      <td>536.0</td>\n",
              "      <td>DJI</td>\n",
              "    </tr>\n",
              "    <tr>\n",
              "      <th>906</th>\n",
              "      <td>1999</td>\n",
              "      <td>588.0</td>\n",
              "      <td>CPV</td>\n",
              "    </tr>\n",
              "    <tr>\n",
              "      <th>1565</th>\n",
              "      <td>2000</td>\n",
              "      <td>215.0</td>\n",
              "      <td>GNB</td>\n",
              "    </tr>\n",
              "    <tr>\n",
              "      <th>4429</th>\n",
              "      <td>2000</td>\n",
              "      <td>237.0</td>\n",
              "      <td>WSM</td>\n",
              "    </tr>\n",
              "    <tr>\n",
              "      <th>1539</th>\n",
              "      <td>2000</td>\n",
              "      <td>422.0</td>\n",
              "      <td>GMB</td>\n",
              "    </tr>\n",
              "    <tr>\n",
              "      <th>1071</th>\n",
              "      <td>2000</td>\n",
              "      <td>553.0</td>\n",
              "      <td>DJI</td>\n",
              "    </tr>\n",
              "    <tr>\n",
              "      <th>907</th>\n",
              "      <td>2000</td>\n",
              "      <td>558.0</td>\n",
              "      <td>CPV</td>\n",
              "    </tr>\n",
              "    <tr>\n",
              "      <th>52</th>\n",
              "      <td>2001</td>\n",
              "      <td>inf</td>\n",
              "      <td>ALB</td>\n",
              "    </tr>\n",
              "    <tr>\n",
              "      <th>3272</th>\n",
              "      <td>2001</td>\n",
              "      <td>inf</td>\n",
              "      <td>PHL</td>\n",
              "    </tr>\n",
              "    <tr>\n",
              "      <th>3244</th>\n",
              "      <td>2001</td>\n",
              "      <td>inf</td>\n",
              "      <td>PER</td>\n",
              "    </tr>\n",
              "    <tr>\n",
              "      <th>3216</th>\n",
              "      <td>2001</td>\n",
              "      <td>inf</td>\n",
              "      <td>PAN</td>\n",
              "    </tr>\n",
              "    <tr>\n",
              "      <th>3188</th>\n",
              "      <td>2001</td>\n",
              "      <td>inf</td>\n",
              "      <td>PAK</td>\n",
              "    </tr>\n",
              "    <tr>\n",
              "      <th>53</th>\n",
              "      <td>2002</td>\n",
              "      <td>inf</td>\n",
              "      <td>ALB</td>\n",
              "    </tr>\n",
              "    <tr>\n",
              "      <th>3273</th>\n",
              "      <td>2002</td>\n",
              "      <td>inf</td>\n",
              "      <td>PHL</td>\n",
              "    </tr>\n",
              "    <tr>\n",
              "      <th>3245</th>\n",
              "      <td>2002</td>\n",
              "      <td>inf</td>\n",
              "      <td>PER</td>\n",
              "    </tr>\n",
              "    <tr>\n",
              "      <th>3217</th>\n",
              "      <td>2002</td>\n",
              "      <td>inf</td>\n",
              "      <td>PAN</td>\n",
              "    </tr>\n",
              "    <tr>\n",
              "      <th>3189</th>\n",
              "      <td>2002</td>\n",
              "      <td>inf</td>\n",
              "      <td>PAK</td>\n",
              "    </tr>\n",
              "  </tbody>\n",
              "</table>\n",
              "</div>"
            ],
            "text/plain": [
              "      year    gdp name\n",
              "4426  1997  245.0  WSM\n",
              "1562  1997  269.0  GNB\n",
              "1536  1997  410.0  GMB\n",
              "1590  1997  498.0  GNQ\n",
              "1068  1997  503.0  DJI\n",
              "1563  1998  206.0  GNB\n",
              "4427  1998  224.0  WSM\n",
              "1537  1998  417.0  GMB\n",
              "1591  1998  456.0  GNQ\n",
              "1069  1998  514.0  DJI\n",
              "1564  1999  224.0  GNB\n",
              "4428  1999  233.0  WSM\n",
              "1538  1999  432.0  GMB\n",
              "1070  1999  536.0  DJI\n",
              "906   1999  588.0  CPV\n",
              "1565  2000  215.0  GNB\n",
              "4429  2000  237.0  WSM\n",
              "1539  2000  422.0  GMB\n",
              "1071  2000  553.0  DJI\n",
              "907   2000  558.0  CPV\n",
              "52    2001    inf  ALB\n",
              "3272  2001    inf  PHL\n",
              "3244  2001    inf  PER\n",
              "3216  2001    inf  PAN\n",
              "3188  2001    inf  PAK\n",
              "53    2002    inf  ALB\n",
              "3273  2002    inf  PHL\n",
              "3245  2002    inf  PER\n",
              "3217  2002    inf  PAN\n",
              "3189  2002    inf  PAK"
            ]
          },
          "execution_count": 417,
          "metadata": {},
          "output_type": "execute_result"
        }
      ],
      "source": [
        "# Sorts country gdp in ascending order. Only shows the 5 lowest gdps per year\n",
        "years_col = [1997, 1998, 1999, 2000, 2001, 2002]\n",
        "lowest_country_gdp_list = []\n",
        "\n",
        "for year in years_col:\n",
        "    curr_year = cleaned_gdp[cleaned_gdp[\"year\"] == year]\n",
        "    sorted_gdp = curr_year.sort_values(by=\"gdp\", ascending=True)\n",
        "    sorted_gdp = sorted_gdp.iloc[0:5]\n",
        "    lowest_country_gdp_list.append(sorted_gdp.iloc[0:5])\n",
        "lowest_country_gdp_df = pd.concat(lowest_country_gdp_list)\n",
        "\n",
        "lowest_country_gdp_df[\"name\"] = lowest_country_gdp_df[\"contcod\"]\n",
        "\n",
        "lowest_country_gdp_df = lowest_country_gdp_df.drop(columns= [\"country\", \"gdpppp\", \"contcod\", \"region\"])\n",
        "\n",
        "lowest_country_gdp_df"
      ]
    },
    {
      "cell_type": "code",
      "execution_count": 418,
      "metadata": {},
      "outputs": [
        {
          "name": "stdout",
          "output_type": "stream",
          "text": [
            "      year    gdp name\n",
            "4426  1997  245.0  WSM\n",
            "1562  1997  269.0  GNB\n",
            "1536  1997  410.0  GMB\n",
            "1590  1997  498.0  GNQ\n",
            "1068  1997  503.0  DJI\n",
            "1563  1998  206.0  GNB\n",
            "4427  1998  224.0  WSM\n",
            "1537  1998  417.0  GMB\n",
            "1591  1998  456.0  GNQ\n",
            "1069  1998  514.0  DJI\n",
            "1564  1999  224.0  GNB\n",
            "4428  1999  233.0  WSM\n",
            "1538  1999  432.0  GMB\n",
            "1070  1999  536.0  DJI\n",
            "906   1999  588.0  CPV\n",
            "1565  2000  215.0  GNB\n",
            "4429  2000  237.0  WSM\n",
            "1539  2000  422.0  GMB\n",
            "1071  2000  553.0  DJI\n",
            "907   2000  558.0  CPV\n",
            "52    2001    0.0  ALB\n",
            "3272  2001    0.0  PHL\n",
            "3244  2001    0.0  PER\n",
            "3216  2001    0.0  PAN\n",
            "3188  2001    0.0  PAK\n",
            "53    2002    0.0  ALB\n",
            "3273  2002    0.0  PHL\n",
            "3245  2002    0.0  PER\n",
            "3217  2002    0.0  PAN\n",
            "3189  2002    0.0  PAK\n"
          ]
        }
      ],
      "source": [
        "for index, row in lowest_country_gdp_df.iterrows():\n",
        "    for column in lowest_country_gdp_df.columns:\n",
        "        if row[column] == float('inf') or row[column] == float('-inf'):\n",
        "            lowest_country_gdp_df.at[index, column] = 0\n",
        "\n",
        "print(lowest_country_gdp_df)"
      ]
    },
    {
      "cell_type": "code",
      "execution_count": 419,
      "metadata": {
        "colab": {
          "base_uri": "https://localhost:8080/",
          "height": 990
        },
        "id": "j0rhvl7fsWW0",
        "outputId": "6db20f3b-358a-4e50-e02e-450a97a7ca2b"
      },
      "outputs": [
        {
          "data": {
            "text/html": [
              "<div>\n",
              "<style scoped>\n",
              "    .dataframe tbody tr th:only-of-type {\n",
              "        vertical-align: middle;\n",
              "    }\n",
              "\n",
              "    .dataframe tbody tr th {\n",
              "        vertical-align: top;\n",
              "    }\n",
              "\n",
              "    .dataframe thead th {\n",
              "        text-align: right;\n",
              "    }\n",
              "</style>\n",
              "<table border=\"1\" class=\"dataframe\">\n",
              "  <thead>\n",
              "    <tr style=\"text-align: right;\">\n",
              "      <th></th>\n",
              "      <th>year</th>\n",
              "      <th>country</th>\n",
              "      <th>region</th>\n",
              "      <th>contcod</th>\n",
              "      <th>gdpppp</th>\n",
              "    </tr>\n",
              "  </thead>\n",
              "  <tbody>\n",
              "    <tr>\n",
              "      <th>3652</th>\n",
              "      <td>1997</td>\n",
              "      <td>169</td>\n",
              "      <td>1.79769313486232e+308</td>\n",
              "      <td>SLE</td>\n",
              "      <td>462.0</td>\n",
              "    </tr>\n",
              "    <tr>\n",
              "      <th>1290</th>\n",
              "      <td>1997</td>\n",
              "      <td>62</td>\n",
              "      <td>1</td>\n",
              "      <td>ETH</td>\n",
              "      <td>500.0</td>\n",
              "    </tr>\n",
              "    <tr>\n",
              "      <th>3516</th>\n",
              "      <td>1997</td>\n",
              "      <td>163</td>\n",
              "      <td>1</td>\n",
              "      <td>RWA</td>\n",
              "      <td>555.0</td>\n",
              "    </tr>\n",
              "    <tr>\n",
              "      <th>2686</th>\n",
              "      <td>1997</td>\n",
              "      <td>122</td>\n",
              "      <td>1</td>\n",
              "      <td>MLI</td>\n",
              "      <td>574.0</td>\n",
              "    </tr>\n",
              "    <tr>\n",
              "      <th>2604</th>\n",
              "      <td>1997</td>\n",
              "      <td>118</td>\n",
              "      <td>1</td>\n",
              "      <td>MDG</td>\n",
              "      <td>636.0</td>\n",
              "    </tr>\n",
              "    <tr>\n",
              "      <th>3653</th>\n",
              "      <td>1998</td>\n",
              "      <td>169</td>\n",
              "      <td>1.79769313486232e+308</td>\n",
              "      <td>SLE</td>\n",
              "      <td>455.0</td>\n",
              "    </tr>\n",
              "    <tr>\n",
              "      <th>1291</th>\n",
              "      <td>1998</td>\n",
              "      <td>62</td>\n",
              "      <td>1</td>\n",
              "      <td>ETH</td>\n",
              "      <td>483.0</td>\n",
              "    </tr>\n",
              "    <tr>\n",
              "      <th>2687</th>\n",
              "      <td>1998</td>\n",
              "      <td>122</td>\n",
              "      <td>1</td>\n",
              "      <td>MLI</td>\n",
              "      <td>577.0</td>\n",
              "    </tr>\n",
              "    <tr>\n",
              "      <th>1563</th>\n",
              "      <td>1998</td>\n",
              "      <td>82</td>\n",
              "      <td>1</td>\n",
              "      <td>GNB</td>\n",
              "      <td>586.0</td>\n",
              "    </tr>\n",
              "    <tr>\n",
              "      <th>3517</th>\n",
              "      <td>1998</td>\n",
              "      <td>163</td>\n",
              "      <td>1</td>\n",
              "      <td>RWA</td>\n",
              "      <td>591.0</td>\n",
              "    </tr>\n",
              "    <tr>\n",
              "      <th>3654</th>\n",
              "      <td>1999</td>\n",
              "      <td>169</td>\n",
              "      <td>1.79769313486232e+308</td>\n",
              "      <td>SLE</td>\n",
              "      <td>410.0</td>\n",
              "    </tr>\n",
              "    <tr>\n",
              "      <th>1292</th>\n",
              "      <td>1999</td>\n",
              "      <td>62</td>\n",
              "      <td>1</td>\n",
              "      <td>ETH</td>\n",
              "      <td>500.0</td>\n",
              "    </tr>\n",
              "    <tr>\n",
              "      <th>2688</th>\n",
              "      <td>1999</td>\n",
              "      <td>122</td>\n",
              "      <td>1</td>\n",
              "      <td>MLI</td>\n",
              "      <td>598.0</td>\n",
              "    </tr>\n",
              "    <tr>\n",
              "      <th>3518</th>\n",
              "      <td>1999</td>\n",
              "      <td>163</td>\n",
              "      <td>1</td>\n",
              "      <td>RWA</td>\n",
              "      <td>610.0</td>\n",
              "    </tr>\n",
              "    <tr>\n",
              "      <th>1564</th>\n",
              "      <td>1999</td>\n",
              "      <td>82</td>\n",
              "      <td>1</td>\n",
              "      <td>GNB</td>\n",
              "      <td>619.0</td>\n",
              "    </tr>\n",
              "    <tr>\n",
              "      <th>3655</th>\n",
              "      <td>2000</td>\n",
              "      <td>169</td>\n",
              "      <td>1.79769313486232e+308</td>\n",
              "      <td>SLE</td>\n",
              "      <td>428.0</td>\n",
              "    </tr>\n",
              "    <tr>\n",
              "      <th>1293</th>\n",
              "      <td>2000</td>\n",
              "      <td>62</td>\n",
              "      <td>1</td>\n",
              "      <td>ETH</td>\n",
              "      <td>514.0</td>\n",
              "    </tr>\n",
              "    <tr>\n",
              "      <th>2689</th>\n",
              "      <td>2000</td>\n",
              "      <td>122</td>\n",
              "      <td>1</td>\n",
              "      <td>MLI</td>\n",
              "      <td>611.0</td>\n",
              "    </tr>\n",
              "    <tr>\n",
              "      <th>3519</th>\n",
              "      <td>2000</td>\n",
              "      <td>163</td>\n",
              "      <td>1</td>\n",
              "      <td>RWA</td>\n",
              "      <td>631.0</td>\n",
              "    </tr>\n",
              "    <tr>\n",
              "      <th>1565</th>\n",
              "      <td>2000</td>\n",
              "      <td>82</td>\n",
              "      <td>1</td>\n",
              "      <td>GNB</td>\n",
              "      <td>654.0</td>\n",
              "    </tr>\n",
              "    <tr>\n",
              "      <th>52</th>\n",
              "      <td>2001</td>\n",
              "      <td>2</td>\n",
              "      <td>1.79769313486232e+308</td>\n",
              "      <td>ALB</td>\n",
              "      <td>inf</td>\n",
              "    </tr>\n",
              "    <tr>\n",
              "      <th>3272</th>\n",
              "      <td>2001</td>\n",
              "      <td>1.79769313486232e+308</td>\n",
              "      <td>1.79769313486232e+308</td>\n",
              "      <td>PHL</td>\n",
              "      <td>inf</td>\n",
              "    </tr>\n",
              "    <tr>\n",
              "      <th>3244</th>\n",
              "      <td>2001</td>\n",
              "      <td>1.79769313486232e+308</td>\n",
              "      <td>1.79769313486232e+308</td>\n",
              "      <td>PER</td>\n",
              "      <td>inf</td>\n",
              "    </tr>\n",
              "    <tr>\n",
              "      <th>3216</th>\n",
              "      <td>2001</td>\n",
              "      <td>1.79769313486232e+308</td>\n",
              "      <td>1.79769313486232e+308</td>\n",
              "      <td>PAN</td>\n",
              "      <td>inf</td>\n",
              "    </tr>\n",
              "    <tr>\n",
              "      <th>3188</th>\n",
              "      <td>2001</td>\n",
              "      <td>1.79769313486232e+308</td>\n",
              "      <td>1.79769313486232e+308</td>\n",
              "      <td>PAK</td>\n",
              "      <td>inf</td>\n",
              "    </tr>\n",
              "    <tr>\n",
              "      <th>53</th>\n",
              "      <td>2002</td>\n",
              "      <td>2</td>\n",
              "      <td>1.79769313486232e+308</td>\n",
              "      <td>ALB</td>\n",
              "      <td>inf</td>\n",
              "    </tr>\n",
              "    <tr>\n",
              "      <th>3273</th>\n",
              "      <td>2002</td>\n",
              "      <td>1.79769313486232e+308</td>\n",
              "      <td>1.79769313486232e+308</td>\n",
              "      <td>PHL</td>\n",
              "      <td>inf</td>\n",
              "    </tr>\n",
              "    <tr>\n",
              "      <th>3245</th>\n",
              "      <td>2002</td>\n",
              "      <td>1.79769313486232e+308</td>\n",
              "      <td>1.79769313486232e+308</td>\n",
              "      <td>PER</td>\n",
              "      <td>inf</td>\n",
              "    </tr>\n",
              "    <tr>\n",
              "      <th>3217</th>\n",
              "      <td>2002</td>\n",
              "      <td>1.79769313486232e+308</td>\n",
              "      <td>1.79769313486232e+308</td>\n",
              "      <td>PAN</td>\n",
              "      <td>inf</td>\n",
              "    </tr>\n",
              "    <tr>\n",
              "      <th>3189</th>\n",
              "      <td>2002</td>\n",
              "      <td>1.79769313486232e+308</td>\n",
              "      <td>1.79769313486232e+308</td>\n",
              "      <td>PAK</td>\n",
              "      <td>inf</td>\n",
              "    </tr>\n",
              "  </tbody>\n",
              "</table>\n",
              "</div>"
            ],
            "text/plain": [
              "      year                country                 region contcod  gdpppp\n",
              "3652  1997                    169  1.79769313486232e+308     SLE   462.0\n",
              "1290  1997                     62                      1     ETH   500.0\n",
              "3516  1997                    163                      1     RWA   555.0\n",
              "2686  1997                    122                      1     MLI   574.0\n",
              "2604  1997                    118                      1     MDG   636.0\n",
              "3653  1998                    169  1.79769313486232e+308     SLE   455.0\n",
              "1291  1998                     62                      1     ETH   483.0\n",
              "2687  1998                    122                      1     MLI   577.0\n",
              "1563  1998                     82                      1     GNB   586.0\n",
              "3517  1998                    163                      1     RWA   591.0\n",
              "3654  1999                    169  1.79769313486232e+308     SLE   410.0\n",
              "1292  1999                     62                      1     ETH   500.0\n",
              "2688  1999                    122                      1     MLI   598.0\n",
              "3518  1999                    163                      1     RWA   610.0\n",
              "1564  1999                     82                      1     GNB   619.0\n",
              "3655  2000                    169  1.79769313486232e+308     SLE   428.0\n",
              "1293  2000                     62                      1     ETH   514.0\n",
              "2689  2000                    122                      1     MLI   611.0\n",
              "3519  2000                    163                      1     RWA   631.0\n",
              "1565  2000                     82                      1     GNB   654.0\n",
              "52    2001                      2  1.79769313486232e+308     ALB     inf\n",
              "3272  2001  1.79769313486232e+308  1.79769313486232e+308     PHL     inf\n",
              "3244  2001  1.79769313486232e+308  1.79769313486232e+308     PER     inf\n",
              "3216  2001  1.79769313486232e+308  1.79769313486232e+308     PAN     inf\n",
              "3188  2001  1.79769313486232e+308  1.79769313486232e+308     PAK     inf\n",
              "53    2002                      2  1.79769313486232e+308     ALB     inf\n",
              "3273  2002  1.79769313486232e+308  1.79769313486232e+308     PHL     inf\n",
              "3245  2002  1.79769313486232e+308  1.79769313486232e+308     PER     inf\n",
              "3217  2002  1.79769313486232e+308  1.79769313486232e+308     PAN     inf\n",
              "3189  2002  1.79769313486232e+308  1.79769313486232e+308     PAK     inf"
            ]
          },
          "execution_count": 419,
          "metadata": {},
          "output_type": "execute_result"
        }
      ],
      "source": [
        "# Sorts country gdpppp in ascending order. Only shows the 5 lowest gdps per year\n",
        "years_col = [1997, 1998, 1999, 2000, 2001, 2002]\n",
        "lowest_country_gdpppp_list = []\n",
        "\n",
        "for year in years_col:\n",
        "    curr_year = cleaned_gdp[cleaned_gdp[\"year\"] == year]\n",
        "    sorted_gdpppp = curr_year.sort_values(by=\"gdpppp\", ascending=True)\n",
        "    sorted_gdpppp = sorted_gdpppp.iloc[0:5]\n",
        "    lowest_country_gdpppp_list.append(sorted_gdpppp.iloc[0:5])\n",
        "lowest_country_gdpppp_df = pd.concat(lowest_country_gdpppp_list)\n",
        "\n",
        "lowest_country_gdpppp_df = lowest_country_gdpppp_df.drop(columns= \"gdp\")\n",
        "\n",
        "lowest_country_gdpppp_df"
      ]
    },
    {
      "cell_type": "code",
      "execution_count": 420,
      "metadata": {
        "colab": {
          "base_uri": "https://localhost:8080/",
          "height": 423
        },
        "id": "ZoXvHm7r0q_e",
        "outputId": "8bf80dfd-348f-40e2-a4b9-ee333eb6b9f6"
      },
      "outputs": [
        {
          "data": {
            "text/html": [
              "<div>\n",
              "<style scoped>\n",
              "    .dataframe tbody tr th:only-of-type {\n",
              "        vertical-align: middle;\n",
              "    }\n",
              "\n",
              "    .dataframe tbody tr th {\n",
              "        vertical-align: top;\n",
              "    }\n",
              "\n",
              "    .dataframe thead th {\n",
              "        text-align: right;\n",
              "    }\n",
              "</style>\n",
              "<table border=\"1\" class=\"dataframe\">\n",
              "  <thead>\n",
              "    <tr style=\"text-align: right;\">\n",
              "      <th></th>\n",
              "      <th>year</th>\n",
              "      <th>gdp</th>\n",
              "      <th>name</th>\n",
              "    </tr>\n",
              "  </thead>\n",
              "  <tbody>\n",
              "    <tr>\n",
              "      <th>0</th>\n",
              "      <td>1997</td>\n",
              "      <td>8577552.0</td>\n",
              "      <td>United States *</td>\n",
              "    </tr>\n",
              "    <tr>\n",
              "      <th>96</th>\n",
              "      <td>1997</td>\n",
              "      <td>104716.9</td>\n",
              "      <td>Alabama</td>\n",
              "    </tr>\n",
              "    <tr>\n",
              "      <th>188</th>\n",
              "      <td>1997</td>\n",
              "      <td>25800.0</td>\n",
              "      <td>Alaska</td>\n",
              "    </tr>\n",
              "    <tr>\n",
              "      <th>280</th>\n",
              "      <td>1997</td>\n",
              "      <td>132290.9</td>\n",
              "      <td>Arizona</td>\n",
              "    </tr>\n",
              "    <tr>\n",
              "      <th>372</th>\n",
              "      <td>1997</td>\n",
              "      <td>59826.9</td>\n",
              "      <td>Arkansas</td>\n",
              "    </tr>\n",
              "    <tr>\n",
              "      <th>...</th>\n",
              "      <td>...</td>\n",
              "      <td>...</td>\n",
              "      <td>...</td>\n",
              "    </tr>\n",
              "    <tr>\n",
              "      <th>28268</th>\n",
              "      <td>2002</td>\n",
              "      <td>293399.4</td>\n",
              "      <td>Virginia</td>\n",
              "    </tr>\n",
              "    <tr>\n",
              "      <th>28360</th>\n",
              "      <td>2002</td>\n",
              "      <td>248152.7</td>\n",
              "      <td>Washington</td>\n",
              "    </tr>\n",
              "    <tr>\n",
              "      <th>28452</th>\n",
              "      <td>2002</td>\n",
              "      <td>45433.6</td>\n",
              "      <td>West Virginia</td>\n",
              "    </tr>\n",
              "    <tr>\n",
              "      <th>28544</th>\n",
              "      <td>2002</td>\n",
              "      <td>194844.9</td>\n",
              "      <td>Wisconsin</td>\n",
              "    </tr>\n",
              "    <tr>\n",
              "      <th>28636</th>\n",
              "      <td>2002</td>\n",
              "      <td>19149.7</td>\n",
              "      <td>Wyoming</td>\n",
              "    </tr>\n",
              "  </tbody>\n",
              "</table>\n",
              "<p>312 rows × 3 columns</p>\n",
              "</div>"
            ],
            "text/plain": [
              "       year        gdp             name\n",
              "0      1997  8577552.0  United States *\n",
              "96     1997   104716.9          Alabama\n",
              "188    1997    25800.0           Alaska\n",
              "280    1997   132290.9          Arizona\n",
              "372    1997    59826.9         Arkansas\n",
              "...     ...        ...              ...\n",
              "28268  2002   293399.4         Virginia\n",
              "28360  2002   248152.7       Washington\n",
              "28452  2002    45433.6    West Virginia\n",
              "28544  2002   194844.9        Wisconsin\n",
              "28636  2002    19149.7          Wyoming\n",
              "\n",
              "[312 rows x 3 columns]"
            ]
          },
          "execution_count": 420,
          "metadata": {},
          "output_type": "execute_result"
        }
      ],
      "source": [
        "# Shows all industry total data\n",
        "all_ind_tot_data = q2_data[q2_data[\"description\"] == \"All industry total\"]\n",
        "\n",
        "all_ind_tot_data = all_ind_tot_data.drop(columns= [\"country\", \"region\", \"contcod\", \"gdpppp\", \"description\"])\n",
        "\n",
        "all_ind_tot_data[\"gdp\"] = all_ind_tot_data[\"gdp\"].astype(float)\n",
        "\n",
        "\n",
        "all_ind_tot_data"
      ]
    },
    {
      "cell_type": "code",
      "execution_count": 421,
      "metadata": {
        "colab": {
          "base_uri": "https://localhost:8080/",
          "height": 990
        },
        "id": "l245r3u7ksws",
        "outputId": "a6c395c7-19a4-40e0-e73d-a6fab67c4605"
      },
      "outputs": [
        {
          "data": {
            "text/html": [
              "<div>\n",
              "<style scoped>\n",
              "    .dataframe tbody tr th:only-of-type {\n",
              "        vertical-align: middle;\n",
              "    }\n",
              "\n",
              "    .dataframe tbody tr th {\n",
              "        vertical-align: top;\n",
              "    }\n",
              "\n",
              "    .dataframe thead th {\n",
              "        text-align: right;\n",
              "    }\n",
              "</style>\n",
              "<table border=\"1\" class=\"dataframe\">\n",
              "  <thead>\n",
              "    <tr style=\"text-align: right;\">\n",
              "      <th></th>\n",
              "      <th>year</th>\n",
              "      <th>gdp</th>\n",
              "      <th>name</th>\n",
              "    </tr>\n",
              "  </thead>\n",
              "  <tbody>\n",
              "    <tr>\n",
              "      <th>1</th>\n",
              "      <td>1997</td>\n",
              "      <td>14708.7</td>\n",
              "      <td>Wyoming</td>\n",
              "    </tr>\n",
              "    <tr>\n",
              "      <th>2</th>\n",
              "      <td>1997</td>\n",
              "      <td>15451.6</td>\n",
              "      <td>Vermont</td>\n",
              "    </tr>\n",
              "    <tr>\n",
              "      <th>3</th>\n",
              "      <td>1997</td>\n",
              "      <td>15767.7</td>\n",
              "      <td>North Dakota</td>\n",
              "    </tr>\n",
              "    <tr>\n",
              "      <th>4</th>\n",
              "      <td>1997</td>\n",
              "      <td>19036.2</td>\n",
              "      <td>South Dakota</td>\n",
              "    </tr>\n",
              "    <tr>\n",
              "      <th>5</th>\n",
              "      <td>1997</td>\n",
              "      <td>19323.1</td>\n",
              "      <td>Montana</td>\n",
              "    </tr>\n",
              "    <tr>\n",
              "      <th>6</th>\n",
              "      <td>1998</td>\n",
              "      <td>14883.8</td>\n",
              "      <td>Wyoming</td>\n",
              "    </tr>\n",
              "    <tr>\n",
              "      <th>7</th>\n",
              "      <td>1998</td>\n",
              "      <td>16080.3</td>\n",
              "      <td>Vermont</td>\n",
              "    </tr>\n",
              "    <tr>\n",
              "      <th>8</th>\n",
              "      <td>1998</td>\n",
              "      <td>16826.2</td>\n",
              "      <td>North Dakota</td>\n",
              "    </tr>\n",
              "    <tr>\n",
              "      <th>9</th>\n",
              "      <td>1998</td>\n",
              "      <td>20216.8</td>\n",
              "      <td>South Dakota</td>\n",
              "    </tr>\n",
              "    <tr>\n",
              "      <th>10</th>\n",
              "      <td>1998</td>\n",
              "      <td>20450.0</td>\n",
              "      <td>Montana</td>\n",
              "    </tr>\n",
              "    <tr>\n",
              "      <th>11</th>\n",
              "      <td>1999</td>\n",
              "      <td>15715.0</td>\n",
              "      <td>Wyoming</td>\n",
              "    </tr>\n",
              "    <tr>\n",
              "      <th>12</th>\n",
              "      <td>1999</td>\n",
              "      <td>17017.3</td>\n",
              "      <td>North Dakota</td>\n",
              "    </tr>\n",
              "    <tr>\n",
              "      <th>13</th>\n",
              "      <td>1999</td>\n",
              "      <td>17161.8</td>\n",
              "      <td>Vermont</td>\n",
              "    </tr>\n",
              "    <tr>\n",
              "      <th>14</th>\n",
              "      <td>1999</td>\n",
              "      <td>20821.0</td>\n",
              "      <td>Montana</td>\n",
              "    </tr>\n",
              "    <tr>\n",
              "      <th>15</th>\n",
              "      <td>1999</td>\n",
              "      <td>21045.5</td>\n",
              "      <td>South Dakota</td>\n",
              "    </tr>\n",
              "    <tr>\n",
              "      <th>16</th>\n",
              "      <td>2000</td>\n",
              "      <td>17191.8</td>\n",
              "      <td>Wyoming</td>\n",
              "    </tr>\n",
              "    <tr>\n",
              "      <th>17</th>\n",
              "      <td>2000</td>\n",
              "      <td>18013.5</td>\n",
              "      <td>North Dakota</td>\n",
              "    </tr>\n",
              "    <tr>\n",
              "      <th>18</th>\n",
              "      <td>2000</td>\n",
              "      <td>18312.7</td>\n",
              "      <td>Vermont</td>\n",
              "    </tr>\n",
              "    <tr>\n",
              "      <th>19</th>\n",
              "      <td>2000</td>\n",
              "      <td>21878.4</td>\n",
              "      <td>Montana</td>\n",
              "    </tr>\n",
              "    <tr>\n",
              "      <th>20</th>\n",
              "      <td>2000</td>\n",
              "      <td>22669.2</td>\n",
              "      <td>South Dakota</td>\n",
              "    </tr>\n",
              "    <tr>\n",
              "      <th>21</th>\n",
              "      <td>2001</td>\n",
              "      <td>18691.2</td>\n",
              "      <td>Wyoming</td>\n",
              "    </tr>\n",
              "    <tr>\n",
              "      <th>22</th>\n",
              "      <td>2001</td>\n",
              "      <td>18960.6</td>\n",
              "      <td>North Dakota</td>\n",
              "    </tr>\n",
              "    <tr>\n",
              "      <th>23</th>\n",
              "      <td>2001</td>\n",
              "      <td>19271.8</td>\n",
              "      <td>Vermont</td>\n",
              "    </tr>\n",
              "    <tr>\n",
              "      <th>24</th>\n",
              "      <td>2001</td>\n",
              "      <td>22793.3</td>\n",
              "      <td>Montana</td>\n",
              "    </tr>\n",
              "    <tr>\n",
              "      <th>25</th>\n",
              "      <td>2001</td>\n",
              "      <td>23406.1</td>\n",
              "      <td>South Dakota</td>\n",
              "    </tr>\n",
              "    <tr>\n",
              "      <th>26</th>\n",
              "      <td>2002</td>\n",
              "      <td>19149.7</td>\n",
              "      <td>Wyoming</td>\n",
              "    </tr>\n",
              "    <tr>\n",
              "      <th>27</th>\n",
              "      <td>2002</td>\n",
              "      <td>20161.5</td>\n",
              "      <td>Vermont</td>\n",
              "    </tr>\n",
              "    <tr>\n",
              "      <th>28</th>\n",
              "      <td>2002</td>\n",
              "      <td>20229.1</td>\n",
              "      <td>North Dakota</td>\n",
              "    </tr>\n",
              "    <tr>\n",
              "      <th>29</th>\n",
              "      <td>2002</td>\n",
              "      <td>23868.0</td>\n",
              "      <td>Montana</td>\n",
              "    </tr>\n",
              "    <tr>\n",
              "      <th>30</th>\n",
              "      <td>2002</td>\n",
              "      <td>26164.5</td>\n",
              "      <td>South Dakota</td>\n",
              "    </tr>\n",
              "  </tbody>\n",
              "</table>\n",
              "</div>"
            ],
            "text/plain": [
              "    year      gdp          name\n",
              "1   1997  14708.7       Wyoming\n",
              "2   1997  15451.6       Vermont\n",
              "3   1997  15767.7  North Dakota\n",
              "4   1997  19036.2  South Dakota\n",
              "5   1997  19323.1       Montana\n",
              "6   1998  14883.8       Wyoming\n",
              "7   1998  16080.3       Vermont\n",
              "8   1998  16826.2  North Dakota\n",
              "9   1998  20216.8  South Dakota\n",
              "10  1998  20450.0       Montana\n",
              "11  1999  15715.0       Wyoming\n",
              "12  1999  17017.3  North Dakota\n",
              "13  1999  17161.8       Vermont\n",
              "14  1999  20821.0       Montana\n",
              "15  1999  21045.5  South Dakota\n",
              "16  2000  17191.8       Wyoming\n",
              "17  2000  18013.5  North Dakota\n",
              "18  2000  18312.7       Vermont\n",
              "19  2000  21878.4       Montana\n",
              "20  2000  22669.2  South Dakota\n",
              "21  2001  18691.2       Wyoming\n",
              "22  2001  18960.6  North Dakota\n",
              "23  2001  19271.8       Vermont\n",
              "24  2001  22793.3       Montana\n",
              "25  2001  23406.1  South Dakota\n",
              "26  2002  19149.7       Wyoming\n",
              "27  2002  20161.5       Vermont\n",
              "28  2002  20229.1  North Dakota\n",
              "29  2002  23868.0       Montana\n",
              "30  2002  26164.5  South Dakota"
            ]
          },
          "execution_count": 421,
          "metadata": {},
          "output_type": "execute_result"
        }
      ],
      "source": [
        "# Sorts state industry data in ascending order. Only shows the 5 lowest gdps per year\n",
        "years_col = [\"1997\", \"1998\", \"1999\", \"2000\", \"2001\", \"2002\"]\n",
        "lowest_state_gdp_list = []\n",
        "\n",
        "for year in years_col:\n",
        "    curr_year = all_ind_tot_data[all_ind_tot_data[\"year\"] == year]\n",
        "    sorted_gdp = curr_year.sort_values(by=\"gdp\", ascending=True)\n",
        "    sorted_gdp = sorted_gdp.iloc[0:5]\n",
        "    lowest_state_gdp_list.append(sorted_gdp.iloc[0:5])\n",
        "lowest_state_gdp_df = pd.concat(lowest_state_gdp_list)\n",
        "\n",
        "lowest_state_gdp_df.reset_index(drop=True, inplace=True)\n",
        "\n",
        "lowest_state_gdp_df.index = lowest_state_gdp_df.index + 1\n",
        "\n",
        "lowest_state_gdp_df"
      ]
    },
    {
      "cell_type": "code",
      "execution_count": 422,
      "metadata": {
        "colab": {
          "base_uri": "https://localhost:8080/",
          "height": 1000
        },
        "id": "VcMWILUTmBKm",
        "outputId": "4dd3a97d-ab53-48ed-f83d-c8105bbe0625"
      },
      "outputs": [
        {
          "data": {
            "text/html": [
              "<div>\n",
              "<style scoped>\n",
              "    .dataframe tbody tr th:only-of-type {\n",
              "        vertical-align: middle;\n",
              "    }\n",
              "\n",
              "    .dataframe tbody tr th {\n",
              "        vertical-align: top;\n",
              "    }\n",
              "\n",
              "    .dataframe thead th {\n",
              "        text-align: right;\n",
              "    }\n",
              "</style>\n",
              "<table border=\"1\" class=\"dataframe\">\n",
              "  <thead>\n",
              "    <tr style=\"text-align: right;\">\n",
              "      <th></th>\n",
              "      <th>year</th>\n",
              "      <th>gdp</th>\n",
              "      <th>name</th>\n",
              "    </tr>\n",
              "  </thead>\n",
              "  <tbody>\n",
              "    <tr>\n",
              "      <th>4426</th>\n",
              "      <td>1997</td>\n",
              "      <td>245.0</td>\n",
              "      <td>WSM</td>\n",
              "    </tr>\n",
              "    <tr>\n",
              "      <th>1562</th>\n",
              "      <td>1997</td>\n",
              "      <td>269.0</td>\n",
              "      <td>GNB</td>\n",
              "    </tr>\n",
              "    <tr>\n",
              "      <th>1536</th>\n",
              "      <td>1997</td>\n",
              "      <td>410.0</td>\n",
              "      <td>GMB</td>\n",
              "    </tr>\n",
              "    <tr>\n",
              "      <th>1590</th>\n",
              "      <td>1997</td>\n",
              "      <td>498.0</td>\n",
              "      <td>GNQ</td>\n",
              "    </tr>\n",
              "    <tr>\n",
              "      <th>1068</th>\n",
              "      <td>1997</td>\n",
              "      <td>503.0</td>\n",
              "      <td>DJI</td>\n",
              "    </tr>\n",
              "    <tr>\n",
              "      <th>1563</th>\n",
              "      <td>1998</td>\n",
              "      <td>206.0</td>\n",
              "      <td>GNB</td>\n",
              "    </tr>\n",
              "    <tr>\n",
              "      <th>4427</th>\n",
              "      <td>1998</td>\n",
              "      <td>224.0</td>\n",
              "      <td>WSM</td>\n",
              "    </tr>\n",
              "    <tr>\n",
              "      <th>1537</th>\n",
              "      <td>1998</td>\n",
              "      <td>417.0</td>\n",
              "      <td>GMB</td>\n",
              "    </tr>\n",
              "    <tr>\n",
              "      <th>1591</th>\n",
              "      <td>1998</td>\n",
              "      <td>456.0</td>\n",
              "      <td>GNQ</td>\n",
              "    </tr>\n",
              "    <tr>\n",
              "      <th>1069</th>\n",
              "      <td>1998</td>\n",
              "      <td>514.0</td>\n",
              "      <td>DJI</td>\n",
              "    </tr>\n",
              "    <tr>\n",
              "      <th>1564</th>\n",
              "      <td>1999</td>\n",
              "      <td>224.0</td>\n",
              "      <td>GNB</td>\n",
              "    </tr>\n",
              "    <tr>\n",
              "      <th>4428</th>\n",
              "      <td>1999</td>\n",
              "      <td>233.0</td>\n",
              "      <td>WSM</td>\n",
              "    </tr>\n",
              "    <tr>\n",
              "      <th>1538</th>\n",
              "      <td>1999</td>\n",
              "      <td>432.0</td>\n",
              "      <td>GMB</td>\n",
              "    </tr>\n",
              "    <tr>\n",
              "      <th>1070</th>\n",
              "      <td>1999</td>\n",
              "      <td>536.0</td>\n",
              "      <td>DJI</td>\n",
              "    </tr>\n",
              "    <tr>\n",
              "      <th>906</th>\n",
              "      <td>1999</td>\n",
              "      <td>588.0</td>\n",
              "      <td>CPV</td>\n",
              "    </tr>\n",
              "    <tr>\n",
              "      <th>1565</th>\n",
              "      <td>2000</td>\n",
              "      <td>215.0</td>\n",
              "      <td>GNB</td>\n",
              "    </tr>\n",
              "    <tr>\n",
              "      <th>4429</th>\n",
              "      <td>2000</td>\n",
              "      <td>237.0</td>\n",
              "      <td>WSM</td>\n",
              "    </tr>\n",
              "    <tr>\n",
              "      <th>1539</th>\n",
              "      <td>2000</td>\n",
              "      <td>422.0</td>\n",
              "      <td>GMB</td>\n",
              "    </tr>\n",
              "    <tr>\n",
              "      <th>1071</th>\n",
              "      <td>2000</td>\n",
              "      <td>553.0</td>\n",
              "      <td>DJI</td>\n",
              "    </tr>\n",
              "    <tr>\n",
              "      <th>907</th>\n",
              "      <td>2000</td>\n",
              "      <td>558.0</td>\n",
              "      <td>CPV</td>\n",
              "    </tr>\n",
              "    <tr>\n",
              "      <th>52</th>\n",
              "      <td>2001</td>\n",
              "      <td>0.0</td>\n",
              "      <td>ALB</td>\n",
              "    </tr>\n",
              "    <tr>\n",
              "      <th>3272</th>\n",
              "      <td>2001</td>\n",
              "      <td>0.0</td>\n",
              "      <td>PHL</td>\n",
              "    </tr>\n",
              "    <tr>\n",
              "      <th>3244</th>\n",
              "      <td>2001</td>\n",
              "      <td>0.0</td>\n",
              "      <td>PER</td>\n",
              "    </tr>\n",
              "    <tr>\n",
              "      <th>3216</th>\n",
              "      <td>2001</td>\n",
              "      <td>0.0</td>\n",
              "      <td>PAN</td>\n",
              "    </tr>\n",
              "    <tr>\n",
              "      <th>3188</th>\n",
              "      <td>2001</td>\n",
              "      <td>0.0</td>\n",
              "      <td>PAK</td>\n",
              "    </tr>\n",
              "    <tr>\n",
              "      <th>53</th>\n",
              "      <td>2002</td>\n",
              "      <td>0.0</td>\n",
              "      <td>ALB</td>\n",
              "    </tr>\n",
              "    <tr>\n",
              "      <th>3273</th>\n",
              "      <td>2002</td>\n",
              "      <td>0.0</td>\n",
              "      <td>PHL</td>\n",
              "    </tr>\n",
              "    <tr>\n",
              "      <th>3245</th>\n",
              "      <td>2002</td>\n",
              "      <td>0.0</td>\n",
              "      <td>PER</td>\n",
              "    </tr>\n",
              "    <tr>\n",
              "      <th>3217</th>\n",
              "      <td>2002</td>\n",
              "      <td>0.0</td>\n",
              "      <td>PAN</td>\n",
              "    </tr>\n",
              "    <tr>\n",
              "      <th>3189</th>\n",
              "      <td>2002</td>\n",
              "      <td>0.0</td>\n",
              "      <td>PAK</td>\n",
              "    </tr>\n",
              "    <tr>\n",
              "      <th>1</th>\n",
              "      <td>1997</td>\n",
              "      <td>14708.7</td>\n",
              "      <td>Wyoming</td>\n",
              "    </tr>\n",
              "    <tr>\n",
              "      <th>2</th>\n",
              "      <td>1997</td>\n",
              "      <td>15451.6</td>\n",
              "      <td>Vermont</td>\n",
              "    </tr>\n",
              "    <tr>\n",
              "      <th>3</th>\n",
              "      <td>1997</td>\n",
              "      <td>15767.7</td>\n",
              "      <td>North Dakota</td>\n",
              "    </tr>\n",
              "    <tr>\n",
              "      <th>4</th>\n",
              "      <td>1997</td>\n",
              "      <td>19036.2</td>\n",
              "      <td>South Dakota</td>\n",
              "    </tr>\n",
              "    <tr>\n",
              "      <th>5</th>\n",
              "      <td>1997</td>\n",
              "      <td>19323.1</td>\n",
              "      <td>Montana</td>\n",
              "    </tr>\n",
              "    <tr>\n",
              "      <th>6</th>\n",
              "      <td>1998</td>\n",
              "      <td>14883.8</td>\n",
              "      <td>Wyoming</td>\n",
              "    </tr>\n",
              "    <tr>\n",
              "      <th>7</th>\n",
              "      <td>1998</td>\n",
              "      <td>16080.3</td>\n",
              "      <td>Vermont</td>\n",
              "    </tr>\n",
              "    <tr>\n",
              "      <th>8</th>\n",
              "      <td>1998</td>\n",
              "      <td>16826.2</td>\n",
              "      <td>North Dakota</td>\n",
              "    </tr>\n",
              "    <tr>\n",
              "      <th>9</th>\n",
              "      <td>1998</td>\n",
              "      <td>20216.8</td>\n",
              "      <td>South Dakota</td>\n",
              "    </tr>\n",
              "    <tr>\n",
              "      <th>10</th>\n",
              "      <td>1998</td>\n",
              "      <td>20450.0</td>\n",
              "      <td>Montana</td>\n",
              "    </tr>\n",
              "    <tr>\n",
              "      <th>11</th>\n",
              "      <td>1999</td>\n",
              "      <td>15715.0</td>\n",
              "      <td>Wyoming</td>\n",
              "    </tr>\n",
              "    <tr>\n",
              "      <th>12</th>\n",
              "      <td>1999</td>\n",
              "      <td>17017.3</td>\n",
              "      <td>North Dakota</td>\n",
              "    </tr>\n",
              "    <tr>\n",
              "      <th>13</th>\n",
              "      <td>1999</td>\n",
              "      <td>17161.8</td>\n",
              "      <td>Vermont</td>\n",
              "    </tr>\n",
              "    <tr>\n",
              "      <th>14</th>\n",
              "      <td>1999</td>\n",
              "      <td>20821.0</td>\n",
              "      <td>Montana</td>\n",
              "    </tr>\n",
              "    <tr>\n",
              "      <th>15</th>\n",
              "      <td>1999</td>\n",
              "      <td>21045.5</td>\n",
              "      <td>South Dakota</td>\n",
              "    </tr>\n",
              "    <tr>\n",
              "      <th>16</th>\n",
              "      <td>2000</td>\n",
              "      <td>17191.8</td>\n",
              "      <td>Wyoming</td>\n",
              "    </tr>\n",
              "    <tr>\n",
              "      <th>17</th>\n",
              "      <td>2000</td>\n",
              "      <td>18013.5</td>\n",
              "      <td>North Dakota</td>\n",
              "    </tr>\n",
              "    <tr>\n",
              "      <th>18</th>\n",
              "      <td>2000</td>\n",
              "      <td>18312.7</td>\n",
              "      <td>Vermont</td>\n",
              "    </tr>\n",
              "    <tr>\n",
              "      <th>19</th>\n",
              "      <td>2000</td>\n",
              "      <td>21878.4</td>\n",
              "      <td>Montana</td>\n",
              "    </tr>\n",
              "    <tr>\n",
              "      <th>20</th>\n",
              "      <td>2000</td>\n",
              "      <td>22669.2</td>\n",
              "      <td>South Dakota</td>\n",
              "    </tr>\n",
              "    <tr>\n",
              "      <th>21</th>\n",
              "      <td>2001</td>\n",
              "      <td>18691.2</td>\n",
              "      <td>Wyoming</td>\n",
              "    </tr>\n",
              "    <tr>\n",
              "      <th>22</th>\n",
              "      <td>2001</td>\n",
              "      <td>18960.6</td>\n",
              "      <td>North Dakota</td>\n",
              "    </tr>\n",
              "    <tr>\n",
              "      <th>23</th>\n",
              "      <td>2001</td>\n",
              "      <td>19271.8</td>\n",
              "      <td>Vermont</td>\n",
              "    </tr>\n",
              "    <tr>\n",
              "      <th>24</th>\n",
              "      <td>2001</td>\n",
              "      <td>22793.3</td>\n",
              "      <td>Montana</td>\n",
              "    </tr>\n",
              "    <tr>\n",
              "      <th>25</th>\n",
              "      <td>2001</td>\n",
              "      <td>23406.1</td>\n",
              "      <td>South Dakota</td>\n",
              "    </tr>\n",
              "    <tr>\n",
              "      <th>26</th>\n",
              "      <td>2002</td>\n",
              "      <td>19149.7</td>\n",
              "      <td>Wyoming</td>\n",
              "    </tr>\n",
              "    <tr>\n",
              "      <th>27</th>\n",
              "      <td>2002</td>\n",
              "      <td>20161.5</td>\n",
              "      <td>Vermont</td>\n",
              "    </tr>\n",
              "    <tr>\n",
              "      <th>28</th>\n",
              "      <td>2002</td>\n",
              "      <td>20229.1</td>\n",
              "      <td>North Dakota</td>\n",
              "    </tr>\n",
              "    <tr>\n",
              "      <th>29</th>\n",
              "      <td>2002</td>\n",
              "      <td>23868.0</td>\n",
              "      <td>Montana</td>\n",
              "    </tr>\n",
              "    <tr>\n",
              "      <th>30</th>\n",
              "      <td>2002</td>\n",
              "      <td>26164.5</td>\n",
              "      <td>South Dakota</td>\n",
              "    </tr>\n",
              "  </tbody>\n",
              "</table>\n",
              "</div>"
            ],
            "text/plain": [
              "      year      gdp          name\n",
              "4426  1997    245.0           WSM\n",
              "1562  1997    269.0           GNB\n",
              "1536  1997    410.0           GMB\n",
              "1590  1997    498.0           GNQ\n",
              "1068  1997    503.0           DJI\n",
              "1563  1998    206.0           GNB\n",
              "4427  1998    224.0           WSM\n",
              "1537  1998    417.0           GMB\n",
              "1591  1998    456.0           GNQ\n",
              "1069  1998    514.0           DJI\n",
              "1564  1999    224.0           GNB\n",
              "4428  1999    233.0           WSM\n",
              "1538  1999    432.0           GMB\n",
              "1070  1999    536.0           DJI\n",
              "906   1999    588.0           CPV\n",
              "1565  2000    215.0           GNB\n",
              "4429  2000    237.0           WSM\n",
              "1539  2000    422.0           GMB\n",
              "1071  2000    553.0           DJI\n",
              "907   2000    558.0           CPV\n",
              "52    2001      0.0           ALB\n",
              "3272  2001      0.0           PHL\n",
              "3244  2001      0.0           PER\n",
              "3216  2001      0.0           PAN\n",
              "3188  2001      0.0           PAK\n",
              "53    2002      0.0           ALB\n",
              "3273  2002      0.0           PHL\n",
              "3245  2002      0.0           PER\n",
              "3217  2002      0.0           PAN\n",
              "3189  2002      0.0           PAK\n",
              "1     1997  14708.7       Wyoming\n",
              "2     1997  15451.6       Vermont\n",
              "3     1997  15767.7  North Dakota\n",
              "4     1997  19036.2  South Dakota\n",
              "5     1997  19323.1       Montana\n",
              "6     1998  14883.8       Wyoming\n",
              "7     1998  16080.3       Vermont\n",
              "8     1998  16826.2  North Dakota\n",
              "9     1998  20216.8  South Dakota\n",
              "10    1998  20450.0       Montana\n",
              "11    1999  15715.0       Wyoming\n",
              "12    1999  17017.3  North Dakota\n",
              "13    1999  17161.8       Vermont\n",
              "14    1999  20821.0       Montana\n",
              "15    1999  21045.5  South Dakota\n",
              "16    2000  17191.8       Wyoming\n",
              "17    2000  18013.5  North Dakota\n",
              "18    2000  18312.7       Vermont\n",
              "19    2000  21878.4       Montana\n",
              "20    2000  22669.2  South Dakota\n",
              "21    2001  18691.2       Wyoming\n",
              "22    2001  18960.6  North Dakota\n",
              "23    2001  19271.8       Vermont\n",
              "24    2001  22793.3       Montana\n",
              "25    2001  23406.1  South Dakota\n",
              "26    2002  19149.7       Wyoming\n",
              "27    2002  20161.5       Vermont\n",
              "28    2002  20229.1  North Dakota\n",
              "29    2002  23868.0       Montana\n",
              "30    2002  26164.5  South Dakota"
            ]
          },
          "execution_count": 422,
          "metadata": {},
          "output_type": "execute_result"
        }
      ],
      "source": [
        "lowest_gdps = pd.concat([lowest_country_gdp_df, lowest_state_gdp_df])\n",
        "lowest_gdps"
      ]
    },
    {
      "cell_type": "markdown",
      "metadata": {
        "id": "jKzu-5a_oMHW"
      },
      "source": [
        "## Question 2: Plotting the data"
      ]
    },
    {
      "cell_type": "code",
      "execution_count": 423,
      "metadata": {
        "colab": {
          "base_uri": "https://localhost:8080/",
          "height": 990
        },
        "id": "rvdtP49mDUrs",
        "outputId": "217b4aaa-713a-4698-ed35-8007f86d323e"
      },
      "outputs": [
        {
          "data": {
            "text/html": [
              "<div>\n",
              "<style scoped>\n",
              "    .dataframe tbody tr th:only-of-type {\n",
              "        vertical-align: middle;\n",
              "    }\n",
              "\n",
              "    .dataframe tbody tr th {\n",
              "        vertical-align: top;\n",
              "    }\n",
              "\n",
              "    .dataframe thead th {\n",
              "        text-align: right;\n",
              "    }\n",
              "</style>\n",
              "<table border=\"1\" class=\"dataframe\">\n",
              "  <thead>\n",
              "    <tr style=\"text-align: right;\">\n",
              "      <th></th>\n",
              "      <th>year</th>\n",
              "      <th>gdp</th>\n",
              "      <th>name</th>\n",
              "      <th>lowest gdp ranking (lowest to 5th lowest)</th>\n",
              "    </tr>\n",
              "  </thead>\n",
              "  <tbody>\n",
              "    <tr>\n",
              "      <th>0</th>\n",
              "      <td>1997</td>\n",
              "      <td>14708.7</td>\n",
              "      <td>Wyoming</td>\n",
              "      <td>1</td>\n",
              "    </tr>\n",
              "    <tr>\n",
              "      <th>1</th>\n",
              "      <td>1997</td>\n",
              "      <td>15451.6</td>\n",
              "      <td>Vermont</td>\n",
              "      <td>2</td>\n",
              "    </tr>\n",
              "    <tr>\n",
              "      <th>2</th>\n",
              "      <td>1997</td>\n",
              "      <td>15767.7</td>\n",
              "      <td>North Dakota</td>\n",
              "      <td>3</td>\n",
              "    </tr>\n",
              "    <tr>\n",
              "      <th>3</th>\n",
              "      <td>1997</td>\n",
              "      <td>19036.2</td>\n",
              "      <td>South Dakota</td>\n",
              "      <td>4</td>\n",
              "    </tr>\n",
              "    <tr>\n",
              "      <th>4</th>\n",
              "      <td>1997</td>\n",
              "      <td>19323.1</td>\n",
              "      <td>Montana</td>\n",
              "      <td>5</td>\n",
              "    </tr>\n",
              "    <tr>\n",
              "      <th>5</th>\n",
              "      <td>1998</td>\n",
              "      <td>14883.8</td>\n",
              "      <td>Wyoming</td>\n",
              "      <td>1</td>\n",
              "    </tr>\n",
              "    <tr>\n",
              "      <th>6</th>\n",
              "      <td>1998</td>\n",
              "      <td>16080.3</td>\n",
              "      <td>Vermont</td>\n",
              "      <td>2</td>\n",
              "    </tr>\n",
              "    <tr>\n",
              "      <th>7</th>\n",
              "      <td>1998</td>\n",
              "      <td>16826.2</td>\n",
              "      <td>North Dakota</td>\n",
              "      <td>3</td>\n",
              "    </tr>\n",
              "    <tr>\n",
              "      <th>8</th>\n",
              "      <td>1998</td>\n",
              "      <td>20216.8</td>\n",
              "      <td>South Dakota</td>\n",
              "      <td>4</td>\n",
              "    </tr>\n",
              "    <tr>\n",
              "      <th>9</th>\n",
              "      <td>1998</td>\n",
              "      <td>20450.0</td>\n",
              "      <td>Montana</td>\n",
              "      <td>5</td>\n",
              "    </tr>\n",
              "    <tr>\n",
              "      <th>10</th>\n",
              "      <td>1999</td>\n",
              "      <td>15715.0</td>\n",
              "      <td>Wyoming</td>\n",
              "      <td>1</td>\n",
              "    </tr>\n",
              "    <tr>\n",
              "      <th>11</th>\n",
              "      <td>1999</td>\n",
              "      <td>17017.3</td>\n",
              "      <td>North Dakota</td>\n",
              "      <td>2</td>\n",
              "    </tr>\n",
              "    <tr>\n",
              "      <th>12</th>\n",
              "      <td>1999</td>\n",
              "      <td>17161.8</td>\n",
              "      <td>Vermont</td>\n",
              "      <td>3</td>\n",
              "    </tr>\n",
              "    <tr>\n",
              "      <th>13</th>\n",
              "      <td>1999</td>\n",
              "      <td>20821.0</td>\n",
              "      <td>Montana</td>\n",
              "      <td>4</td>\n",
              "    </tr>\n",
              "    <tr>\n",
              "      <th>14</th>\n",
              "      <td>1999</td>\n",
              "      <td>21045.5</td>\n",
              "      <td>South Dakota</td>\n",
              "      <td>5</td>\n",
              "    </tr>\n",
              "    <tr>\n",
              "      <th>15</th>\n",
              "      <td>2000</td>\n",
              "      <td>17191.8</td>\n",
              "      <td>Wyoming</td>\n",
              "      <td>1</td>\n",
              "    </tr>\n",
              "    <tr>\n",
              "      <th>16</th>\n",
              "      <td>2000</td>\n",
              "      <td>18013.5</td>\n",
              "      <td>North Dakota</td>\n",
              "      <td>2</td>\n",
              "    </tr>\n",
              "    <tr>\n",
              "      <th>17</th>\n",
              "      <td>2000</td>\n",
              "      <td>18312.7</td>\n",
              "      <td>Vermont</td>\n",
              "      <td>3</td>\n",
              "    </tr>\n",
              "    <tr>\n",
              "      <th>18</th>\n",
              "      <td>2000</td>\n",
              "      <td>21878.4</td>\n",
              "      <td>Montana</td>\n",
              "      <td>4</td>\n",
              "    </tr>\n",
              "    <tr>\n",
              "      <th>19</th>\n",
              "      <td>2000</td>\n",
              "      <td>22669.2</td>\n",
              "      <td>South Dakota</td>\n",
              "      <td>5</td>\n",
              "    </tr>\n",
              "    <tr>\n",
              "      <th>20</th>\n",
              "      <td>2001</td>\n",
              "      <td>18691.2</td>\n",
              "      <td>Wyoming</td>\n",
              "      <td>1</td>\n",
              "    </tr>\n",
              "    <tr>\n",
              "      <th>21</th>\n",
              "      <td>2001</td>\n",
              "      <td>18960.6</td>\n",
              "      <td>North Dakota</td>\n",
              "      <td>2</td>\n",
              "    </tr>\n",
              "    <tr>\n",
              "      <th>22</th>\n",
              "      <td>2001</td>\n",
              "      <td>19271.8</td>\n",
              "      <td>Vermont</td>\n",
              "      <td>3</td>\n",
              "    </tr>\n",
              "    <tr>\n",
              "      <th>23</th>\n",
              "      <td>2001</td>\n",
              "      <td>22793.3</td>\n",
              "      <td>Montana</td>\n",
              "      <td>4</td>\n",
              "    </tr>\n",
              "    <tr>\n",
              "      <th>24</th>\n",
              "      <td>2001</td>\n",
              "      <td>23406.1</td>\n",
              "      <td>South Dakota</td>\n",
              "      <td>5</td>\n",
              "    </tr>\n",
              "    <tr>\n",
              "      <th>25</th>\n",
              "      <td>2002</td>\n",
              "      <td>19149.7</td>\n",
              "      <td>Wyoming</td>\n",
              "      <td>1</td>\n",
              "    </tr>\n",
              "    <tr>\n",
              "      <th>26</th>\n",
              "      <td>2002</td>\n",
              "      <td>20161.5</td>\n",
              "      <td>Vermont</td>\n",
              "      <td>2</td>\n",
              "    </tr>\n",
              "    <tr>\n",
              "      <th>27</th>\n",
              "      <td>2002</td>\n",
              "      <td>20229.1</td>\n",
              "      <td>North Dakota</td>\n",
              "      <td>3</td>\n",
              "    </tr>\n",
              "    <tr>\n",
              "      <th>28</th>\n",
              "      <td>2002</td>\n",
              "      <td>23868.0</td>\n",
              "      <td>Montana</td>\n",
              "      <td>4</td>\n",
              "    </tr>\n",
              "    <tr>\n",
              "      <th>29</th>\n",
              "      <td>2002</td>\n",
              "      <td>26164.5</td>\n",
              "      <td>South Dakota</td>\n",
              "      <td>5</td>\n",
              "    </tr>\n",
              "  </tbody>\n",
              "</table>\n",
              "</div>"
            ],
            "text/plain": [
              "    year      gdp          name  lowest gdp ranking (lowest to 5th lowest)\n",
              "0   1997  14708.7       Wyoming                                          1\n",
              "1   1997  15451.6       Vermont                                          2\n",
              "2   1997  15767.7  North Dakota                                          3\n",
              "3   1997  19036.2  South Dakota                                          4\n",
              "4   1997  19323.1       Montana                                          5\n",
              "5   1998  14883.8       Wyoming                                          1\n",
              "6   1998  16080.3       Vermont                                          2\n",
              "7   1998  16826.2  North Dakota                                          3\n",
              "8   1998  20216.8  South Dakota                                          4\n",
              "9   1998  20450.0       Montana                                          5\n",
              "10  1999  15715.0       Wyoming                                          1\n",
              "11  1999  17017.3  North Dakota                                          2\n",
              "12  1999  17161.8       Vermont                                          3\n",
              "13  1999  20821.0       Montana                                          4\n",
              "14  1999  21045.5  South Dakota                                          5\n",
              "15  2000  17191.8       Wyoming                                          1\n",
              "16  2000  18013.5  North Dakota                                          2\n",
              "17  2000  18312.7       Vermont                                          3\n",
              "18  2000  21878.4       Montana                                          4\n",
              "19  2000  22669.2  South Dakota                                          5\n",
              "20  2001  18691.2       Wyoming                                          1\n",
              "21  2001  18960.6  North Dakota                                          2\n",
              "22  2001  19271.8       Vermont                                          3\n",
              "23  2001  22793.3       Montana                                          4\n",
              "24  2001  23406.1  South Dakota                                          5\n",
              "25  2002  19149.7       Wyoming                                          1\n",
              "26  2002  20161.5       Vermont                                          2\n",
              "27  2002  20229.1  North Dakota                                          3\n",
              "28  2002  23868.0       Montana                                          4\n",
              "29  2002  26164.5  South Dakota                                          5"
            ]
          },
          "execution_count": 423,
          "metadata": {},
          "output_type": "execute_result"
        }
      ],
      "source": [
        "lowest_state_gdp_df.reset_index(drop=True, inplace=True)\n",
        "lowest_state_gdp_df['lowest gdp ranking (lowest to 5th lowest)'] = (lowest_state_gdp_df.index % 5) + 1\n",
        "lowest_state_gdp_df"
      ]
    },
    {
      "cell_type": "code",
      "execution_count": 424,
      "metadata": {
        "colab": {
          "base_uri": "https://localhost:8080/",
          "height": 542
        },
        "id": "O08pfPv5rFRW",
        "outputId": "0a21c9fa-3b40-4712-c9b3-b4221d825c3d"
      },
      "outputs": [
        {
          "data": {
            "application/vnd.plotly.v1+json": {
              "config": {
                "plotlyServerURL": "https://plot.ly"
              },
              "data": [
                {
                  "hovertemplate": "name=Wyoming<br>year=1997<br>lowest gdp ranking (lowest to 5th lowest)=%{x}<br>gdp=%{y}<extra></extra>",
                  "ids": [
                    14708.7
                  ],
                  "legendgroup": "Wyoming",
                  "marker": {
                    "color": "#636efa",
                    "symbol": "circle"
                  },
                  "mode": "markers",
                  "name": "Wyoming",
                  "orientation": "v",
                  "showlegend": true,
                  "type": "scatter",
                  "x": [
                    1
                  ],
                  "xaxis": "x",
                  "y": [
                    14708.7
                  ],
                  "yaxis": "y"
                },
                {
                  "hovertemplate": "name=Vermont<br>year=1997<br>lowest gdp ranking (lowest to 5th lowest)=%{x}<br>gdp=%{y}<extra></extra>",
                  "ids": [
                    15451.6
                  ],
                  "legendgroup": "Vermont",
                  "marker": {
                    "color": "#EF553B",
                    "symbol": "circle"
                  },
                  "mode": "markers",
                  "name": "Vermont",
                  "orientation": "v",
                  "showlegend": true,
                  "type": "scatter",
                  "x": [
                    2
                  ],
                  "xaxis": "x",
                  "y": [
                    15451.6
                  ],
                  "yaxis": "y"
                },
                {
                  "hovertemplate": "name=North Dakota<br>year=1997<br>lowest gdp ranking (lowest to 5th lowest)=%{x}<br>gdp=%{y}<extra></extra>",
                  "ids": [
                    15767.7
                  ],
                  "legendgroup": "North Dakota",
                  "marker": {
                    "color": "#00cc96",
                    "symbol": "circle"
                  },
                  "mode": "markers",
                  "name": "North Dakota",
                  "orientation": "v",
                  "showlegend": true,
                  "type": "scatter",
                  "x": [
                    3
                  ],
                  "xaxis": "x",
                  "y": [
                    15767.7
                  ],
                  "yaxis": "y"
                },
                {
                  "hovertemplate": "name=South Dakota<br>year=1997<br>lowest gdp ranking (lowest to 5th lowest)=%{x}<br>gdp=%{y}<extra></extra>",
                  "ids": [
                    19036.2
                  ],
                  "legendgroup": "South Dakota",
                  "marker": {
                    "color": "#ab63fa",
                    "symbol": "circle"
                  },
                  "mode": "markers",
                  "name": "South Dakota",
                  "orientation": "v",
                  "showlegend": true,
                  "type": "scatter",
                  "x": [
                    4
                  ],
                  "xaxis": "x",
                  "y": [
                    19036.2
                  ],
                  "yaxis": "y"
                },
                {
                  "hovertemplate": "name=Montana<br>year=1997<br>lowest gdp ranking (lowest to 5th lowest)=%{x}<br>gdp=%{y}<extra></extra>",
                  "ids": [
                    19323.1
                  ],
                  "legendgroup": "Montana",
                  "marker": {
                    "color": "#FFA15A",
                    "symbol": "circle"
                  },
                  "mode": "markers",
                  "name": "Montana",
                  "orientation": "v",
                  "showlegend": true,
                  "type": "scatter",
                  "x": [
                    5
                  ],
                  "xaxis": "x",
                  "y": [
                    19323.1
                  ],
                  "yaxis": "y"
                }
              ],
              "frames": [
                {
                  "data": [
                    {
                      "hovertemplate": "name=Wyoming<br>year=1997<br>lowest gdp ranking (lowest to 5th lowest)=%{x}<br>gdp=%{y}<extra></extra>",
                      "ids": [
                        14708.7
                      ],
                      "legendgroup": "Wyoming",
                      "marker": {
                        "color": "#636efa",
                        "symbol": "circle"
                      },
                      "mode": "markers",
                      "name": "Wyoming",
                      "orientation": "v",
                      "showlegend": true,
                      "type": "scatter",
                      "x": [
                        1
                      ],
                      "xaxis": "x",
                      "y": [
                        14708.7
                      ],
                      "yaxis": "y"
                    },
                    {
                      "hovertemplate": "name=Vermont<br>year=1997<br>lowest gdp ranking (lowest to 5th lowest)=%{x}<br>gdp=%{y}<extra></extra>",
                      "ids": [
                        15451.6
                      ],
                      "legendgroup": "Vermont",
                      "marker": {
                        "color": "#EF553B",
                        "symbol": "circle"
                      },
                      "mode": "markers",
                      "name": "Vermont",
                      "orientation": "v",
                      "showlegend": true,
                      "type": "scatter",
                      "x": [
                        2
                      ],
                      "xaxis": "x",
                      "y": [
                        15451.6
                      ],
                      "yaxis": "y"
                    },
                    {
                      "hovertemplate": "name=North Dakota<br>year=1997<br>lowest gdp ranking (lowest to 5th lowest)=%{x}<br>gdp=%{y}<extra></extra>",
                      "ids": [
                        15767.7
                      ],
                      "legendgroup": "North Dakota",
                      "marker": {
                        "color": "#00cc96",
                        "symbol": "circle"
                      },
                      "mode": "markers",
                      "name": "North Dakota",
                      "orientation": "v",
                      "showlegend": true,
                      "type": "scatter",
                      "x": [
                        3
                      ],
                      "xaxis": "x",
                      "y": [
                        15767.7
                      ],
                      "yaxis": "y"
                    },
                    {
                      "hovertemplate": "name=South Dakota<br>year=1997<br>lowest gdp ranking (lowest to 5th lowest)=%{x}<br>gdp=%{y}<extra></extra>",
                      "ids": [
                        19036.2
                      ],
                      "legendgroup": "South Dakota",
                      "marker": {
                        "color": "#ab63fa",
                        "symbol": "circle"
                      },
                      "mode": "markers",
                      "name": "South Dakota",
                      "orientation": "v",
                      "showlegend": true,
                      "type": "scatter",
                      "x": [
                        4
                      ],
                      "xaxis": "x",
                      "y": [
                        19036.2
                      ],
                      "yaxis": "y"
                    },
                    {
                      "hovertemplate": "name=Montana<br>year=1997<br>lowest gdp ranking (lowest to 5th lowest)=%{x}<br>gdp=%{y}<extra></extra>",
                      "ids": [
                        19323.1
                      ],
                      "legendgroup": "Montana",
                      "marker": {
                        "color": "#FFA15A",
                        "symbol": "circle"
                      },
                      "mode": "markers",
                      "name": "Montana",
                      "orientation": "v",
                      "showlegend": true,
                      "type": "scatter",
                      "x": [
                        5
                      ],
                      "xaxis": "x",
                      "y": [
                        19323.1
                      ],
                      "yaxis": "y"
                    }
                  ],
                  "name": "1997"
                },
                {
                  "data": [
                    {
                      "hovertemplate": "name=Wyoming<br>year=1998<br>lowest gdp ranking (lowest to 5th lowest)=%{x}<br>gdp=%{y}<extra></extra>",
                      "ids": [
                        14883.8
                      ],
                      "legendgroup": "Wyoming",
                      "marker": {
                        "color": "#636efa",
                        "symbol": "circle"
                      },
                      "mode": "markers",
                      "name": "Wyoming",
                      "orientation": "v",
                      "showlegend": true,
                      "type": "scatter",
                      "x": [
                        1
                      ],
                      "xaxis": "x",
                      "y": [
                        14883.8
                      ],
                      "yaxis": "y"
                    },
                    {
                      "hovertemplate": "name=Vermont<br>year=1998<br>lowest gdp ranking (lowest to 5th lowest)=%{x}<br>gdp=%{y}<extra></extra>",
                      "ids": [
                        16080.3
                      ],
                      "legendgroup": "Vermont",
                      "marker": {
                        "color": "#EF553B",
                        "symbol": "circle"
                      },
                      "mode": "markers",
                      "name": "Vermont",
                      "orientation": "v",
                      "showlegend": true,
                      "type": "scatter",
                      "x": [
                        2
                      ],
                      "xaxis": "x",
                      "y": [
                        16080.3
                      ],
                      "yaxis": "y"
                    },
                    {
                      "hovertemplate": "name=North Dakota<br>year=1998<br>lowest gdp ranking (lowest to 5th lowest)=%{x}<br>gdp=%{y}<extra></extra>",
                      "ids": [
                        16826.2
                      ],
                      "legendgroup": "North Dakota",
                      "marker": {
                        "color": "#00cc96",
                        "symbol": "circle"
                      },
                      "mode": "markers",
                      "name": "North Dakota",
                      "orientation": "v",
                      "showlegend": true,
                      "type": "scatter",
                      "x": [
                        3
                      ],
                      "xaxis": "x",
                      "y": [
                        16826.2
                      ],
                      "yaxis": "y"
                    },
                    {
                      "hovertemplate": "name=South Dakota<br>year=1998<br>lowest gdp ranking (lowest to 5th lowest)=%{x}<br>gdp=%{y}<extra></extra>",
                      "ids": [
                        20216.8
                      ],
                      "legendgroup": "South Dakota",
                      "marker": {
                        "color": "#ab63fa",
                        "symbol": "circle"
                      },
                      "mode": "markers",
                      "name": "South Dakota",
                      "orientation": "v",
                      "showlegend": true,
                      "type": "scatter",
                      "x": [
                        4
                      ],
                      "xaxis": "x",
                      "y": [
                        20216.8
                      ],
                      "yaxis": "y"
                    },
                    {
                      "hovertemplate": "name=Montana<br>year=1998<br>lowest gdp ranking (lowest to 5th lowest)=%{x}<br>gdp=%{y}<extra></extra>",
                      "ids": [
                        20450
                      ],
                      "legendgroup": "Montana",
                      "marker": {
                        "color": "#FFA15A",
                        "symbol": "circle"
                      },
                      "mode": "markers",
                      "name": "Montana",
                      "orientation": "v",
                      "showlegend": true,
                      "type": "scatter",
                      "x": [
                        5
                      ],
                      "xaxis": "x",
                      "y": [
                        20450
                      ],
                      "yaxis": "y"
                    }
                  ],
                  "name": "1998"
                },
                {
                  "data": [
                    {
                      "hovertemplate": "name=Wyoming<br>year=1999<br>lowest gdp ranking (lowest to 5th lowest)=%{x}<br>gdp=%{y}<extra></extra>",
                      "ids": [
                        15715
                      ],
                      "legendgroup": "Wyoming",
                      "marker": {
                        "color": "#636efa",
                        "symbol": "circle"
                      },
                      "mode": "markers",
                      "name": "Wyoming",
                      "orientation": "v",
                      "showlegend": true,
                      "type": "scatter",
                      "x": [
                        1
                      ],
                      "xaxis": "x",
                      "y": [
                        15715
                      ],
                      "yaxis": "y"
                    },
                    {
                      "hovertemplate": "name=Vermont<br>year=1999<br>lowest gdp ranking (lowest to 5th lowest)=%{x}<br>gdp=%{y}<extra></extra>",
                      "ids": [
                        17161.8
                      ],
                      "legendgroup": "Vermont",
                      "marker": {
                        "color": "#EF553B",
                        "symbol": "circle"
                      },
                      "mode": "markers",
                      "name": "Vermont",
                      "orientation": "v",
                      "showlegend": true,
                      "type": "scatter",
                      "x": [
                        3
                      ],
                      "xaxis": "x",
                      "y": [
                        17161.8
                      ],
                      "yaxis": "y"
                    },
                    {
                      "hovertemplate": "name=North Dakota<br>year=1999<br>lowest gdp ranking (lowest to 5th lowest)=%{x}<br>gdp=%{y}<extra></extra>",
                      "ids": [
                        17017.3
                      ],
                      "legendgroup": "North Dakota",
                      "marker": {
                        "color": "#00cc96",
                        "symbol": "circle"
                      },
                      "mode": "markers",
                      "name": "North Dakota",
                      "orientation": "v",
                      "showlegend": true,
                      "type": "scatter",
                      "x": [
                        2
                      ],
                      "xaxis": "x",
                      "y": [
                        17017.3
                      ],
                      "yaxis": "y"
                    },
                    {
                      "hovertemplate": "name=South Dakota<br>year=1999<br>lowest gdp ranking (lowest to 5th lowest)=%{x}<br>gdp=%{y}<extra></extra>",
                      "ids": [
                        21045.5
                      ],
                      "legendgroup": "South Dakota",
                      "marker": {
                        "color": "#ab63fa",
                        "symbol": "circle"
                      },
                      "mode": "markers",
                      "name": "South Dakota",
                      "orientation": "v",
                      "showlegend": true,
                      "type": "scatter",
                      "x": [
                        5
                      ],
                      "xaxis": "x",
                      "y": [
                        21045.5
                      ],
                      "yaxis": "y"
                    },
                    {
                      "hovertemplate": "name=Montana<br>year=1999<br>lowest gdp ranking (lowest to 5th lowest)=%{x}<br>gdp=%{y}<extra></extra>",
                      "ids": [
                        20821
                      ],
                      "legendgroup": "Montana",
                      "marker": {
                        "color": "#FFA15A",
                        "symbol": "circle"
                      },
                      "mode": "markers",
                      "name": "Montana",
                      "orientation": "v",
                      "showlegend": true,
                      "type": "scatter",
                      "x": [
                        4
                      ],
                      "xaxis": "x",
                      "y": [
                        20821
                      ],
                      "yaxis": "y"
                    }
                  ],
                  "name": "1999"
                },
                {
                  "data": [
                    {
                      "hovertemplate": "name=Wyoming<br>year=2000<br>lowest gdp ranking (lowest to 5th lowest)=%{x}<br>gdp=%{y}<extra></extra>",
                      "ids": [
                        17191.8
                      ],
                      "legendgroup": "Wyoming",
                      "marker": {
                        "color": "#636efa",
                        "symbol": "circle"
                      },
                      "mode": "markers",
                      "name": "Wyoming",
                      "orientation": "v",
                      "showlegend": true,
                      "type": "scatter",
                      "x": [
                        1
                      ],
                      "xaxis": "x",
                      "y": [
                        17191.8
                      ],
                      "yaxis": "y"
                    },
                    {
                      "hovertemplate": "name=Vermont<br>year=2000<br>lowest gdp ranking (lowest to 5th lowest)=%{x}<br>gdp=%{y}<extra></extra>",
                      "ids": [
                        18312.7
                      ],
                      "legendgroup": "Vermont",
                      "marker": {
                        "color": "#EF553B",
                        "symbol": "circle"
                      },
                      "mode": "markers",
                      "name": "Vermont",
                      "orientation": "v",
                      "showlegend": true,
                      "type": "scatter",
                      "x": [
                        3
                      ],
                      "xaxis": "x",
                      "y": [
                        18312.7
                      ],
                      "yaxis": "y"
                    },
                    {
                      "hovertemplate": "name=North Dakota<br>year=2000<br>lowest gdp ranking (lowest to 5th lowest)=%{x}<br>gdp=%{y}<extra></extra>",
                      "ids": [
                        18013.5
                      ],
                      "legendgroup": "North Dakota",
                      "marker": {
                        "color": "#00cc96",
                        "symbol": "circle"
                      },
                      "mode": "markers",
                      "name": "North Dakota",
                      "orientation": "v",
                      "showlegend": true,
                      "type": "scatter",
                      "x": [
                        2
                      ],
                      "xaxis": "x",
                      "y": [
                        18013.5
                      ],
                      "yaxis": "y"
                    },
                    {
                      "hovertemplate": "name=South Dakota<br>year=2000<br>lowest gdp ranking (lowest to 5th lowest)=%{x}<br>gdp=%{y}<extra></extra>",
                      "ids": [
                        22669.2
                      ],
                      "legendgroup": "South Dakota",
                      "marker": {
                        "color": "#ab63fa",
                        "symbol": "circle"
                      },
                      "mode": "markers",
                      "name": "South Dakota",
                      "orientation": "v",
                      "showlegend": true,
                      "type": "scatter",
                      "x": [
                        5
                      ],
                      "xaxis": "x",
                      "y": [
                        22669.2
                      ],
                      "yaxis": "y"
                    },
                    {
                      "hovertemplate": "name=Montana<br>year=2000<br>lowest gdp ranking (lowest to 5th lowest)=%{x}<br>gdp=%{y}<extra></extra>",
                      "ids": [
                        21878.4
                      ],
                      "legendgroup": "Montana",
                      "marker": {
                        "color": "#FFA15A",
                        "symbol": "circle"
                      },
                      "mode": "markers",
                      "name": "Montana",
                      "orientation": "v",
                      "showlegend": true,
                      "type": "scatter",
                      "x": [
                        4
                      ],
                      "xaxis": "x",
                      "y": [
                        21878.4
                      ],
                      "yaxis": "y"
                    }
                  ],
                  "name": "2000"
                },
                {
                  "data": [
                    {
                      "hovertemplate": "name=Wyoming<br>year=2001<br>lowest gdp ranking (lowest to 5th lowest)=%{x}<br>gdp=%{y}<extra></extra>",
                      "ids": [
                        18691.2
                      ],
                      "legendgroup": "Wyoming",
                      "marker": {
                        "color": "#636efa",
                        "symbol": "circle"
                      },
                      "mode": "markers",
                      "name": "Wyoming",
                      "orientation": "v",
                      "showlegend": true,
                      "type": "scatter",
                      "x": [
                        1
                      ],
                      "xaxis": "x",
                      "y": [
                        18691.2
                      ],
                      "yaxis": "y"
                    },
                    {
                      "hovertemplate": "name=Vermont<br>year=2001<br>lowest gdp ranking (lowest to 5th lowest)=%{x}<br>gdp=%{y}<extra></extra>",
                      "ids": [
                        19271.8
                      ],
                      "legendgroup": "Vermont",
                      "marker": {
                        "color": "#EF553B",
                        "symbol": "circle"
                      },
                      "mode": "markers",
                      "name": "Vermont",
                      "orientation": "v",
                      "showlegend": true,
                      "type": "scatter",
                      "x": [
                        3
                      ],
                      "xaxis": "x",
                      "y": [
                        19271.8
                      ],
                      "yaxis": "y"
                    },
                    {
                      "hovertemplate": "name=North Dakota<br>year=2001<br>lowest gdp ranking (lowest to 5th lowest)=%{x}<br>gdp=%{y}<extra></extra>",
                      "ids": [
                        18960.6
                      ],
                      "legendgroup": "North Dakota",
                      "marker": {
                        "color": "#00cc96",
                        "symbol": "circle"
                      },
                      "mode": "markers",
                      "name": "North Dakota",
                      "orientation": "v",
                      "showlegend": true,
                      "type": "scatter",
                      "x": [
                        2
                      ],
                      "xaxis": "x",
                      "y": [
                        18960.6
                      ],
                      "yaxis": "y"
                    },
                    {
                      "hovertemplate": "name=South Dakota<br>year=2001<br>lowest gdp ranking (lowest to 5th lowest)=%{x}<br>gdp=%{y}<extra></extra>",
                      "ids": [
                        23406.1
                      ],
                      "legendgroup": "South Dakota",
                      "marker": {
                        "color": "#ab63fa",
                        "symbol": "circle"
                      },
                      "mode": "markers",
                      "name": "South Dakota",
                      "orientation": "v",
                      "showlegend": true,
                      "type": "scatter",
                      "x": [
                        5
                      ],
                      "xaxis": "x",
                      "y": [
                        23406.1
                      ],
                      "yaxis": "y"
                    },
                    {
                      "hovertemplate": "name=Montana<br>year=2001<br>lowest gdp ranking (lowest to 5th lowest)=%{x}<br>gdp=%{y}<extra></extra>",
                      "ids": [
                        22793.3
                      ],
                      "legendgroup": "Montana",
                      "marker": {
                        "color": "#FFA15A",
                        "symbol": "circle"
                      },
                      "mode": "markers",
                      "name": "Montana",
                      "orientation": "v",
                      "showlegend": true,
                      "type": "scatter",
                      "x": [
                        4
                      ],
                      "xaxis": "x",
                      "y": [
                        22793.3
                      ],
                      "yaxis": "y"
                    }
                  ],
                  "name": "2001"
                },
                {
                  "data": [
                    {
                      "hovertemplate": "name=Wyoming<br>year=2002<br>lowest gdp ranking (lowest to 5th lowest)=%{x}<br>gdp=%{y}<extra></extra>",
                      "ids": [
                        19149.7
                      ],
                      "legendgroup": "Wyoming",
                      "marker": {
                        "color": "#636efa",
                        "symbol": "circle"
                      },
                      "mode": "markers",
                      "name": "Wyoming",
                      "orientation": "v",
                      "showlegend": true,
                      "type": "scatter",
                      "x": [
                        1
                      ],
                      "xaxis": "x",
                      "y": [
                        19149.7
                      ],
                      "yaxis": "y"
                    },
                    {
                      "hovertemplate": "name=Vermont<br>year=2002<br>lowest gdp ranking (lowest to 5th lowest)=%{x}<br>gdp=%{y}<extra></extra>",
                      "ids": [
                        20161.5
                      ],
                      "legendgroup": "Vermont",
                      "marker": {
                        "color": "#EF553B",
                        "symbol": "circle"
                      },
                      "mode": "markers",
                      "name": "Vermont",
                      "orientation": "v",
                      "showlegend": true,
                      "type": "scatter",
                      "x": [
                        2
                      ],
                      "xaxis": "x",
                      "y": [
                        20161.5
                      ],
                      "yaxis": "y"
                    },
                    {
                      "hovertemplate": "name=North Dakota<br>year=2002<br>lowest gdp ranking (lowest to 5th lowest)=%{x}<br>gdp=%{y}<extra></extra>",
                      "ids": [
                        20229.1
                      ],
                      "legendgroup": "North Dakota",
                      "marker": {
                        "color": "#00cc96",
                        "symbol": "circle"
                      },
                      "mode": "markers",
                      "name": "North Dakota",
                      "orientation": "v",
                      "showlegend": true,
                      "type": "scatter",
                      "x": [
                        3
                      ],
                      "xaxis": "x",
                      "y": [
                        20229.1
                      ],
                      "yaxis": "y"
                    },
                    {
                      "hovertemplate": "name=South Dakota<br>year=2002<br>lowest gdp ranking (lowest to 5th lowest)=%{x}<br>gdp=%{y}<extra></extra>",
                      "ids": [
                        26164.5
                      ],
                      "legendgroup": "South Dakota",
                      "marker": {
                        "color": "#ab63fa",
                        "symbol": "circle"
                      },
                      "mode": "markers",
                      "name": "South Dakota",
                      "orientation": "v",
                      "showlegend": true,
                      "type": "scatter",
                      "x": [
                        5
                      ],
                      "xaxis": "x",
                      "y": [
                        26164.5
                      ],
                      "yaxis": "y"
                    },
                    {
                      "hovertemplate": "name=Montana<br>year=2002<br>lowest gdp ranking (lowest to 5th lowest)=%{x}<br>gdp=%{y}<extra></extra>",
                      "ids": [
                        23868
                      ],
                      "legendgroup": "Montana",
                      "marker": {
                        "color": "#FFA15A",
                        "symbol": "circle"
                      },
                      "mode": "markers",
                      "name": "Montana",
                      "orientation": "v",
                      "showlegend": true,
                      "type": "scatter",
                      "x": [
                        4
                      ],
                      "xaxis": "x",
                      "y": [
                        23868
                      ],
                      "yaxis": "y"
                    }
                  ],
                  "name": "2002"
                }
              ],
              "layout": {
                "legend": {
                  "title": {
                    "text": "name"
                  },
                  "tracegroupgap": 0
                },
                "sliders": [
                  {
                    "active": 0,
                    "currentvalue": {
                      "prefix": "year="
                    },
                    "len": 0.9,
                    "pad": {
                      "b": 10,
                      "t": 60
                    },
                    "steps": [
                      {
                        "args": [
                          [
                            "1997"
                          ],
                          {
                            "frame": {
                              "duration": 0,
                              "redraw": false
                            },
                            "fromcurrent": true,
                            "mode": "immediate",
                            "transition": {
                              "duration": 0,
                              "easing": "linear"
                            }
                          }
                        ],
                        "label": "1997",
                        "method": "animate"
                      },
                      {
                        "args": [
                          [
                            "1998"
                          ],
                          {
                            "frame": {
                              "duration": 0,
                              "redraw": false
                            },
                            "fromcurrent": true,
                            "mode": "immediate",
                            "transition": {
                              "duration": 0,
                              "easing": "linear"
                            }
                          }
                        ],
                        "label": "1998",
                        "method": "animate"
                      },
                      {
                        "args": [
                          [
                            "1999"
                          ],
                          {
                            "frame": {
                              "duration": 0,
                              "redraw": false
                            },
                            "fromcurrent": true,
                            "mode": "immediate",
                            "transition": {
                              "duration": 0,
                              "easing": "linear"
                            }
                          }
                        ],
                        "label": "1999",
                        "method": "animate"
                      },
                      {
                        "args": [
                          [
                            "2000"
                          ],
                          {
                            "frame": {
                              "duration": 0,
                              "redraw": false
                            },
                            "fromcurrent": true,
                            "mode": "immediate",
                            "transition": {
                              "duration": 0,
                              "easing": "linear"
                            }
                          }
                        ],
                        "label": "2000",
                        "method": "animate"
                      },
                      {
                        "args": [
                          [
                            "2001"
                          ],
                          {
                            "frame": {
                              "duration": 0,
                              "redraw": false
                            },
                            "fromcurrent": true,
                            "mode": "immediate",
                            "transition": {
                              "duration": 0,
                              "easing": "linear"
                            }
                          }
                        ],
                        "label": "2001",
                        "method": "animate"
                      },
                      {
                        "args": [
                          [
                            "2002"
                          ],
                          {
                            "frame": {
                              "duration": 0,
                              "redraw": false
                            },
                            "fromcurrent": true,
                            "mode": "immediate",
                            "transition": {
                              "duration": 0,
                              "easing": "linear"
                            }
                          }
                        ],
                        "label": "2002",
                        "method": "animate"
                      }
                    ],
                    "x": 0.1,
                    "xanchor": "left",
                    "y": 0,
                    "yanchor": "top"
                  }
                ],
                "template": {
                  "data": {
                    "bar": [
                      {
                        "error_x": {
                          "color": "#2a3f5f"
                        },
                        "error_y": {
                          "color": "#2a3f5f"
                        },
                        "marker": {
                          "line": {
                            "color": "#E5ECF6",
                            "width": 0.5
                          },
                          "pattern": {
                            "fillmode": "overlay",
                            "size": 10,
                            "solidity": 0.2
                          }
                        },
                        "type": "bar"
                      }
                    ],
                    "barpolar": [
                      {
                        "marker": {
                          "line": {
                            "color": "#E5ECF6",
                            "width": 0.5
                          },
                          "pattern": {
                            "fillmode": "overlay",
                            "size": 10,
                            "solidity": 0.2
                          }
                        },
                        "type": "barpolar"
                      }
                    ],
                    "carpet": [
                      {
                        "aaxis": {
                          "endlinecolor": "#2a3f5f",
                          "gridcolor": "white",
                          "linecolor": "white",
                          "minorgridcolor": "white",
                          "startlinecolor": "#2a3f5f"
                        },
                        "baxis": {
                          "endlinecolor": "#2a3f5f",
                          "gridcolor": "white",
                          "linecolor": "white",
                          "minorgridcolor": "white",
                          "startlinecolor": "#2a3f5f"
                        },
                        "type": "carpet"
                      }
                    ],
                    "choropleth": [
                      {
                        "colorbar": {
                          "outlinewidth": 0,
                          "ticks": ""
                        },
                        "type": "choropleth"
                      }
                    ],
                    "contour": [
                      {
                        "colorbar": {
                          "outlinewidth": 0,
                          "ticks": ""
                        },
                        "colorscale": [
                          [
                            0,
                            "#0d0887"
                          ],
                          [
                            0.1111111111111111,
                            "#46039f"
                          ],
                          [
                            0.2222222222222222,
                            "#7201a8"
                          ],
                          [
                            0.3333333333333333,
                            "#9c179e"
                          ],
                          [
                            0.4444444444444444,
                            "#bd3786"
                          ],
                          [
                            0.5555555555555556,
                            "#d8576b"
                          ],
                          [
                            0.6666666666666666,
                            "#ed7953"
                          ],
                          [
                            0.7777777777777778,
                            "#fb9f3a"
                          ],
                          [
                            0.8888888888888888,
                            "#fdca26"
                          ],
                          [
                            1,
                            "#f0f921"
                          ]
                        ],
                        "type": "contour"
                      }
                    ],
                    "contourcarpet": [
                      {
                        "colorbar": {
                          "outlinewidth": 0,
                          "ticks": ""
                        },
                        "type": "contourcarpet"
                      }
                    ],
                    "heatmap": [
                      {
                        "colorbar": {
                          "outlinewidth": 0,
                          "ticks": ""
                        },
                        "colorscale": [
                          [
                            0,
                            "#0d0887"
                          ],
                          [
                            0.1111111111111111,
                            "#46039f"
                          ],
                          [
                            0.2222222222222222,
                            "#7201a8"
                          ],
                          [
                            0.3333333333333333,
                            "#9c179e"
                          ],
                          [
                            0.4444444444444444,
                            "#bd3786"
                          ],
                          [
                            0.5555555555555556,
                            "#d8576b"
                          ],
                          [
                            0.6666666666666666,
                            "#ed7953"
                          ],
                          [
                            0.7777777777777778,
                            "#fb9f3a"
                          ],
                          [
                            0.8888888888888888,
                            "#fdca26"
                          ],
                          [
                            1,
                            "#f0f921"
                          ]
                        ],
                        "type": "heatmap"
                      }
                    ],
                    "heatmapgl": [
                      {
                        "colorbar": {
                          "outlinewidth": 0,
                          "ticks": ""
                        },
                        "colorscale": [
                          [
                            0,
                            "#0d0887"
                          ],
                          [
                            0.1111111111111111,
                            "#46039f"
                          ],
                          [
                            0.2222222222222222,
                            "#7201a8"
                          ],
                          [
                            0.3333333333333333,
                            "#9c179e"
                          ],
                          [
                            0.4444444444444444,
                            "#bd3786"
                          ],
                          [
                            0.5555555555555556,
                            "#d8576b"
                          ],
                          [
                            0.6666666666666666,
                            "#ed7953"
                          ],
                          [
                            0.7777777777777778,
                            "#fb9f3a"
                          ],
                          [
                            0.8888888888888888,
                            "#fdca26"
                          ],
                          [
                            1,
                            "#f0f921"
                          ]
                        ],
                        "type": "heatmapgl"
                      }
                    ],
                    "histogram": [
                      {
                        "marker": {
                          "pattern": {
                            "fillmode": "overlay",
                            "size": 10,
                            "solidity": 0.2
                          }
                        },
                        "type": "histogram"
                      }
                    ],
                    "histogram2d": [
                      {
                        "colorbar": {
                          "outlinewidth": 0,
                          "ticks": ""
                        },
                        "colorscale": [
                          [
                            0,
                            "#0d0887"
                          ],
                          [
                            0.1111111111111111,
                            "#46039f"
                          ],
                          [
                            0.2222222222222222,
                            "#7201a8"
                          ],
                          [
                            0.3333333333333333,
                            "#9c179e"
                          ],
                          [
                            0.4444444444444444,
                            "#bd3786"
                          ],
                          [
                            0.5555555555555556,
                            "#d8576b"
                          ],
                          [
                            0.6666666666666666,
                            "#ed7953"
                          ],
                          [
                            0.7777777777777778,
                            "#fb9f3a"
                          ],
                          [
                            0.8888888888888888,
                            "#fdca26"
                          ],
                          [
                            1,
                            "#f0f921"
                          ]
                        ],
                        "type": "histogram2d"
                      }
                    ],
                    "histogram2dcontour": [
                      {
                        "colorbar": {
                          "outlinewidth": 0,
                          "ticks": ""
                        },
                        "colorscale": [
                          [
                            0,
                            "#0d0887"
                          ],
                          [
                            0.1111111111111111,
                            "#46039f"
                          ],
                          [
                            0.2222222222222222,
                            "#7201a8"
                          ],
                          [
                            0.3333333333333333,
                            "#9c179e"
                          ],
                          [
                            0.4444444444444444,
                            "#bd3786"
                          ],
                          [
                            0.5555555555555556,
                            "#d8576b"
                          ],
                          [
                            0.6666666666666666,
                            "#ed7953"
                          ],
                          [
                            0.7777777777777778,
                            "#fb9f3a"
                          ],
                          [
                            0.8888888888888888,
                            "#fdca26"
                          ],
                          [
                            1,
                            "#f0f921"
                          ]
                        ],
                        "type": "histogram2dcontour"
                      }
                    ],
                    "mesh3d": [
                      {
                        "colorbar": {
                          "outlinewidth": 0,
                          "ticks": ""
                        },
                        "type": "mesh3d"
                      }
                    ],
                    "parcoords": [
                      {
                        "line": {
                          "colorbar": {
                            "outlinewidth": 0,
                            "ticks": ""
                          }
                        },
                        "type": "parcoords"
                      }
                    ],
                    "pie": [
                      {
                        "automargin": true,
                        "type": "pie"
                      }
                    ],
                    "scatter": [
                      {
                        "fillpattern": {
                          "fillmode": "overlay",
                          "size": 10,
                          "solidity": 0.2
                        },
                        "type": "scatter"
                      }
                    ],
                    "scatter3d": [
                      {
                        "line": {
                          "colorbar": {
                            "outlinewidth": 0,
                            "ticks": ""
                          }
                        },
                        "marker": {
                          "colorbar": {
                            "outlinewidth": 0,
                            "ticks": ""
                          }
                        },
                        "type": "scatter3d"
                      }
                    ],
                    "scattercarpet": [
                      {
                        "marker": {
                          "colorbar": {
                            "outlinewidth": 0,
                            "ticks": ""
                          }
                        },
                        "type": "scattercarpet"
                      }
                    ],
                    "scattergeo": [
                      {
                        "marker": {
                          "colorbar": {
                            "outlinewidth": 0,
                            "ticks": ""
                          }
                        },
                        "type": "scattergeo"
                      }
                    ],
                    "scattergl": [
                      {
                        "marker": {
                          "colorbar": {
                            "outlinewidth": 0,
                            "ticks": ""
                          }
                        },
                        "type": "scattergl"
                      }
                    ],
                    "scattermapbox": [
                      {
                        "marker": {
                          "colorbar": {
                            "outlinewidth": 0,
                            "ticks": ""
                          }
                        },
                        "type": "scattermapbox"
                      }
                    ],
                    "scatterpolar": [
                      {
                        "marker": {
                          "colorbar": {
                            "outlinewidth": 0,
                            "ticks": ""
                          }
                        },
                        "type": "scatterpolar"
                      }
                    ],
                    "scatterpolargl": [
                      {
                        "marker": {
                          "colorbar": {
                            "outlinewidth": 0,
                            "ticks": ""
                          }
                        },
                        "type": "scatterpolargl"
                      }
                    ],
                    "scatterternary": [
                      {
                        "marker": {
                          "colorbar": {
                            "outlinewidth": 0,
                            "ticks": ""
                          }
                        },
                        "type": "scatterternary"
                      }
                    ],
                    "surface": [
                      {
                        "colorbar": {
                          "outlinewidth": 0,
                          "ticks": ""
                        },
                        "colorscale": [
                          [
                            0,
                            "#0d0887"
                          ],
                          [
                            0.1111111111111111,
                            "#46039f"
                          ],
                          [
                            0.2222222222222222,
                            "#7201a8"
                          ],
                          [
                            0.3333333333333333,
                            "#9c179e"
                          ],
                          [
                            0.4444444444444444,
                            "#bd3786"
                          ],
                          [
                            0.5555555555555556,
                            "#d8576b"
                          ],
                          [
                            0.6666666666666666,
                            "#ed7953"
                          ],
                          [
                            0.7777777777777778,
                            "#fb9f3a"
                          ],
                          [
                            0.8888888888888888,
                            "#fdca26"
                          ],
                          [
                            1,
                            "#f0f921"
                          ]
                        ],
                        "type": "surface"
                      }
                    ],
                    "table": [
                      {
                        "cells": {
                          "fill": {
                            "color": "#EBF0F8"
                          },
                          "line": {
                            "color": "white"
                          }
                        },
                        "header": {
                          "fill": {
                            "color": "#C8D4E3"
                          },
                          "line": {
                            "color": "white"
                          }
                        },
                        "type": "table"
                      }
                    ]
                  },
                  "layout": {
                    "annotationdefaults": {
                      "arrowcolor": "#2a3f5f",
                      "arrowhead": 0,
                      "arrowwidth": 1
                    },
                    "autotypenumbers": "strict",
                    "coloraxis": {
                      "colorbar": {
                        "outlinewidth": 0,
                        "ticks": ""
                      }
                    },
                    "colorscale": {
                      "diverging": [
                        [
                          0,
                          "#8e0152"
                        ],
                        [
                          0.1,
                          "#c51b7d"
                        ],
                        [
                          0.2,
                          "#de77ae"
                        ],
                        [
                          0.3,
                          "#f1b6da"
                        ],
                        [
                          0.4,
                          "#fde0ef"
                        ],
                        [
                          0.5,
                          "#f7f7f7"
                        ],
                        [
                          0.6,
                          "#e6f5d0"
                        ],
                        [
                          0.7,
                          "#b8e186"
                        ],
                        [
                          0.8,
                          "#7fbc41"
                        ],
                        [
                          0.9,
                          "#4d9221"
                        ],
                        [
                          1,
                          "#276419"
                        ]
                      ],
                      "sequential": [
                        [
                          0,
                          "#0d0887"
                        ],
                        [
                          0.1111111111111111,
                          "#46039f"
                        ],
                        [
                          0.2222222222222222,
                          "#7201a8"
                        ],
                        [
                          0.3333333333333333,
                          "#9c179e"
                        ],
                        [
                          0.4444444444444444,
                          "#bd3786"
                        ],
                        [
                          0.5555555555555556,
                          "#d8576b"
                        ],
                        [
                          0.6666666666666666,
                          "#ed7953"
                        ],
                        [
                          0.7777777777777778,
                          "#fb9f3a"
                        ],
                        [
                          0.8888888888888888,
                          "#fdca26"
                        ],
                        [
                          1,
                          "#f0f921"
                        ]
                      ],
                      "sequentialminus": [
                        [
                          0,
                          "#0d0887"
                        ],
                        [
                          0.1111111111111111,
                          "#46039f"
                        ],
                        [
                          0.2222222222222222,
                          "#7201a8"
                        ],
                        [
                          0.3333333333333333,
                          "#9c179e"
                        ],
                        [
                          0.4444444444444444,
                          "#bd3786"
                        ],
                        [
                          0.5555555555555556,
                          "#d8576b"
                        ],
                        [
                          0.6666666666666666,
                          "#ed7953"
                        ],
                        [
                          0.7777777777777778,
                          "#fb9f3a"
                        ],
                        [
                          0.8888888888888888,
                          "#fdca26"
                        ],
                        [
                          1,
                          "#f0f921"
                        ]
                      ]
                    },
                    "colorway": [
                      "#636efa",
                      "#EF553B",
                      "#00cc96",
                      "#ab63fa",
                      "#FFA15A",
                      "#19d3f3",
                      "#FF6692",
                      "#B6E880",
                      "#FF97FF",
                      "#FECB52"
                    ],
                    "font": {
                      "color": "#2a3f5f"
                    },
                    "geo": {
                      "bgcolor": "white",
                      "lakecolor": "white",
                      "landcolor": "#E5ECF6",
                      "showlakes": true,
                      "showland": true,
                      "subunitcolor": "white"
                    },
                    "hoverlabel": {
                      "align": "left"
                    },
                    "hovermode": "closest",
                    "mapbox": {
                      "style": "light"
                    },
                    "paper_bgcolor": "white",
                    "plot_bgcolor": "#E5ECF6",
                    "polar": {
                      "angularaxis": {
                        "gridcolor": "white",
                        "linecolor": "white",
                        "ticks": ""
                      },
                      "bgcolor": "#E5ECF6",
                      "radialaxis": {
                        "gridcolor": "white",
                        "linecolor": "white",
                        "ticks": ""
                      }
                    },
                    "scene": {
                      "xaxis": {
                        "backgroundcolor": "#E5ECF6",
                        "gridcolor": "white",
                        "gridwidth": 2,
                        "linecolor": "white",
                        "showbackground": true,
                        "ticks": "",
                        "zerolinecolor": "white"
                      },
                      "yaxis": {
                        "backgroundcolor": "#E5ECF6",
                        "gridcolor": "white",
                        "gridwidth": 2,
                        "linecolor": "white",
                        "showbackground": true,
                        "ticks": "",
                        "zerolinecolor": "white"
                      },
                      "zaxis": {
                        "backgroundcolor": "#E5ECF6",
                        "gridcolor": "white",
                        "gridwidth": 2,
                        "linecolor": "white",
                        "showbackground": true,
                        "ticks": "",
                        "zerolinecolor": "white"
                      }
                    },
                    "shapedefaults": {
                      "line": {
                        "color": "#2a3f5f"
                      }
                    },
                    "ternary": {
                      "aaxis": {
                        "gridcolor": "white",
                        "linecolor": "white",
                        "ticks": ""
                      },
                      "baxis": {
                        "gridcolor": "white",
                        "linecolor": "white",
                        "ticks": ""
                      },
                      "bgcolor": "#E5ECF6",
                      "caxis": {
                        "gridcolor": "white",
                        "linecolor": "white",
                        "ticks": ""
                      }
                    },
                    "title": {
                      "x": 0.05
                    },
                    "xaxis": {
                      "automargin": true,
                      "gridcolor": "white",
                      "linecolor": "white",
                      "ticks": "",
                      "title": {
                        "standoff": 15
                      },
                      "zerolinecolor": "white",
                      "zerolinewidth": 2
                    },
                    "yaxis": {
                      "automargin": true,
                      "gridcolor": "white",
                      "linecolor": "white",
                      "ticks": "",
                      "title": {
                        "standoff": 15
                      },
                      "zerolinecolor": "white",
                      "zerolinewidth": 2
                    }
                  }
                },
                "title": {
                  "text": "States with Lowest GDPs from 1997-2002"
                },
                "xaxis": {
                  "anchor": "y",
                  "domain": [
                    0,
                    1
                  ],
                  "range": [
                    -0.045757490560675115,
                    0.7708520116421441
                  ],
                  "title": {
                    "text": "lowest gdp ranking (lowest to 5th lowest)"
                  },
                  "type": "log"
                },
                "yaxis": {
                  "anchor": "x",
                  "domain": [
                    0,
                    1
                  ],
                  "range": [
                    0,
                    30000
                  ],
                  "title": {
                    "text": "gdp"
                  }
                }
              }
            }
          },
          "metadata": {},
          "output_type": "display_data"
        }
      ],
      "source": [
        "# Plots the states' GDPs from 1997-2002\n",
        "df = px.data.gapminder()\n",
        "fig = px.scatter(lowest_state_gdp_df,x=\"lowest gdp ranking (lowest to 5th lowest)\", y=\"gdp\", title = \"States with Lowest GDPs from 1997-2002\", animation_frame=\"year\", animation_group=\"gdp\",\n",
        "            color=\"name\", range_x=[0.9, 5.9], range_y=[0, 30000],\n",
        "           log_x=True)\n",
        "\n",
        "fig[\"layout\"].pop(\"updatemenus\") # optional, drop animation buttons\n",
        "fig.show()\n"
      ]
    },
    {
      "cell_type": "code",
      "execution_count": 425,
      "metadata": {},
      "outputs": [
        {
          "data": {
            "text/html": [
              "<div>\n",
              "<style scoped>\n",
              "    .dataframe tbody tr th:only-of-type {\n",
              "        vertical-align: middle;\n",
              "    }\n",
              "\n",
              "    .dataframe tbody tr th {\n",
              "        vertical-align: top;\n",
              "    }\n",
              "\n",
              "    .dataframe thead th {\n",
              "        text-align: right;\n",
              "    }\n",
              "</style>\n",
              "<table border=\"1\" class=\"dataframe\">\n",
              "  <thead>\n",
              "    <tr style=\"text-align: right;\">\n",
              "      <th></th>\n",
              "      <th>year</th>\n",
              "      <th>gdp</th>\n",
              "      <th>name</th>\n",
              "      <th>lowest gdp ranking (lowest to 5th lowest)</th>\n",
              "    </tr>\n",
              "  </thead>\n",
              "  <tbody>\n",
              "    <tr>\n",
              "      <th>0</th>\n",
              "      <td>1997</td>\n",
              "      <td>245.0</td>\n",
              "      <td>WSM</td>\n",
              "      <td>1</td>\n",
              "    </tr>\n",
              "    <tr>\n",
              "      <th>1</th>\n",
              "      <td>1997</td>\n",
              "      <td>269.0</td>\n",
              "      <td>GNB</td>\n",
              "      <td>2</td>\n",
              "    </tr>\n",
              "    <tr>\n",
              "      <th>2</th>\n",
              "      <td>1997</td>\n",
              "      <td>410.0</td>\n",
              "      <td>GMB</td>\n",
              "      <td>3</td>\n",
              "    </tr>\n",
              "    <tr>\n",
              "      <th>3</th>\n",
              "      <td>1997</td>\n",
              "      <td>498.0</td>\n",
              "      <td>GNQ</td>\n",
              "      <td>4</td>\n",
              "    </tr>\n",
              "    <tr>\n",
              "      <th>4</th>\n",
              "      <td>1997</td>\n",
              "      <td>503.0</td>\n",
              "      <td>DJI</td>\n",
              "      <td>5</td>\n",
              "    </tr>\n",
              "    <tr>\n",
              "      <th>5</th>\n",
              "      <td>1998</td>\n",
              "      <td>206.0</td>\n",
              "      <td>GNB</td>\n",
              "      <td>1</td>\n",
              "    </tr>\n",
              "    <tr>\n",
              "      <th>6</th>\n",
              "      <td>1998</td>\n",
              "      <td>224.0</td>\n",
              "      <td>WSM</td>\n",
              "      <td>2</td>\n",
              "    </tr>\n",
              "    <tr>\n",
              "      <th>7</th>\n",
              "      <td>1998</td>\n",
              "      <td>417.0</td>\n",
              "      <td>GMB</td>\n",
              "      <td>3</td>\n",
              "    </tr>\n",
              "    <tr>\n",
              "      <th>8</th>\n",
              "      <td>1998</td>\n",
              "      <td>456.0</td>\n",
              "      <td>GNQ</td>\n",
              "      <td>4</td>\n",
              "    </tr>\n",
              "    <tr>\n",
              "      <th>9</th>\n",
              "      <td>1998</td>\n",
              "      <td>514.0</td>\n",
              "      <td>DJI</td>\n",
              "      <td>5</td>\n",
              "    </tr>\n",
              "    <tr>\n",
              "      <th>10</th>\n",
              "      <td>1999</td>\n",
              "      <td>224.0</td>\n",
              "      <td>GNB</td>\n",
              "      <td>1</td>\n",
              "    </tr>\n",
              "    <tr>\n",
              "      <th>11</th>\n",
              "      <td>1999</td>\n",
              "      <td>233.0</td>\n",
              "      <td>WSM</td>\n",
              "      <td>2</td>\n",
              "    </tr>\n",
              "    <tr>\n",
              "      <th>12</th>\n",
              "      <td>1999</td>\n",
              "      <td>432.0</td>\n",
              "      <td>GMB</td>\n",
              "      <td>3</td>\n",
              "    </tr>\n",
              "    <tr>\n",
              "      <th>13</th>\n",
              "      <td>1999</td>\n",
              "      <td>536.0</td>\n",
              "      <td>DJI</td>\n",
              "      <td>4</td>\n",
              "    </tr>\n",
              "    <tr>\n",
              "      <th>14</th>\n",
              "      <td>1999</td>\n",
              "      <td>588.0</td>\n",
              "      <td>CPV</td>\n",
              "      <td>5</td>\n",
              "    </tr>\n",
              "    <tr>\n",
              "      <th>15</th>\n",
              "      <td>2000</td>\n",
              "      <td>215.0</td>\n",
              "      <td>GNB</td>\n",
              "      <td>1</td>\n",
              "    </tr>\n",
              "    <tr>\n",
              "      <th>16</th>\n",
              "      <td>2000</td>\n",
              "      <td>237.0</td>\n",
              "      <td>WSM</td>\n",
              "      <td>2</td>\n",
              "    </tr>\n",
              "    <tr>\n",
              "      <th>17</th>\n",
              "      <td>2000</td>\n",
              "      <td>422.0</td>\n",
              "      <td>GMB</td>\n",
              "      <td>3</td>\n",
              "    </tr>\n",
              "    <tr>\n",
              "      <th>18</th>\n",
              "      <td>2000</td>\n",
              "      <td>553.0</td>\n",
              "      <td>DJI</td>\n",
              "      <td>4</td>\n",
              "    </tr>\n",
              "    <tr>\n",
              "      <th>19</th>\n",
              "      <td>2000</td>\n",
              "      <td>558.0</td>\n",
              "      <td>CPV</td>\n",
              "      <td>5</td>\n",
              "    </tr>\n",
              "    <tr>\n",
              "      <th>20</th>\n",
              "      <td>2001</td>\n",
              "      <td>0.0</td>\n",
              "      <td>ALB</td>\n",
              "      <td>1</td>\n",
              "    </tr>\n",
              "    <tr>\n",
              "      <th>21</th>\n",
              "      <td>2001</td>\n",
              "      <td>0.0</td>\n",
              "      <td>PHL</td>\n",
              "      <td>2</td>\n",
              "    </tr>\n",
              "    <tr>\n",
              "      <th>22</th>\n",
              "      <td>2001</td>\n",
              "      <td>0.0</td>\n",
              "      <td>PER</td>\n",
              "      <td>3</td>\n",
              "    </tr>\n",
              "    <tr>\n",
              "      <th>23</th>\n",
              "      <td>2001</td>\n",
              "      <td>0.0</td>\n",
              "      <td>PAN</td>\n",
              "      <td>4</td>\n",
              "    </tr>\n",
              "    <tr>\n",
              "      <th>24</th>\n",
              "      <td>2001</td>\n",
              "      <td>0.0</td>\n",
              "      <td>PAK</td>\n",
              "      <td>5</td>\n",
              "    </tr>\n",
              "    <tr>\n",
              "      <th>25</th>\n",
              "      <td>2002</td>\n",
              "      <td>0.0</td>\n",
              "      <td>ALB</td>\n",
              "      <td>1</td>\n",
              "    </tr>\n",
              "    <tr>\n",
              "      <th>26</th>\n",
              "      <td>2002</td>\n",
              "      <td>0.0</td>\n",
              "      <td>PHL</td>\n",
              "      <td>2</td>\n",
              "    </tr>\n",
              "    <tr>\n",
              "      <th>27</th>\n",
              "      <td>2002</td>\n",
              "      <td>0.0</td>\n",
              "      <td>PER</td>\n",
              "      <td>3</td>\n",
              "    </tr>\n",
              "    <tr>\n",
              "      <th>28</th>\n",
              "      <td>2002</td>\n",
              "      <td>0.0</td>\n",
              "      <td>PAN</td>\n",
              "      <td>4</td>\n",
              "    </tr>\n",
              "    <tr>\n",
              "      <th>29</th>\n",
              "      <td>2002</td>\n",
              "      <td>0.0</td>\n",
              "      <td>PAK</td>\n",
              "      <td>5</td>\n",
              "    </tr>\n",
              "  </tbody>\n",
              "</table>\n",
              "</div>"
            ],
            "text/plain": [
              "    year    gdp name  lowest gdp ranking (lowest to 5th lowest)\n",
              "0   1997  245.0  WSM                                          1\n",
              "1   1997  269.0  GNB                                          2\n",
              "2   1997  410.0  GMB                                          3\n",
              "3   1997  498.0  GNQ                                          4\n",
              "4   1997  503.0  DJI                                          5\n",
              "5   1998  206.0  GNB                                          1\n",
              "6   1998  224.0  WSM                                          2\n",
              "7   1998  417.0  GMB                                          3\n",
              "8   1998  456.0  GNQ                                          4\n",
              "9   1998  514.0  DJI                                          5\n",
              "10  1999  224.0  GNB                                          1\n",
              "11  1999  233.0  WSM                                          2\n",
              "12  1999  432.0  GMB                                          3\n",
              "13  1999  536.0  DJI                                          4\n",
              "14  1999  588.0  CPV                                          5\n",
              "15  2000  215.0  GNB                                          1\n",
              "16  2000  237.0  WSM                                          2\n",
              "17  2000  422.0  GMB                                          3\n",
              "18  2000  553.0  DJI                                          4\n",
              "19  2000  558.0  CPV                                          5\n",
              "20  2001    0.0  ALB                                          1\n",
              "21  2001    0.0  PHL                                          2\n",
              "22  2001    0.0  PER                                          3\n",
              "23  2001    0.0  PAN                                          4\n",
              "24  2001    0.0  PAK                                          5\n",
              "25  2002    0.0  ALB                                          1\n",
              "26  2002    0.0  PHL                                          2\n",
              "27  2002    0.0  PER                                          3\n",
              "28  2002    0.0  PAN                                          4\n",
              "29  2002    0.0  PAK                                          5"
            ]
          },
          "execution_count": 425,
          "metadata": {},
          "output_type": "execute_result"
        }
      ],
      "source": [
        "lowest_country_gdp_df.reset_index(drop=True, inplace=True)\n",
        "lowest_country_gdp_df['lowest gdp ranking (lowest to 5th lowest)'] = (lowest_country_gdp_df.index % 5) + 1\n",
        "lowest_country_gdp_df"
      ]
    },
    {
      "cell_type": "code",
      "execution_count": 426,
      "metadata": {},
      "outputs": [
        {
          "data": {
            "application/vnd.plotly.v1+json": {
              "config": {
                "plotlyServerURL": "https://plot.ly"
              },
              "data": [
                {
                  "hovertemplate": "name=WSM<br>year=1997<br>lowest gdp ranking (lowest to 5th lowest)=%{x}<br>gdp=%{y}<extra></extra>",
                  "ids": [
                    245
                  ],
                  "legendgroup": "WSM",
                  "marker": {
                    "color": "#636efa",
                    "symbol": "circle"
                  },
                  "mode": "markers",
                  "name": "WSM",
                  "orientation": "v",
                  "showlegend": true,
                  "type": "scatter",
                  "x": [
                    1
                  ],
                  "xaxis": "x",
                  "y": [
                    245
                  ],
                  "yaxis": "y"
                },
                {
                  "hovertemplate": "name=GNB<br>year=1997<br>lowest gdp ranking (lowest to 5th lowest)=%{x}<br>gdp=%{y}<extra></extra>",
                  "ids": [
                    269
                  ],
                  "legendgroup": "GNB",
                  "marker": {
                    "color": "#EF553B",
                    "symbol": "circle"
                  },
                  "mode": "markers",
                  "name": "GNB",
                  "orientation": "v",
                  "showlegend": true,
                  "type": "scatter",
                  "x": [
                    2
                  ],
                  "xaxis": "x",
                  "y": [
                    269
                  ],
                  "yaxis": "y"
                },
                {
                  "hovertemplate": "name=GMB<br>year=1997<br>lowest gdp ranking (lowest to 5th lowest)=%{x}<br>gdp=%{y}<extra></extra>",
                  "ids": [
                    410
                  ],
                  "legendgroup": "GMB",
                  "marker": {
                    "color": "#00cc96",
                    "symbol": "circle"
                  },
                  "mode": "markers",
                  "name": "GMB",
                  "orientation": "v",
                  "showlegend": true,
                  "type": "scatter",
                  "x": [
                    3
                  ],
                  "xaxis": "x",
                  "y": [
                    410
                  ],
                  "yaxis": "y"
                },
                {
                  "hovertemplate": "name=GNQ<br>year=1997<br>lowest gdp ranking (lowest to 5th lowest)=%{x}<br>gdp=%{y}<extra></extra>",
                  "ids": [
                    498
                  ],
                  "legendgroup": "GNQ",
                  "marker": {
                    "color": "#ab63fa",
                    "symbol": "circle"
                  },
                  "mode": "markers",
                  "name": "GNQ",
                  "orientation": "v",
                  "showlegend": true,
                  "type": "scatter",
                  "x": [
                    4
                  ],
                  "xaxis": "x",
                  "y": [
                    498
                  ],
                  "yaxis": "y"
                },
                {
                  "hovertemplate": "name=DJI<br>year=1997<br>lowest gdp ranking (lowest to 5th lowest)=%{x}<br>gdp=%{y}<extra></extra>",
                  "ids": [
                    503
                  ],
                  "legendgroup": "DJI",
                  "marker": {
                    "color": "#FFA15A",
                    "symbol": "circle"
                  },
                  "mode": "markers",
                  "name": "DJI",
                  "orientation": "v",
                  "showlegend": true,
                  "type": "scatter",
                  "x": [
                    5
                  ],
                  "xaxis": "x",
                  "y": [
                    503
                  ],
                  "yaxis": "y"
                }
              ],
              "frames": [
                {
                  "data": [
                    {
                      "hovertemplate": "name=WSM<br>year=1997<br>lowest gdp ranking (lowest to 5th lowest)=%{x}<br>gdp=%{y}<extra></extra>",
                      "ids": [
                        245
                      ],
                      "legendgroup": "WSM",
                      "marker": {
                        "color": "#636efa",
                        "symbol": "circle"
                      },
                      "mode": "markers",
                      "name": "WSM",
                      "orientation": "v",
                      "showlegend": true,
                      "type": "scatter",
                      "x": [
                        1
                      ],
                      "xaxis": "x",
                      "y": [
                        245
                      ],
                      "yaxis": "y"
                    },
                    {
                      "hovertemplate": "name=GNB<br>year=1997<br>lowest gdp ranking (lowest to 5th lowest)=%{x}<br>gdp=%{y}<extra></extra>",
                      "ids": [
                        269
                      ],
                      "legendgroup": "GNB",
                      "marker": {
                        "color": "#EF553B",
                        "symbol": "circle"
                      },
                      "mode": "markers",
                      "name": "GNB",
                      "orientation": "v",
                      "showlegend": true,
                      "type": "scatter",
                      "x": [
                        2
                      ],
                      "xaxis": "x",
                      "y": [
                        269
                      ],
                      "yaxis": "y"
                    },
                    {
                      "hovertemplate": "name=GMB<br>year=1997<br>lowest gdp ranking (lowest to 5th lowest)=%{x}<br>gdp=%{y}<extra></extra>",
                      "ids": [
                        410
                      ],
                      "legendgroup": "GMB",
                      "marker": {
                        "color": "#00cc96",
                        "symbol": "circle"
                      },
                      "mode": "markers",
                      "name": "GMB",
                      "orientation": "v",
                      "showlegend": true,
                      "type": "scatter",
                      "x": [
                        3
                      ],
                      "xaxis": "x",
                      "y": [
                        410
                      ],
                      "yaxis": "y"
                    },
                    {
                      "hovertemplate": "name=GNQ<br>year=1997<br>lowest gdp ranking (lowest to 5th lowest)=%{x}<br>gdp=%{y}<extra></extra>",
                      "ids": [
                        498
                      ],
                      "legendgroup": "GNQ",
                      "marker": {
                        "color": "#ab63fa",
                        "symbol": "circle"
                      },
                      "mode": "markers",
                      "name": "GNQ",
                      "orientation": "v",
                      "showlegend": true,
                      "type": "scatter",
                      "x": [
                        4
                      ],
                      "xaxis": "x",
                      "y": [
                        498
                      ],
                      "yaxis": "y"
                    },
                    {
                      "hovertemplate": "name=DJI<br>year=1997<br>lowest gdp ranking (lowest to 5th lowest)=%{x}<br>gdp=%{y}<extra></extra>",
                      "ids": [
                        503
                      ],
                      "legendgroup": "DJI",
                      "marker": {
                        "color": "#FFA15A",
                        "symbol": "circle"
                      },
                      "mode": "markers",
                      "name": "DJI",
                      "orientation": "v",
                      "showlegend": true,
                      "type": "scatter",
                      "x": [
                        5
                      ],
                      "xaxis": "x",
                      "y": [
                        503
                      ],
                      "yaxis": "y"
                    }
                  ],
                  "name": "1997"
                },
                {
                  "data": [
                    {
                      "hovertemplate": "name=WSM<br>year=1998<br>lowest gdp ranking (lowest to 5th lowest)=%{x}<br>gdp=%{y}<extra></extra>",
                      "ids": [
                        224
                      ],
                      "legendgroup": "WSM",
                      "marker": {
                        "color": "#636efa",
                        "symbol": "circle"
                      },
                      "mode": "markers",
                      "name": "WSM",
                      "orientation": "v",
                      "showlegend": true,
                      "type": "scatter",
                      "x": [
                        2
                      ],
                      "xaxis": "x",
                      "y": [
                        224
                      ],
                      "yaxis": "y"
                    },
                    {
                      "hovertemplate": "name=GNB<br>year=1998<br>lowest gdp ranking (lowest to 5th lowest)=%{x}<br>gdp=%{y}<extra></extra>",
                      "ids": [
                        206
                      ],
                      "legendgroup": "GNB",
                      "marker": {
                        "color": "#EF553B",
                        "symbol": "circle"
                      },
                      "mode": "markers",
                      "name": "GNB",
                      "orientation": "v",
                      "showlegend": true,
                      "type": "scatter",
                      "x": [
                        1
                      ],
                      "xaxis": "x",
                      "y": [
                        206
                      ],
                      "yaxis": "y"
                    },
                    {
                      "hovertemplate": "name=GMB<br>year=1998<br>lowest gdp ranking (lowest to 5th lowest)=%{x}<br>gdp=%{y}<extra></extra>",
                      "ids": [
                        417
                      ],
                      "legendgroup": "GMB",
                      "marker": {
                        "color": "#00cc96",
                        "symbol": "circle"
                      },
                      "mode": "markers",
                      "name": "GMB",
                      "orientation": "v",
                      "showlegend": true,
                      "type": "scatter",
                      "x": [
                        3
                      ],
                      "xaxis": "x",
                      "y": [
                        417
                      ],
                      "yaxis": "y"
                    },
                    {
                      "hovertemplate": "name=GNQ<br>year=1998<br>lowest gdp ranking (lowest to 5th lowest)=%{x}<br>gdp=%{y}<extra></extra>",
                      "ids": [
                        456
                      ],
                      "legendgroup": "GNQ",
                      "marker": {
                        "color": "#ab63fa",
                        "symbol": "circle"
                      },
                      "mode": "markers",
                      "name": "GNQ",
                      "orientation": "v",
                      "showlegend": true,
                      "type": "scatter",
                      "x": [
                        4
                      ],
                      "xaxis": "x",
                      "y": [
                        456
                      ],
                      "yaxis": "y"
                    },
                    {
                      "hovertemplate": "name=DJI<br>year=1998<br>lowest gdp ranking (lowest to 5th lowest)=%{x}<br>gdp=%{y}<extra></extra>",
                      "ids": [
                        514
                      ],
                      "legendgroup": "DJI",
                      "marker": {
                        "color": "#FFA15A",
                        "symbol": "circle"
                      },
                      "mode": "markers",
                      "name": "DJI",
                      "orientation": "v",
                      "showlegend": true,
                      "type": "scatter",
                      "x": [
                        5
                      ],
                      "xaxis": "x",
                      "y": [
                        514
                      ],
                      "yaxis": "y"
                    }
                  ],
                  "name": "1998"
                },
                {
                  "data": [
                    {
                      "hovertemplate": "name=WSM<br>year=1999<br>lowest gdp ranking (lowest to 5th lowest)=%{x}<br>gdp=%{y}<extra></extra>",
                      "ids": [
                        233
                      ],
                      "legendgroup": "WSM",
                      "marker": {
                        "color": "#636efa",
                        "symbol": "circle"
                      },
                      "mode": "markers",
                      "name": "WSM",
                      "orientation": "v",
                      "showlegend": true,
                      "type": "scatter",
                      "x": [
                        2
                      ],
                      "xaxis": "x",
                      "y": [
                        233
                      ],
                      "yaxis": "y"
                    },
                    {
                      "hovertemplate": "name=GNB<br>year=1999<br>lowest gdp ranking (lowest to 5th lowest)=%{x}<br>gdp=%{y}<extra></extra>",
                      "ids": [
                        224
                      ],
                      "legendgroup": "GNB",
                      "marker": {
                        "color": "#EF553B",
                        "symbol": "circle"
                      },
                      "mode": "markers",
                      "name": "GNB",
                      "orientation": "v",
                      "showlegend": true,
                      "type": "scatter",
                      "x": [
                        1
                      ],
                      "xaxis": "x",
                      "y": [
                        224
                      ],
                      "yaxis": "y"
                    },
                    {
                      "hovertemplate": "name=GMB<br>year=1999<br>lowest gdp ranking (lowest to 5th lowest)=%{x}<br>gdp=%{y}<extra></extra>",
                      "ids": [
                        432
                      ],
                      "legendgroup": "GMB",
                      "marker": {
                        "color": "#00cc96",
                        "symbol": "circle"
                      },
                      "mode": "markers",
                      "name": "GMB",
                      "orientation": "v",
                      "showlegend": true,
                      "type": "scatter",
                      "x": [
                        3
                      ],
                      "xaxis": "x",
                      "y": [
                        432
                      ],
                      "yaxis": "y"
                    },
                    {
                      "hovertemplate": "name=DJI<br>year=1999<br>lowest gdp ranking (lowest to 5th lowest)=%{x}<br>gdp=%{y}<extra></extra>",
                      "ids": [
                        536
                      ],
                      "legendgroup": "DJI",
                      "marker": {
                        "color": "#FFA15A",
                        "symbol": "circle"
                      },
                      "mode": "markers",
                      "name": "DJI",
                      "orientation": "v",
                      "showlegend": true,
                      "type": "scatter",
                      "x": [
                        4
                      ],
                      "xaxis": "x",
                      "y": [
                        536
                      ],
                      "yaxis": "y"
                    },
                    {
                      "hovertemplate": "name=CPV<br>year=1999<br>lowest gdp ranking (lowest to 5th lowest)=%{x}<br>gdp=%{y}<extra></extra>",
                      "ids": [
                        588
                      ],
                      "legendgroup": "CPV",
                      "marker": {
                        "color": "#19d3f3",
                        "symbol": "circle"
                      },
                      "mode": "markers",
                      "name": "CPV",
                      "orientation": "v",
                      "showlegend": true,
                      "type": "scatter",
                      "x": [
                        5
                      ],
                      "xaxis": "x",
                      "y": [
                        588
                      ],
                      "yaxis": "y"
                    }
                  ],
                  "name": "1999"
                },
                {
                  "data": [
                    {
                      "hovertemplate": "name=WSM<br>year=2000<br>lowest gdp ranking (lowest to 5th lowest)=%{x}<br>gdp=%{y}<extra></extra>",
                      "ids": [
                        237
                      ],
                      "legendgroup": "WSM",
                      "marker": {
                        "color": "#636efa",
                        "symbol": "circle"
                      },
                      "mode": "markers",
                      "name": "WSM",
                      "orientation": "v",
                      "showlegend": true,
                      "type": "scatter",
                      "x": [
                        2
                      ],
                      "xaxis": "x",
                      "y": [
                        237
                      ],
                      "yaxis": "y"
                    },
                    {
                      "hovertemplate": "name=GNB<br>year=2000<br>lowest gdp ranking (lowest to 5th lowest)=%{x}<br>gdp=%{y}<extra></extra>",
                      "ids": [
                        215
                      ],
                      "legendgroup": "GNB",
                      "marker": {
                        "color": "#EF553B",
                        "symbol": "circle"
                      },
                      "mode": "markers",
                      "name": "GNB",
                      "orientation": "v",
                      "showlegend": true,
                      "type": "scatter",
                      "x": [
                        1
                      ],
                      "xaxis": "x",
                      "y": [
                        215
                      ],
                      "yaxis": "y"
                    },
                    {
                      "hovertemplate": "name=GMB<br>year=2000<br>lowest gdp ranking (lowest to 5th lowest)=%{x}<br>gdp=%{y}<extra></extra>",
                      "ids": [
                        422
                      ],
                      "legendgroup": "GMB",
                      "marker": {
                        "color": "#00cc96",
                        "symbol": "circle"
                      },
                      "mode": "markers",
                      "name": "GMB",
                      "orientation": "v",
                      "showlegend": true,
                      "type": "scatter",
                      "x": [
                        3
                      ],
                      "xaxis": "x",
                      "y": [
                        422
                      ],
                      "yaxis": "y"
                    },
                    {
                      "hovertemplate": "name=DJI<br>year=2000<br>lowest gdp ranking (lowest to 5th lowest)=%{x}<br>gdp=%{y}<extra></extra>",
                      "ids": [
                        553
                      ],
                      "legendgroup": "DJI",
                      "marker": {
                        "color": "#FFA15A",
                        "symbol": "circle"
                      },
                      "mode": "markers",
                      "name": "DJI",
                      "orientation": "v",
                      "showlegend": true,
                      "type": "scatter",
                      "x": [
                        4
                      ],
                      "xaxis": "x",
                      "y": [
                        553
                      ],
                      "yaxis": "y"
                    },
                    {
                      "hovertemplate": "name=CPV<br>year=2000<br>lowest gdp ranking (lowest to 5th lowest)=%{x}<br>gdp=%{y}<extra></extra>",
                      "ids": [
                        558
                      ],
                      "legendgroup": "CPV",
                      "marker": {
                        "color": "#19d3f3",
                        "symbol": "circle"
                      },
                      "mode": "markers",
                      "name": "CPV",
                      "orientation": "v",
                      "showlegend": true,
                      "type": "scatter",
                      "x": [
                        5
                      ],
                      "xaxis": "x",
                      "y": [
                        558
                      ],
                      "yaxis": "y"
                    }
                  ],
                  "name": "2000"
                },
                {
                  "data": [
                    {
                      "hovertemplate": "name=ALB<br>year=2001<br>lowest gdp ranking (lowest to 5th lowest)=%{x}<br>gdp=%{y}<extra></extra>",
                      "ids": [
                        0
                      ],
                      "legendgroup": "ALB",
                      "marker": {
                        "color": "#FF6692",
                        "symbol": "circle"
                      },
                      "mode": "markers",
                      "name": "ALB",
                      "orientation": "v",
                      "showlegend": true,
                      "type": "scatter",
                      "x": [
                        1
                      ],
                      "xaxis": "x",
                      "y": [
                        0
                      ],
                      "yaxis": "y"
                    },
                    {
                      "hovertemplate": "name=PHL<br>year=2001<br>lowest gdp ranking (lowest to 5th lowest)=%{x}<br>gdp=%{y}<extra></extra>",
                      "ids": [
                        0
                      ],
                      "legendgroup": "PHL",
                      "marker": {
                        "color": "#B6E880",
                        "symbol": "circle"
                      },
                      "mode": "markers",
                      "name": "PHL",
                      "orientation": "v",
                      "showlegend": true,
                      "type": "scatter",
                      "x": [
                        2
                      ],
                      "xaxis": "x",
                      "y": [
                        0
                      ],
                      "yaxis": "y"
                    },
                    {
                      "hovertemplate": "name=PER<br>year=2001<br>lowest gdp ranking (lowest to 5th lowest)=%{x}<br>gdp=%{y}<extra></extra>",
                      "ids": [
                        0
                      ],
                      "legendgroup": "PER",
                      "marker": {
                        "color": "#FF97FF",
                        "symbol": "circle"
                      },
                      "mode": "markers",
                      "name": "PER",
                      "orientation": "v",
                      "showlegend": true,
                      "type": "scatter",
                      "x": [
                        3
                      ],
                      "xaxis": "x",
                      "y": [
                        0
                      ],
                      "yaxis": "y"
                    },
                    {
                      "hovertemplate": "name=PAN<br>year=2001<br>lowest gdp ranking (lowest to 5th lowest)=%{x}<br>gdp=%{y}<extra></extra>",
                      "ids": [
                        0
                      ],
                      "legendgroup": "PAN",
                      "marker": {
                        "color": "#FECB52",
                        "symbol": "circle"
                      },
                      "mode": "markers",
                      "name": "PAN",
                      "orientation": "v",
                      "showlegend": true,
                      "type": "scatter",
                      "x": [
                        4
                      ],
                      "xaxis": "x",
                      "y": [
                        0
                      ],
                      "yaxis": "y"
                    },
                    {
                      "hovertemplate": "name=PAK<br>year=2001<br>lowest gdp ranking (lowest to 5th lowest)=%{x}<br>gdp=%{y}<extra></extra>",
                      "ids": [
                        0
                      ],
                      "legendgroup": "PAK",
                      "marker": {
                        "color": "#636efa",
                        "symbol": "circle"
                      },
                      "mode": "markers",
                      "name": "PAK",
                      "orientation": "v",
                      "showlegend": true,
                      "type": "scatter",
                      "x": [
                        5
                      ],
                      "xaxis": "x",
                      "y": [
                        0
                      ],
                      "yaxis": "y"
                    }
                  ],
                  "name": "2001"
                },
                {
                  "data": [
                    {
                      "hovertemplate": "name=ALB<br>year=2002<br>lowest gdp ranking (lowest to 5th lowest)=%{x}<br>gdp=%{y}<extra></extra>",
                      "ids": [
                        0
                      ],
                      "legendgroup": "ALB",
                      "marker": {
                        "color": "#FF6692",
                        "symbol": "circle"
                      },
                      "mode": "markers",
                      "name": "ALB",
                      "orientation": "v",
                      "showlegend": true,
                      "type": "scatter",
                      "x": [
                        1
                      ],
                      "xaxis": "x",
                      "y": [
                        0
                      ],
                      "yaxis": "y"
                    },
                    {
                      "hovertemplate": "name=PHL<br>year=2002<br>lowest gdp ranking (lowest to 5th lowest)=%{x}<br>gdp=%{y}<extra></extra>",
                      "ids": [
                        0
                      ],
                      "legendgroup": "PHL",
                      "marker": {
                        "color": "#B6E880",
                        "symbol": "circle"
                      },
                      "mode": "markers",
                      "name": "PHL",
                      "orientation": "v",
                      "showlegend": true,
                      "type": "scatter",
                      "x": [
                        2
                      ],
                      "xaxis": "x",
                      "y": [
                        0
                      ],
                      "yaxis": "y"
                    },
                    {
                      "hovertemplate": "name=PER<br>year=2002<br>lowest gdp ranking (lowest to 5th lowest)=%{x}<br>gdp=%{y}<extra></extra>",
                      "ids": [
                        0
                      ],
                      "legendgroup": "PER",
                      "marker": {
                        "color": "#FF97FF",
                        "symbol": "circle"
                      },
                      "mode": "markers",
                      "name": "PER",
                      "orientation": "v",
                      "showlegend": true,
                      "type": "scatter",
                      "x": [
                        3
                      ],
                      "xaxis": "x",
                      "y": [
                        0
                      ],
                      "yaxis": "y"
                    },
                    {
                      "hovertemplate": "name=PAN<br>year=2002<br>lowest gdp ranking (lowest to 5th lowest)=%{x}<br>gdp=%{y}<extra></extra>",
                      "ids": [
                        0
                      ],
                      "legendgroup": "PAN",
                      "marker": {
                        "color": "#FECB52",
                        "symbol": "circle"
                      },
                      "mode": "markers",
                      "name": "PAN",
                      "orientation": "v",
                      "showlegend": true,
                      "type": "scatter",
                      "x": [
                        4
                      ],
                      "xaxis": "x",
                      "y": [
                        0
                      ],
                      "yaxis": "y"
                    },
                    {
                      "hovertemplate": "name=PAK<br>year=2002<br>lowest gdp ranking (lowest to 5th lowest)=%{x}<br>gdp=%{y}<extra></extra>",
                      "ids": [
                        0
                      ],
                      "legendgroup": "PAK",
                      "marker": {
                        "color": "#636efa",
                        "symbol": "circle"
                      },
                      "mode": "markers",
                      "name": "PAK",
                      "orientation": "v",
                      "showlegend": true,
                      "type": "scatter",
                      "x": [
                        5
                      ],
                      "xaxis": "x",
                      "y": [
                        0
                      ],
                      "yaxis": "y"
                    }
                  ],
                  "name": "2002"
                }
              ],
              "layout": {
                "legend": {
                  "title": {
                    "text": "name"
                  },
                  "tracegroupgap": 0
                },
                "margin": {
                  "t": 60
                },
                "sliders": [
                  {
                    "active": 0,
                    "currentvalue": {
                      "prefix": "year="
                    },
                    "len": 0.9,
                    "pad": {
                      "b": 10,
                      "t": 60
                    },
                    "steps": [
                      {
                        "args": [
                          [
                            "1997"
                          ],
                          {
                            "frame": {
                              "duration": 0,
                              "redraw": false
                            },
                            "fromcurrent": true,
                            "mode": "immediate",
                            "transition": {
                              "duration": 0,
                              "easing": "linear"
                            }
                          }
                        ],
                        "label": "1997",
                        "method": "animate"
                      },
                      {
                        "args": [
                          [
                            "1998"
                          ],
                          {
                            "frame": {
                              "duration": 0,
                              "redraw": false
                            },
                            "fromcurrent": true,
                            "mode": "immediate",
                            "transition": {
                              "duration": 0,
                              "easing": "linear"
                            }
                          }
                        ],
                        "label": "1998",
                        "method": "animate"
                      },
                      {
                        "args": [
                          [
                            "1999"
                          ],
                          {
                            "frame": {
                              "duration": 0,
                              "redraw": false
                            },
                            "fromcurrent": true,
                            "mode": "immediate",
                            "transition": {
                              "duration": 0,
                              "easing": "linear"
                            }
                          }
                        ],
                        "label": "1999",
                        "method": "animate"
                      },
                      {
                        "args": [
                          [
                            "2000"
                          ],
                          {
                            "frame": {
                              "duration": 0,
                              "redraw": false
                            },
                            "fromcurrent": true,
                            "mode": "immediate",
                            "transition": {
                              "duration": 0,
                              "easing": "linear"
                            }
                          }
                        ],
                        "label": "2000",
                        "method": "animate"
                      },
                      {
                        "args": [
                          [
                            "2001"
                          ],
                          {
                            "frame": {
                              "duration": 0,
                              "redraw": false
                            },
                            "fromcurrent": true,
                            "mode": "immediate",
                            "transition": {
                              "duration": 0,
                              "easing": "linear"
                            }
                          }
                        ],
                        "label": "2001",
                        "method": "animate"
                      },
                      {
                        "args": [
                          [
                            "2002"
                          ],
                          {
                            "frame": {
                              "duration": 0,
                              "redraw": false
                            },
                            "fromcurrent": true,
                            "mode": "immediate",
                            "transition": {
                              "duration": 0,
                              "easing": "linear"
                            }
                          }
                        ],
                        "label": "2002",
                        "method": "animate"
                      }
                    ],
                    "x": 0.1,
                    "xanchor": "left",
                    "y": 0,
                    "yanchor": "top"
                  }
                ],
                "template": {
                  "data": {
                    "bar": [
                      {
                        "error_x": {
                          "color": "#2a3f5f"
                        },
                        "error_y": {
                          "color": "#2a3f5f"
                        },
                        "marker": {
                          "line": {
                            "color": "#E5ECF6",
                            "width": 0.5
                          },
                          "pattern": {
                            "fillmode": "overlay",
                            "size": 10,
                            "solidity": 0.2
                          }
                        },
                        "type": "bar"
                      }
                    ],
                    "barpolar": [
                      {
                        "marker": {
                          "line": {
                            "color": "#E5ECF6",
                            "width": 0.5
                          },
                          "pattern": {
                            "fillmode": "overlay",
                            "size": 10,
                            "solidity": 0.2
                          }
                        },
                        "type": "barpolar"
                      }
                    ],
                    "carpet": [
                      {
                        "aaxis": {
                          "endlinecolor": "#2a3f5f",
                          "gridcolor": "white",
                          "linecolor": "white",
                          "minorgridcolor": "white",
                          "startlinecolor": "#2a3f5f"
                        },
                        "baxis": {
                          "endlinecolor": "#2a3f5f",
                          "gridcolor": "white",
                          "linecolor": "white",
                          "minorgridcolor": "white",
                          "startlinecolor": "#2a3f5f"
                        },
                        "type": "carpet"
                      }
                    ],
                    "choropleth": [
                      {
                        "colorbar": {
                          "outlinewidth": 0,
                          "ticks": ""
                        },
                        "type": "choropleth"
                      }
                    ],
                    "contour": [
                      {
                        "colorbar": {
                          "outlinewidth": 0,
                          "ticks": ""
                        },
                        "colorscale": [
                          [
                            0,
                            "#0d0887"
                          ],
                          [
                            0.1111111111111111,
                            "#46039f"
                          ],
                          [
                            0.2222222222222222,
                            "#7201a8"
                          ],
                          [
                            0.3333333333333333,
                            "#9c179e"
                          ],
                          [
                            0.4444444444444444,
                            "#bd3786"
                          ],
                          [
                            0.5555555555555556,
                            "#d8576b"
                          ],
                          [
                            0.6666666666666666,
                            "#ed7953"
                          ],
                          [
                            0.7777777777777778,
                            "#fb9f3a"
                          ],
                          [
                            0.8888888888888888,
                            "#fdca26"
                          ],
                          [
                            1,
                            "#f0f921"
                          ]
                        ],
                        "type": "contour"
                      }
                    ],
                    "contourcarpet": [
                      {
                        "colorbar": {
                          "outlinewidth": 0,
                          "ticks": ""
                        },
                        "type": "contourcarpet"
                      }
                    ],
                    "heatmap": [
                      {
                        "colorbar": {
                          "outlinewidth": 0,
                          "ticks": ""
                        },
                        "colorscale": [
                          [
                            0,
                            "#0d0887"
                          ],
                          [
                            0.1111111111111111,
                            "#46039f"
                          ],
                          [
                            0.2222222222222222,
                            "#7201a8"
                          ],
                          [
                            0.3333333333333333,
                            "#9c179e"
                          ],
                          [
                            0.4444444444444444,
                            "#bd3786"
                          ],
                          [
                            0.5555555555555556,
                            "#d8576b"
                          ],
                          [
                            0.6666666666666666,
                            "#ed7953"
                          ],
                          [
                            0.7777777777777778,
                            "#fb9f3a"
                          ],
                          [
                            0.8888888888888888,
                            "#fdca26"
                          ],
                          [
                            1,
                            "#f0f921"
                          ]
                        ],
                        "type": "heatmap"
                      }
                    ],
                    "heatmapgl": [
                      {
                        "colorbar": {
                          "outlinewidth": 0,
                          "ticks": ""
                        },
                        "colorscale": [
                          [
                            0,
                            "#0d0887"
                          ],
                          [
                            0.1111111111111111,
                            "#46039f"
                          ],
                          [
                            0.2222222222222222,
                            "#7201a8"
                          ],
                          [
                            0.3333333333333333,
                            "#9c179e"
                          ],
                          [
                            0.4444444444444444,
                            "#bd3786"
                          ],
                          [
                            0.5555555555555556,
                            "#d8576b"
                          ],
                          [
                            0.6666666666666666,
                            "#ed7953"
                          ],
                          [
                            0.7777777777777778,
                            "#fb9f3a"
                          ],
                          [
                            0.8888888888888888,
                            "#fdca26"
                          ],
                          [
                            1,
                            "#f0f921"
                          ]
                        ],
                        "type": "heatmapgl"
                      }
                    ],
                    "histogram": [
                      {
                        "marker": {
                          "pattern": {
                            "fillmode": "overlay",
                            "size": 10,
                            "solidity": 0.2
                          }
                        },
                        "type": "histogram"
                      }
                    ],
                    "histogram2d": [
                      {
                        "colorbar": {
                          "outlinewidth": 0,
                          "ticks": ""
                        },
                        "colorscale": [
                          [
                            0,
                            "#0d0887"
                          ],
                          [
                            0.1111111111111111,
                            "#46039f"
                          ],
                          [
                            0.2222222222222222,
                            "#7201a8"
                          ],
                          [
                            0.3333333333333333,
                            "#9c179e"
                          ],
                          [
                            0.4444444444444444,
                            "#bd3786"
                          ],
                          [
                            0.5555555555555556,
                            "#d8576b"
                          ],
                          [
                            0.6666666666666666,
                            "#ed7953"
                          ],
                          [
                            0.7777777777777778,
                            "#fb9f3a"
                          ],
                          [
                            0.8888888888888888,
                            "#fdca26"
                          ],
                          [
                            1,
                            "#f0f921"
                          ]
                        ],
                        "type": "histogram2d"
                      }
                    ],
                    "histogram2dcontour": [
                      {
                        "colorbar": {
                          "outlinewidth": 0,
                          "ticks": ""
                        },
                        "colorscale": [
                          [
                            0,
                            "#0d0887"
                          ],
                          [
                            0.1111111111111111,
                            "#46039f"
                          ],
                          [
                            0.2222222222222222,
                            "#7201a8"
                          ],
                          [
                            0.3333333333333333,
                            "#9c179e"
                          ],
                          [
                            0.4444444444444444,
                            "#bd3786"
                          ],
                          [
                            0.5555555555555556,
                            "#d8576b"
                          ],
                          [
                            0.6666666666666666,
                            "#ed7953"
                          ],
                          [
                            0.7777777777777778,
                            "#fb9f3a"
                          ],
                          [
                            0.8888888888888888,
                            "#fdca26"
                          ],
                          [
                            1,
                            "#f0f921"
                          ]
                        ],
                        "type": "histogram2dcontour"
                      }
                    ],
                    "mesh3d": [
                      {
                        "colorbar": {
                          "outlinewidth": 0,
                          "ticks": ""
                        },
                        "type": "mesh3d"
                      }
                    ],
                    "parcoords": [
                      {
                        "line": {
                          "colorbar": {
                            "outlinewidth": 0,
                            "ticks": ""
                          }
                        },
                        "type": "parcoords"
                      }
                    ],
                    "pie": [
                      {
                        "automargin": true,
                        "type": "pie"
                      }
                    ],
                    "scatter": [
                      {
                        "fillpattern": {
                          "fillmode": "overlay",
                          "size": 10,
                          "solidity": 0.2
                        },
                        "type": "scatter"
                      }
                    ],
                    "scatter3d": [
                      {
                        "line": {
                          "colorbar": {
                            "outlinewidth": 0,
                            "ticks": ""
                          }
                        },
                        "marker": {
                          "colorbar": {
                            "outlinewidth": 0,
                            "ticks": ""
                          }
                        },
                        "type": "scatter3d"
                      }
                    ],
                    "scattercarpet": [
                      {
                        "marker": {
                          "colorbar": {
                            "outlinewidth": 0,
                            "ticks": ""
                          }
                        },
                        "type": "scattercarpet"
                      }
                    ],
                    "scattergeo": [
                      {
                        "marker": {
                          "colorbar": {
                            "outlinewidth": 0,
                            "ticks": ""
                          }
                        },
                        "type": "scattergeo"
                      }
                    ],
                    "scattergl": [
                      {
                        "marker": {
                          "colorbar": {
                            "outlinewidth": 0,
                            "ticks": ""
                          }
                        },
                        "type": "scattergl"
                      }
                    ],
                    "scattermapbox": [
                      {
                        "marker": {
                          "colorbar": {
                            "outlinewidth": 0,
                            "ticks": ""
                          }
                        },
                        "type": "scattermapbox"
                      }
                    ],
                    "scatterpolar": [
                      {
                        "marker": {
                          "colorbar": {
                            "outlinewidth": 0,
                            "ticks": ""
                          }
                        },
                        "type": "scatterpolar"
                      }
                    ],
                    "scatterpolargl": [
                      {
                        "marker": {
                          "colorbar": {
                            "outlinewidth": 0,
                            "ticks": ""
                          }
                        },
                        "type": "scatterpolargl"
                      }
                    ],
                    "scatterternary": [
                      {
                        "marker": {
                          "colorbar": {
                            "outlinewidth": 0,
                            "ticks": ""
                          }
                        },
                        "type": "scatterternary"
                      }
                    ],
                    "surface": [
                      {
                        "colorbar": {
                          "outlinewidth": 0,
                          "ticks": ""
                        },
                        "colorscale": [
                          [
                            0,
                            "#0d0887"
                          ],
                          [
                            0.1111111111111111,
                            "#46039f"
                          ],
                          [
                            0.2222222222222222,
                            "#7201a8"
                          ],
                          [
                            0.3333333333333333,
                            "#9c179e"
                          ],
                          [
                            0.4444444444444444,
                            "#bd3786"
                          ],
                          [
                            0.5555555555555556,
                            "#d8576b"
                          ],
                          [
                            0.6666666666666666,
                            "#ed7953"
                          ],
                          [
                            0.7777777777777778,
                            "#fb9f3a"
                          ],
                          [
                            0.8888888888888888,
                            "#fdca26"
                          ],
                          [
                            1,
                            "#f0f921"
                          ]
                        ],
                        "type": "surface"
                      }
                    ],
                    "table": [
                      {
                        "cells": {
                          "fill": {
                            "color": "#EBF0F8"
                          },
                          "line": {
                            "color": "white"
                          }
                        },
                        "header": {
                          "fill": {
                            "color": "#C8D4E3"
                          },
                          "line": {
                            "color": "white"
                          }
                        },
                        "type": "table"
                      }
                    ]
                  },
                  "layout": {
                    "annotationdefaults": {
                      "arrowcolor": "#2a3f5f",
                      "arrowhead": 0,
                      "arrowwidth": 1
                    },
                    "autotypenumbers": "strict",
                    "coloraxis": {
                      "colorbar": {
                        "outlinewidth": 0,
                        "ticks": ""
                      }
                    },
                    "colorscale": {
                      "diverging": [
                        [
                          0,
                          "#8e0152"
                        ],
                        [
                          0.1,
                          "#c51b7d"
                        ],
                        [
                          0.2,
                          "#de77ae"
                        ],
                        [
                          0.3,
                          "#f1b6da"
                        ],
                        [
                          0.4,
                          "#fde0ef"
                        ],
                        [
                          0.5,
                          "#f7f7f7"
                        ],
                        [
                          0.6,
                          "#e6f5d0"
                        ],
                        [
                          0.7,
                          "#b8e186"
                        ],
                        [
                          0.8,
                          "#7fbc41"
                        ],
                        [
                          0.9,
                          "#4d9221"
                        ],
                        [
                          1,
                          "#276419"
                        ]
                      ],
                      "sequential": [
                        [
                          0,
                          "#0d0887"
                        ],
                        [
                          0.1111111111111111,
                          "#46039f"
                        ],
                        [
                          0.2222222222222222,
                          "#7201a8"
                        ],
                        [
                          0.3333333333333333,
                          "#9c179e"
                        ],
                        [
                          0.4444444444444444,
                          "#bd3786"
                        ],
                        [
                          0.5555555555555556,
                          "#d8576b"
                        ],
                        [
                          0.6666666666666666,
                          "#ed7953"
                        ],
                        [
                          0.7777777777777778,
                          "#fb9f3a"
                        ],
                        [
                          0.8888888888888888,
                          "#fdca26"
                        ],
                        [
                          1,
                          "#f0f921"
                        ]
                      ],
                      "sequentialminus": [
                        [
                          0,
                          "#0d0887"
                        ],
                        [
                          0.1111111111111111,
                          "#46039f"
                        ],
                        [
                          0.2222222222222222,
                          "#7201a8"
                        ],
                        [
                          0.3333333333333333,
                          "#9c179e"
                        ],
                        [
                          0.4444444444444444,
                          "#bd3786"
                        ],
                        [
                          0.5555555555555556,
                          "#d8576b"
                        ],
                        [
                          0.6666666666666666,
                          "#ed7953"
                        ],
                        [
                          0.7777777777777778,
                          "#fb9f3a"
                        ],
                        [
                          0.8888888888888888,
                          "#fdca26"
                        ],
                        [
                          1,
                          "#f0f921"
                        ]
                      ]
                    },
                    "colorway": [
                      "#636efa",
                      "#EF553B",
                      "#00cc96",
                      "#ab63fa",
                      "#FFA15A",
                      "#19d3f3",
                      "#FF6692",
                      "#B6E880",
                      "#FF97FF",
                      "#FECB52"
                    ],
                    "font": {
                      "color": "#2a3f5f"
                    },
                    "geo": {
                      "bgcolor": "white",
                      "lakecolor": "white",
                      "landcolor": "#E5ECF6",
                      "showlakes": true,
                      "showland": true,
                      "subunitcolor": "white"
                    },
                    "hoverlabel": {
                      "align": "left"
                    },
                    "hovermode": "closest",
                    "mapbox": {
                      "style": "light"
                    },
                    "paper_bgcolor": "white",
                    "plot_bgcolor": "#E5ECF6",
                    "polar": {
                      "angularaxis": {
                        "gridcolor": "white",
                        "linecolor": "white",
                        "ticks": ""
                      },
                      "bgcolor": "#E5ECF6",
                      "radialaxis": {
                        "gridcolor": "white",
                        "linecolor": "white",
                        "ticks": ""
                      }
                    },
                    "scene": {
                      "xaxis": {
                        "backgroundcolor": "#E5ECF6",
                        "gridcolor": "white",
                        "gridwidth": 2,
                        "linecolor": "white",
                        "showbackground": true,
                        "ticks": "",
                        "zerolinecolor": "white"
                      },
                      "yaxis": {
                        "backgroundcolor": "#E5ECF6",
                        "gridcolor": "white",
                        "gridwidth": 2,
                        "linecolor": "white",
                        "showbackground": true,
                        "ticks": "",
                        "zerolinecolor": "white"
                      },
                      "zaxis": {
                        "backgroundcolor": "#E5ECF6",
                        "gridcolor": "white",
                        "gridwidth": 2,
                        "linecolor": "white",
                        "showbackground": true,
                        "ticks": "",
                        "zerolinecolor": "white"
                      }
                    },
                    "shapedefaults": {
                      "line": {
                        "color": "#2a3f5f"
                      }
                    },
                    "ternary": {
                      "aaxis": {
                        "gridcolor": "white",
                        "linecolor": "white",
                        "ticks": ""
                      },
                      "baxis": {
                        "gridcolor": "white",
                        "linecolor": "white",
                        "ticks": ""
                      },
                      "bgcolor": "#E5ECF6",
                      "caxis": {
                        "gridcolor": "white",
                        "linecolor": "white",
                        "ticks": ""
                      }
                    },
                    "title": {
                      "x": 0.05
                    },
                    "xaxis": {
                      "automargin": true,
                      "gridcolor": "white",
                      "linecolor": "white",
                      "ticks": "",
                      "title": {
                        "standoff": 15
                      },
                      "zerolinecolor": "white",
                      "zerolinewidth": 2
                    },
                    "yaxis": {
                      "automargin": true,
                      "gridcolor": "white",
                      "linecolor": "white",
                      "ticks": "",
                      "title": {
                        "standoff": 15
                      },
                      "zerolinecolor": "white",
                      "zerolinewidth": 2
                    }
                  }
                },
                "xaxis": {
                  "anchor": "y",
                  "domain": [
                    0,
                    1
                  ],
                  "range": [
                    -0.045757490560675115,
                    0.7708520116421441
                  ],
                  "title": {
                    "text": "lowest gdp ranking (lowest to 5th lowest)"
                  },
                  "type": "log"
                },
                "yaxis": {
                  "anchor": "x",
                  "domain": [
                    0,
                    1
                  ],
                  "range": [
                    -50,
                    800
                  ],
                  "title": {
                    "text": "GDP in Millions"
                  }
                }
              }
            }
          },
          "metadata": {},
          "output_type": "display_data"
        }
      ],
      "source": [
        "# Plots countries' GDPs from 1997-2002\n",
        "\n",
        "df = px.data.gapminder()\n",
        "fig = px.scatter(lowest_country_gdp_df,x=\"lowest gdp ranking (lowest to 5th lowest)\", y=\"gdp\", animation_frame=\"year\", animation_group=\"gdp\",\n",
        "            color=\"name\", range_x=[0.9, 5.9], range_y=[-50, 800],\n",
        "           log_x=True)\n",
        "\n",
        "fig[\"layout\"].pop(\"updatemenus\") # optional, drop animation b\n",
        "fig.update_yaxes(title_text='GDP in Millions')\n",
        "\n",
        "fig.show()\n"
      ]
    },
    {
      "cell_type": "markdown",
      "metadata": {
        "id": "gm0q36QGvpZf"
      },
      "source": [
        "# **Question 3**\n",
        "\n",
        "Which industry contributes the most to the states that have the lowest GDP for each year? What did political polarization look like during those years?"
      ]
    },
    {
      "cell_type": "code",
      "execution_count": 427,
      "metadata": {
        "id": "CbtVK44o2zvm"
      },
      "outputs": [
        {
          "data": {
            "text/html": [
              "<div>\n",
              "<style scoped>\n",
              "    .dataframe tbody tr th:only-of-type {\n",
              "        vertical-align: middle;\n",
              "    }\n",
              "\n",
              "    .dataframe tbody tr th {\n",
              "        vertical-align: top;\n",
              "    }\n",
              "\n",
              "    .dataframe thead th {\n",
              "        text-align: right;\n",
              "    }\n",
              "</style>\n",
              "<table border=\"1\" class=\"dataframe\">\n",
              "  <thead>\n",
              "    <tr style=\"text-align: right;\">\n",
              "      <th></th>\n",
              "      <th>chamber</th>\n",
              "      <th>congress</th>\n",
              "      <th>year</th>\n",
              "      <th>party.mean.diff.d1</th>\n",
              "      <th>prop.moderate.d1</th>\n",
              "      <th>overlap</th>\n",
              "      <th>name</th>\n",
              "      <th>description</th>\n",
              "      <th>gdp</th>\n",
              "    </tr>\n",
              "  </thead>\n",
              "  <tbody>\n",
              "    <tr>\n",
              "      <th>118</th>\n",
              "      <td>House</td>\n",
              "      <td>105.0</td>\n",
              "      <td>1997</td>\n",
              "      <td>0.777287</td>\n",
              "      <td>0.155405</td>\n",
              "      <td>0.018059</td>\n",
              "      <td>NaN</td>\n",
              "      <td>NaN</td>\n",
              "      <td>NaN</td>\n",
              "    </tr>\n",
              "    <tr>\n",
              "      <th>119</th>\n",
              "      <td>Senate</td>\n",
              "      <td>105.0</td>\n",
              "      <td>1997</td>\n",
              "      <td>0.683943</td>\n",
              "      <td>0.180000</td>\n",
              "      <td>0.000000</td>\n",
              "      <td>NaN</td>\n",
              "      <td>NaN</td>\n",
              "      <td>NaN</td>\n",
              "    </tr>\n",
              "    <tr>\n",
              "      <th>120</th>\n",
              "      <td>House</td>\n",
              "      <td>106.0</td>\n",
              "      <td>1999</td>\n",
              "      <td>0.777078</td>\n",
              "      <td>0.156818</td>\n",
              "      <td>0.015982</td>\n",
              "      <td>NaN</td>\n",
              "      <td>NaN</td>\n",
              "      <td>NaN</td>\n",
              "    </tr>\n",
              "    <tr>\n",
              "      <th>121</th>\n",
              "      <td>Senate</td>\n",
              "      <td>106.0</td>\n",
              "      <td>1999</td>\n",
              "      <td>0.658384</td>\n",
              "      <td>0.215686</td>\n",
              "      <td>0.068627</td>\n",
              "      <td>NaN</td>\n",
              "      <td>NaN</td>\n",
              "      <td>NaN</td>\n",
              "    </tr>\n",
              "    <tr>\n",
              "      <th>122</th>\n",
              "      <td>House</td>\n",
              "      <td>107.0</td>\n",
              "      <td>2001</td>\n",
              "      <td>0.786643</td>\n",
              "      <td>0.146396</td>\n",
              "      <td>0.009050</td>\n",
              "      <td>NaN</td>\n",
              "      <td>NaN</td>\n",
              "      <td>NaN</td>\n",
              "    </tr>\n",
              "    <tr>\n",
              "      <th>...</th>\n",
              "      <td>...</td>\n",
              "      <td>...</td>\n",
              "      <td>...</td>\n",
              "      <td>...</td>\n",
              "      <td>...</td>\n",
              "      <td>...</td>\n",
              "      <td>...</td>\n",
              "      <td>...</td>\n",
              "      <td>...</td>\n",
              "    </tr>\n",
              "    <tr>\n",
              "      <th>28723</th>\n",
              "      <td>NaN</td>\n",
              "      <td>NaN</td>\n",
              "      <td>2002</td>\n",
              "      <td>NaN</td>\n",
              "      <td>NaN</td>\n",
              "      <td>NaN</td>\n",
              "      <td>Wyoming</td>\n",
              "      <td>Trade</td>\n",
              "      <td>2184.6</td>\n",
              "    </tr>\n",
              "    <tr>\n",
              "      <th>28724</th>\n",
              "      <td>NaN</td>\n",
              "      <td>NaN</td>\n",
              "      <td>2002</td>\n",
              "      <td>NaN</td>\n",
              "      <td>NaN</td>\n",
              "      <td>NaN</td>\n",
              "      <td>Wyoming</td>\n",
              "      <td>Transportation and utilities</td>\n",
              "      <td>1548.6</td>\n",
              "    </tr>\n",
              "    <tr>\n",
              "      <th>28725</th>\n",
              "      <td>NaN</td>\n",
              "      <td>NaN</td>\n",
              "      <td>2002</td>\n",
              "      <td>NaN</td>\n",
              "      <td>NaN</td>\n",
              "      <td>NaN</td>\n",
              "      <td>Wyoming</td>\n",
              "      <td>Manufacturing and information</td>\n",
              "      <td>1287.0</td>\n",
              "    </tr>\n",
              "    <tr>\n",
              "      <th>28726</th>\n",
              "      <td>NaN</td>\n",
              "      <td>NaN</td>\n",
              "      <td>2002</td>\n",
              "      <td>NaN</td>\n",
              "      <td>NaN</td>\n",
              "      <td>NaN</td>\n",
              "      <td>Wyoming</td>\n",
              "      <td>Private goods-producing industries 2/</td>\n",
              "      <td>6204.0</td>\n",
              "    </tr>\n",
              "    <tr>\n",
              "      <th>28727</th>\n",
              "      <td>NaN</td>\n",
              "      <td>NaN</td>\n",
              "      <td>2002</td>\n",
              "      <td>NaN</td>\n",
              "      <td>NaN</td>\n",
              "      <td>NaN</td>\n",
              "      <td>Wyoming</td>\n",
              "      <td>Private services-providing industries 3/</td>\n",
              "      <td>9754.2</td>\n",
              "    </tr>\n",
              "  </tbody>\n",
              "</table>\n",
              "<p>28734 rows × 9 columns</p>\n",
              "</div>"
            ],
            "text/plain": [
              "      chamber  congress  year  party.mean.diff.d1  prop.moderate.d1   overlap  \\\n",
              "118     House     105.0  1997            0.777287          0.155405  0.018059   \n",
              "119    Senate     105.0  1997            0.683943          0.180000  0.000000   \n",
              "120     House     106.0  1999            0.777078          0.156818  0.015982   \n",
              "121    Senate     106.0  1999            0.658384          0.215686  0.068627   \n",
              "122     House     107.0  2001            0.786643          0.146396  0.009050   \n",
              "...       ...       ...   ...                 ...               ...       ...   \n",
              "28723     NaN       NaN  2002                 NaN               NaN       NaN   \n",
              "28724     NaN       NaN  2002                 NaN               NaN       NaN   \n",
              "28725     NaN       NaN  2002                 NaN               NaN       NaN   \n",
              "28726     NaN       NaN  2002                 NaN               NaN       NaN   \n",
              "28727     NaN       NaN  2002                 NaN               NaN       NaN   \n",
              "\n",
              "          name                               description     gdp  \n",
              "118        NaN                                       NaN     NaN  \n",
              "119        NaN                                       NaN     NaN  \n",
              "120        NaN                                       NaN     NaN  \n",
              "121        NaN                                       NaN     NaN  \n",
              "122        NaN                                       NaN     NaN  \n",
              "...        ...                                       ...     ...  \n",
              "28723  Wyoming                                     Trade  2184.6  \n",
              "28724  Wyoming              Transportation and utilities  1548.6  \n",
              "28725  Wyoming             Manufacturing and information  1287.0  \n",
              "28726  Wyoming     Private goods-producing industries 2/  6204.0  \n",
              "28727  Wyoming  Private services-providing industries 3/  9754.2  \n",
              "\n",
              "[28734 rows x 9 columns]"
            ]
          },
          "execution_count": 427,
          "metadata": {},
          "output_type": "execute_result"
        }
      ],
      "source": [
        "# Puts the two datasets together\n",
        "q3_data = pd.concat([clean_polarization, industries_data])\n",
        "q3_data"
      ]
    },
    {
      "cell_type": "code",
      "execution_count": 428,
      "metadata": {},
      "outputs": [
        {
          "data": {
            "text/html": [
              "<div>\n",
              "<style scoped>\n",
              "    .dataframe tbody tr th:only-of-type {\n",
              "        vertical-align: middle;\n",
              "    }\n",
              "\n",
              "    .dataframe tbody tr th {\n",
              "        vertical-align: top;\n",
              "    }\n",
              "\n",
              "    .dataframe thead th {\n",
              "        text-align: right;\n",
              "    }\n",
              "</style>\n",
              "<table border=\"1\" class=\"dataframe\">\n",
              "  <thead>\n",
              "    <tr style=\"text-align: right;\">\n",
              "      <th></th>\n",
              "      <th>year</th>\n",
              "      <th>name</th>\n",
              "      <th>description</th>\n",
              "      <th>gdp</th>\n",
              "    </tr>\n",
              "  </thead>\n",
              "  <tbody>\n",
              "    <tr>\n",
              "      <th>118</th>\n",
              "      <td>1997</td>\n",
              "      <td>NaN</td>\n",
              "      <td>NaN</td>\n",
              "      <td>NaN</td>\n",
              "    </tr>\n",
              "    <tr>\n",
              "      <th>119</th>\n",
              "      <td>1997</td>\n",
              "      <td>NaN</td>\n",
              "      <td>NaN</td>\n",
              "      <td>NaN</td>\n",
              "    </tr>\n",
              "    <tr>\n",
              "      <th>120</th>\n",
              "      <td>1999</td>\n",
              "      <td>NaN</td>\n",
              "      <td>NaN</td>\n",
              "      <td>NaN</td>\n",
              "    </tr>\n",
              "    <tr>\n",
              "      <th>121</th>\n",
              "      <td>1999</td>\n",
              "      <td>NaN</td>\n",
              "      <td>NaN</td>\n",
              "      <td>NaN</td>\n",
              "    </tr>\n",
              "    <tr>\n",
              "      <th>122</th>\n",
              "      <td>2001</td>\n",
              "      <td>NaN</td>\n",
              "      <td>NaN</td>\n",
              "      <td>NaN</td>\n",
              "    </tr>\n",
              "    <tr>\n",
              "      <th>...</th>\n",
              "      <td>...</td>\n",
              "      <td>...</td>\n",
              "      <td>...</td>\n",
              "      <td>...</td>\n",
              "    </tr>\n",
              "    <tr>\n",
              "      <th>28723</th>\n",
              "      <td>2002</td>\n",
              "      <td>Wyoming</td>\n",
              "      <td>Trade</td>\n",
              "      <td>2184.6</td>\n",
              "    </tr>\n",
              "    <tr>\n",
              "      <th>28724</th>\n",
              "      <td>2002</td>\n",
              "      <td>Wyoming</td>\n",
              "      <td>Transportation and utilities</td>\n",
              "      <td>1548.6</td>\n",
              "    </tr>\n",
              "    <tr>\n",
              "      <th>28725</th>\n",
              "      <td>2002</td>\n",
              "      <td>Wyoming</td>\n",
              "      <td>Manufacturing and information</td>\n",
              "      <td>1287.0</td>\n",
              "    </tr>\n",
              "    <tr>\n",
              "      <th>28726</th>\n",
              "      <td>2002</td>\n",
              "      <td>Wyoming</td>\n",
              "      <td>Private goods-producing industries 2/</td>\n",
              "      <td>6204.0</td>\n",
              "    </tr>\n",
              "    <tr>\n",
              "      <th>28727</th>\n",
              "      <td>2002</td>\n",
              "      <td>Wyoming</td>\n",
              "      <td>Private services-providing industries 3/</td>\n",
              "      <td>9754.2</td>\n",
              "    </tr>\n",
              "  </tbody>\n",
              "</table>\n",
              "<p>28734 rows × 4 columns</p>\n",
              "</div>"
            ],
            "text/plain": [
              "       year     name                               description     gdp\n",
              "118    1997      NaN                                       NaN     NaN\n",
              "119    1997      NaN                                       NaN     NaN\n",
              "120    1999      NaN                                       NaN     NaN\n",
              "121    1999      NaN                                       NaN     NaN\n",
              "122    2001      NaN                                       NaN     NaN\n",
              "...     ...      ...                                       ...     ...\n",
              "28723  2002  Wyoming                                     Trade  2184.6\n",
              "28724  2002  Wyoming              Transportation and utilities  1548.6\n",
              "28725  2002  Wyoming             Manufacturing and information  1287.0\n",
              "28726  2002  Wyoming     Private goods-producing industries 2/  6204.0\n",
              "28727  2002  Wyoming  Private services-providing industries 3/  9754.2\n",
              "\n",
              "[28734 rows x 4 columns]"
            ]
          },
          "execution_count": 428,
          "metadata": {},
          "output_type": "execute_result"
        }
      ],
      "source": [
        "# Shows states, all industries, and gdps from concatenated dataset\n",
        "industries_description = q3_data.iloc[:, [2] + list(range(-3, 0))]\n",
        "industries_description"
      ]
    },
    {
      "cell_type": "code",
      "execution_count": 429,
      "metadata": {},
      "outputs": [
        {
          "data": {
            "text/html": [
              "<div>\n",
              "<style scoped>\n",
              "    .dataframe tbody tr th:only-of-type {\n",
              "        vertical-align: middle;\n",
              "    }\n",
              "\n",
              "    .dataframe tbody tr th {\n",
              "        vertical-align: top;\n",
              "    }\n",
              "\n",
              "    .dataframe thead th {\n",
              "        text-align: right;\n",
              "    }\n",
              "</style>\n",
              "<table border=\"1\" class=\"dataframe\">\n",
              "  <thead>\n",
              "    <tr style=\"text-align: right;\">\n",
              "      <th></th>\n",
              "      <th>name</th>\n",
              "      <th>description</th>\n",
              "      <th>year</th>\n",
              "      <th>gdp</th>\n",
              "    </tr>\n",
              "  </thead>\n",
              "  <tbody>\n",
              "    <tr>\n",
              "      <th>1</th>\n",
              "      <td>United States *</td>\n",
              "      <td>Private industries</td>\n",
              "      <td>1997</td>\n",
              "      <td>7431992.0</td>\n",
              "    </tr>\n",
              "    <tr>\n",
              "      <th>2</th>\n",
              "      <td>United States *</td>\n",
              "      <td>Agriculture, forestry, fishing and hunting</td>\n",
              "      <td>1997</td>\n",
              "      <td>108637.0</td>\n",
              "    </tr>\n",
              "    <tr>\n",
              "      <th>3</th>\n",
              "      <td>United States *</td>\n",
              "      <td>Farms</td>\n",
              "      <td>1997</td>\n",
              "      <td>88136.0</td>\n",
              "    </tr>\n",
              "    <tr>\n",
              "      <th>4</th>\n",
              "      <td>United States *</td>\n",
              "      <td>Forestry, fishing, and related activities</td>\n",
              "      <td>1997</td>\n",
              "      <td>20501.0</td>\n",
              "    </tr>\n",
              "    <tr>\n",
              "      <th>5</th>\n",
              "      <td>United States *</td>\n",
              "      <td>Mining, quarrying, and oil and gas extraction</td>\n",
              "      <td>1997</td>\n",
              "      <td>95062.0</td>\n",
              "    </tr>\n",
              "    <tr>\n",
              "      <th>...</th>\n",
              "      <td>...</td>\n",
              "      <td>...</td>\n",
              "      <td>...</td>\n",
              "      <td>...</td>\n",
              "    </tr>\n",
              "    <tr>\n",
              "      <th>28723</th>\n",
              "      <td>Wyoming</td>\n",
              "      <td>Trade</td>\n",
              "      <td>2002</td>\n",
              "      <td>2184.6</td>\n",
              "    </tr>\n",
              "    <tr>\n",
              "      <th>28724</th>\n",
              "      <td>Wyoming</td>\n",
              "      <td>Transportation and utilities</td>\n",
              "      <td>2002</td>\n",
              "      <td>1548.6</td>\n",
              "    </tr>\n",
              "    <tr>\n",
              "      <th>28725</th>\n",
              "      <td>Wyoming</td>\n",
              "      <td>Manufacturing and information</td>\n",
              "      <td>2002</td>\n",
              "      <td>1287.0</td>\n",
              "    </tr>\n",
              "    <tr>\n",
              "      <th>28726</th>\n",
              "      <td>Wyoming</td>\n",
              "      <td>Private goods-producing industries 2/</td>\n",
              "      <td>2002</td>\n",
              "      <td>6204.0</td>\n",
              "    </tr>\n",
              "    <tr>\n",
              "      <th>28727</th>\n",
              "      <td>Wyoming</td>\n",
              "      <td>Private services-providing industries 3/</td>\n",
              "      <td>2002</td>\n",
              "      <td>9754.2</td>\n",
              "    </tr>\n",
              "  </tbody>\n",
              "</table>\n",
              "<p>28399 rows × 4 columns</p>\n",
              "</div>"
            ],
            "text/plain": [
              "                  name                                      description  year  \\\n",
              "1      United States *                               Private industries  1997   \n",
              "2      United States *       Agriculture, forestry, fishing and hunting  1997   \n",
              "3      United States *                                            Farms  1997   \n",
              "4      United States *        Forestry, fishing, and related activities  1997   \n",
              "5      United States *    Mining, quarrying, and oil and gas extraction  1997   \n",
              "...                ...                                              ...   ...   \n",
              "28723          Wyoming                                            Trade  2002   \n",
              "28724          Wyoming                     Transportation and utilities  2002   \n",
              "28725          Wyoming                    Manufacturing and information  2002   \n",
              "28726          Wyoming            Private goods-producing industries 2/  2002   \n",
              "28727          Wyoming         Private services-providing industries 3/  2002   \n",
              "\n",
              "             gdp  \n",
              "1      7431992.0  \n",
              "2       108637.0  \n",
              "3        88136.0  \n",
              "4        20501.0  \n",
              "5        95062.0  \n",
              "...          ...  \n",
              "28723     2184.6  \n",
              "28724     1548.6  \n",
              "28725     1287.0  \n",
              "28726     6204.0  \n",
              "28727     9754.2  \n",
              "\n",
              "[28399 rows x 4 columns]"
            ]
          },
          "execution_count": 429,
          "metadata": {},
          "output_type": "execute_result"
        }
      ],
      "source": [
        "#Filters industries dataset so that it includes all descriptions besides all industry total\n",
        "ind_tot_data = industries_data[industries_data[\"description\"] != \"All industry total\"]\n",
        "ind_tot_data = ind_tot_data[ind_tot_data[\"gdp\"] != \"(L)\"]\n",
        "\n",
        "ind_tot_data[\"gdp\"]= ind_tot_data[\"gdp\"].astype(float)\n",
        "\n",
        "ind_tot_data"
      ]
    },
    {
      "cell_type": "code",
      "execution_count": 430,
      "metadata": {},
      "outputs": [
        {
          "data": {
            "text/html": [
              "<div>\n",
              "<style scoped>\n",
              "    .dataframe tbody tr th:only-of-type {\n",
              "        vertical-align: middle;\n",
              "    }\n",
              "\n",
              "    .dataframe tbody tr th {\n",
              "        vertical-align: top;\n",
              "    }\n",
              "\n",
              "    .dataframe thead th {\n",
              "        text-align: right;\n",
              "    }\n",
              "</style>\n",
              "<table border=\"1\" class=\"dataframe\">\n",
              "  <thead>\n",
              "    <tr style=\"text-align: right;\">\n",
              "      <th></th>\n",
              "      <th>state</th>\n",
              "      <th>year</th>\n",
              "      <th>description</th>\n",
              "      <th>gdp</th>\n",
              "    </tr>\n",
              "  </thead>\n",
              "  <tbody>\n",
              "    <tr>\n",
              "      <th>0</th>\n",
              "      <td>Wyoming</td>\n",
              "      <td>1997</td>\n",
              "      <td>Private industries</td>\n",
              "      <td>12346.6</td>\n",
              "    </tr>\n",
              "    <tr>\n",
              "      <th>1</th>\n",
              "      <td>Vermont</td>\n",
              "      <td>1997</td>\n",
              "      <td>Private industries</td>\n",
              "      <td>13433.6</td>\n",
              "    </tr>\n",
              "    <tr>\n",
              "      <th>2</th>\n",
              "      <td>North Dakota</td>\n",
              "      <td>1997</td>\n",
              "      <td>Private industries</td>\n",
              "      <td>13224.4</td>\n",
              "    </tr>\n",
              "    <tr>\n",
              "      <th>3</th>\n",
              "      <td>South Dakota</td>\n",
              "      <td>1997</td>\n",
              "      <td>Private industries</td>\n",
              "      <td>16293.6</td>\n",
              "    </tr>\n",
              "    <tr>\n",
              "      <th>4</th>\n",
              "      <td>Montana</td>\n",
              "      <td>1997</td>\n",
              "      <td>Private industries</td>\n",
              "      <td>16050.7</td>\n",
              "    </tr>\n",
              "    <tr>\n",
              "      <th>5</th>\n",
              "      <td>Wyoming</td>\n",
              "      <td>1998</td>\n",
              "      <td>Private industries</td>\n",
              "      <td>12423.4</td>\n",
              "    </tr>\n",
              "    <tr>\n",
              "      <th>6</th>\n",
              "      <td>Vermont</td>\n",
              "      <td>1998</td>\n",
              "      <td>Private industries</td>\n",
              "      <td>13972.2</td>\n",
              "    </tr>\n",
              "    <tr>\n",
              "      <th>7</th>\n",
              "      <td>North Dakota</td>\n",
              "      <td>1998</td>\n",
              "      <td>Private industries</td>\n",
              "      <td>14230.6</td>\n",
              "    </tr>\n",
              "    <tr>\n",
              "      <th>8</th>\n",
              "      <td>South Dakota</td>\n",
              "      <td>1998</td>\n",
              "      <td>Private industries</td>\n",
              "      <td>17343.7</td>\n",
              "    </tr>\n",
              "    <tr>\n",
              "      <th>9</th>\n",
              "      <td>Montana</td>\n",
              "      <td>1998</td>\n",
              "      <td>Private industries</td>\n",
              "      <td>17043.7</td>\n",
              "    </tr>\n",
              "    <tr>\n",
              "      <th>10</th>\n",
              "      <td>Wyoming</td>\n",
              "      <td>1999</td>\n",
              "      <td>Private industries</td>\n",
              "      <td>13115.0</td>\n",
              "    </tr>\n",
              "    <tr>\n",
              "      <th>11</th>\n",
              "      <td>Vermont</td>\n",
              "      <td>1999</td>\n",
              "      <td>Private industries</td>\n",
              "      <td>14925.0</td>\n",
              "    </tr>\n",
              "    <tr>\n",
              "      <th>12</th>\n",
              "      <td>North Dakota</td>\n",
              "      <td>1999</td>\n",
              "      <td>Private industries</td>\n",
              "      <td>14375.2</td>\n",
              "    </tr>\n",
              "    <tr>\n",
              "      <th>13</th>\n",
              "      <td>South Dakota</td>\n",
              "      <td>1999</td>\n",
              "      <td>Private industries</td>\n",
              "      <td>18026.8</td>\n",
              "    </tr>\n",
              "    <tr>\n",
              "      <th>14</th>\n",
              "      <td>Montana</td>\n",
              "      <td>1999</td>\n",
              "      <td>Private industries</td>\n",
              "      <td>17263.1</td>\n",
              "    </tr>\n",
              "    <tr>\n",
              "      <th>15</th>\n",
              "      <td>Wyoming</td>\n",
              "      <td>2000</td>\n",
              "      <td>Private industries</td>\n",
              "      <td>14447.6</td>\n",
              "    </tr>\n",
              "    <tr>\n",
              "      <th>16</th>\n",
              "      <td>Vermont</td>\n",
              "      <td>2000</td>\n",
              "      <td>Private industries</td>\n",
              "      <td>15924.3</td>\n",
              "    </tr>\n",
              "    <tr>\n",
              "      <th>17</th>\n",
              "      <td>North Dakota</td>\n",
              "      <td>2000</td>\n",
              "      <td>Private industries</td>\n",
              "      <td>15171.4</td>\n",
              "    </tr>\n",
              "    <tr>\n",
              "      <th>18</th>\n",
              "      <td>South Dakota</td>\n",
              "      <td>2000</td>\n",
              "      <td>Private industries</td>\n",
              "      <td>19462.7</td>\n",
              "    </tr>\n",
              "    <tr>\n",
              "      <th>19</th>\n",
              "      <td>Montana</td>\n",
              "      <td>2000</td>\n",
              "      <td>Private industries</td>\n",
              "      <td>18064.4</td>\n",
              "    </tr>\n",
              "    <tr>\n",
              "      <th>20</th>\n",
              "      <td>Wyoming</td>\n",
              "      <td>2001</td>\n",
              "      <td>Private industries</td>\n",
              "      <td>15729.6</td>\n",
              "    </tr>\n",
              "    <tr>\n",
              "      <th>21</th>\n",
              "      <td>Vermont</td>\n",
              "      <td>2001</td>\n",
              "      <td>Private industries</td>\n",
              "      <td>16685.1</td>\n",
              "    </tr>\n",
              "    <tr>\n",
              "      <th>22</th>\n",
              "      <td>North Dakota</td>\n",
              "      <td>2001</td>\n",
              "      <td>Private industries</td>\n",
              "      <td>15928.2</td>\n",
              "    </tr>\n",
              "    <tr>\n",
              "      <th>23</th>\n",
              "      <td>South Dakota</td>\n",
              "      <td>2001</td>\n",
              "      <td>Private industries</td>\n",
              "      <td>20222.9</td>\n",
              "    </tr>\n",
              "    <tr>\n",
              "      <th>24</th>\n",
              "      <td>Montana</td>\n",
              "      <td>2001</td>\n",
              "      <td>Private industries</td>\n",
              "      <td>18855.0</td>\n",
              "    </tr>\n",
              "    <tr>\n",
              "      <th>25</th>\n",
              "      <td>Wyoming</td>\n",
              "      <td>2002</td>\n",
              "      <td>Private industries</td>\n",
              "      <td>15958.2</td>\n",
              "    </tr>\n",
              "    <tr>\n",
              "      <th>26</th>\n",
              "      <td>Vermont</td>\n",
              "      <td>2002</td>\n",
              "      <td>Private industries</td>\n",
              "      <td>17411.9</td>\n",
              "    </tr>\n",
              "    <tr>\n",
              "      <th>27</th>\n",
              "      <td>North Dakota</td>\n",
              "      <td>2002</td>\n",
              "      <td>Private industries</td>\n",
              "      <td>16931.8</td>\n",
              "    </tr>\n",
              "    <tr>\n",
              "      <th>28</th>\n",
              "      <td>South Dakota</td>\n",
              "      <td>2002</td>\n",
              "      <td>Private industries</td>\n",
              "      <td>22804.6</td>\n",
              "    </tr>\n",
              "    <tr>\n",
              "      <th>29</th>\n",
              "      <td>Montana</td>\n",
              "      <td>2002</td>\n",
              "      <td>Private industries</td>\n",
              "      <td>19701.8</td>\n",
              "    </tr>\n",
              "  </tbody>\n",
              "</table>\n",
              "</div>"
            ],
            "text/plain": [
              "           state  year          description      gdp\n",
              "0        Wyoming  1997   Private industries  12346.6\n",
              "1        Vermont  1997   Private industries  13433.6\n",
              "2   North Dakota  1997   Private industries  13224.4\n",
              "3   South Dakota  1997   Private industries  16293.6\n",
              "4        Montana  1997   Private industries  16050.7\n",
              "5        Wyoming  1998   Private industries  12423.4\n",
              "6        Vermont  1998   Private industries  13972.2\n",
              "7   North Dakota  1998   Private industries  14230.6\n",
              "8   South Dakota  1998   Private industries  17343.7\n",
              "9        Montana  1998   Private industries  17043.7\n",
              "10       Wyoming  1999   Private industries  13115.0\n",
              "11       Vermont  1999   Private industries  14925.0\n",
              "12  North Dakota  1999   Private industries  14375.2\n",
              "13  South Dakota  1999   Private industries  18026.8\n",
              "14       Montana  1999   Private industries  17263.1\n",
              "15       Wyoming  2000   Private industries  14447.6\n",
              "16       Vermont  2000   Private industries  15924.3\n",
              "17  North Dakota  2000   Private industries  15171.4\n",
              "18  South Dakota  2000   Private industries  19462.7\n",
              "19       Montana  2000   Private industries  18064.4\n",
              "20       Wyoming  2001   Private industries  15729.6\n",
              "21       Vermont  2001   Private industries  16685.1\n",
              "22  North Dakota  2001   Private industries  15928.2\n",
              "23  South Dakota  2001   Private industries  20222.9\n",
              "24       Montana  2001   Private industries  18855.0\n",
              "25       Wyoming  2002   Private industries  15958.2\n",
              "26       Vermont  2002   Private industries  17411.9\n",
              "27  North Dakota  2002   Private industries  16931.8\n",
              "28  South Dakota  2002   Private industries  22804.6\n",
              "29       Montana  2002   Private industries  19701.8"
            ]
          },
          "execution_count": 430,
          "metadata": {},
          "output_type": "execute_result"
        }
      ],
      "source": [
        "# Sorts state industry data in ascending order. Only shows the 5 lowest gdps per year\n",
        "years_col = [\"1997\", \"1998\", \"1999\", \"2000\", \"2001\", \"2002\"]\n",
        "lowest_state_names = [\"Wyoming\", \"Vermont\", \"North Dakota\", \"South Dakota\", \"Montana\"]\n",
        "q3_lowest_state_gdp_list = []\n",
        "\n",
        "\n",
        "for year in years_col:\n",
        "  for state in lowest_state_names:\n",
        "    year_state_filter = ind_tot_data[(ind_tot_data[\"year\"] == year) & (ind_tot_data[\"name\"] == state)]\n",
        "    max_gdp_idx = year_state_filter[\"gdp\"].idxmax()\n",
        "    max_gdp_row = year_state_filter.loc[max_gdp_idx]\n",
        "    q3_lowest_state_gdp_list.append({\"state\": max_gdp_row[\"name\"], \"year\": max_gdp_row[\"year\"], \"description\": max_gdp_row[\"description\"], \"gdp\": max_gdp_row[\"gdp\"]})\n",
        "\n",
        "\n",
        "\n",
        "#q3_lowest_state_gdp_list\n",
        "q3_lowest_state_gdp_df = pd.DataFrame(q3_lowest_state_gdp_list)\n",
        "q3_lowest_state_gdp_df"
      ]
    },
    {
      "cell_type": "code",
      "execution_count": 431,
      "metadata": {},
      "outputs": [
        {
          "data": {
            "text/html": [
              "<div>\n",
              "<style scoped>\n",
              "    .dataframe tbody tr th:only-of-type {\n",
              "        vertical-align: middle;\n",
              "    }\n",
              "\n",
              "    .dataframe tbody tr th {\n",
              "        vertical-align: top;\n",
              "    }\n",
              "\n",
              "    .dataframe thead th {\n",
              "        text-align: right;\n",
              "    }\n",
              "</style>\n",
              "<table border=\"1\" class=\"dataframe\">\n",
              "  <thead>\n",
              "    <tr style=\"text-align: right;\">\n",
              "      <th></th>\n",
              "      <th>state</th>\n",
              "      <th>year</th>\n",
              "      <th>description</th>\n",
              "      <th>gdp</th>\n",
              "      <th>new_index</th>\n",
              "    </tr>\n",
              "  </thead>\n",
              "  <tbody>\n",
              "    <tr>\n",
              "      <th>0</th>\n",
              "      <td>Wyoming</td>\n",
              "      <td>1997</td>\n",
              "      <td>Private industries</td>\n",
              "      <td>12346.6</td>\n",
              "      <td>2</td>\n",
              "    </tr>\n",
              "    <tr>\n",
              "      <th>1</th>\n",
              "      <td>Vermont</td>\n",
              "      <td>1997</td>\n",
              "      <td>Private industries</td>\n",
              "      <td>13433.6</td>\n",
              "      <td>3</td>\n",
              "    </tr>\n",
              "    <tr>\n",
              "      <th>2</th>\n",
              "      <td>North Dakota</td>\n",
              "      <td>1997</td>\n",
              "      <td>Private industries</td>\n",
              "      <td>13224.4</td>\n",
              "      <td>4</td>\n",
              "    </tr>\n",
              "    <tr>\n",
              "      <th>3</th>\n",
              "      <td>South Dakota</td>\n",
              "      <td>1997</td>\n",
              "      <td>Private industries</td>\n",
              "      <td>16293.6</td>\n",
              "      <td>5</td>\n",
              "    </tr>\n",
              "    <tr>\n",
              "      <th>4</th>\n",
              "      <td>Montana</td>\n",
              "      <td>1997</td>\n",
              "      <td>Private industries</td>\n",
              "      <td>16050.7</td>\n",
              "      <td>6</td>\n",
              "    </tr>\n",
              "    <tr>\n",
              "      <th>5</th>\n",
              "      <td>Wyoming</td>\n",
              "      <td>1998</td>\n",
              "      <td>Private industries</td>\n",
              "      <td>12423.4</td>\n",
              "      <td>2</td>\n",
              "    </tr>\n",
              "    <tr>\n",
              "      <th>6</th>\n",
              "      <td>Vermont</td>\n",
              "      <td>1998</td>\n",
              "      <td>Private industries</td>\n",
              "      <td>13972.2</td>\n",
              "      <td>3</td>\n",
              "    </tr>\n",
              "    <tr>\n",
              "      <th>7</th>\n",
              "      <td>North Dakota</td>\n",
              "      <td>1998</td>\n",
              "      <td>Private industries</td>\n",
              "      <td>14230.6</td>\n",
              "      <td>4</td>\n",
              "    </tr>\n",
              "    <tr>\n",
              "      <th>8</th>\n",
              "      <td>South Dakota</td>\n",
              "      <td>1998</td>\n",
              "      <td>Private industries</td>\n",
              "      <td>17343.7</td>\n",
              "      <td>5</td>\n",
              "    </tr>\n",
              "    <tr>\n",
              "      <th>9</th>\n",
              "      <td>Montana</td>\n",
              "      <td>1998</td>\n",
              "      <td>Private industries</td>\n",
              "      <td>17043.7</td>\n",
              "      <td>6</td>\n",
              "    </tr>\n",
              "    <tr>\n",
              "      <th>10</th>\n",
              "      <td>Wyoming</td>\n",
              "      <td>1999</td>\n",
              "      <td>Private industries</td>\n",
              "      <td>13115.0</td>\n",
              "      <td>2</td>\n",
              "    </tr>\n",
              "    <tr>\n",
              "      <th>11</th>\n",
              "      <td>Vermont</td>\n",
              "      <td>1999</td>\n",
              "      <td>Private industries</td>\n",
              "      <td>14925.0</td>\n",
              "      <td>3</td>\n",
              "    </tr>\n",
              "    <tr>\n",
              "      <th>12</th>\n",
              "      <td>North Dakota</td>\n",
              "      <td>1999</td>\n",
              "      <td>Private industries</td>\n",
              "      <td>14375.2</td>\n",
              "      <td>4</td>\n",
              "    </tr>\n",
              "    <tr>\n",
              "      <th>13</th>\n",
              "      <td>South Dakota</td>\n",
              "      <td>1999</td>\n",
              "      <td>Private industries</td>\n",
              "      <td>18026.8</td>\n",
              "      <td>5</td>\n",
              "    </tr>\n",
              "    <tr>\n",
              "      <th>14</th>\n",
              "      <td>Montana</td>\n",
              "      <td>1999</td>\n",
              "      <td>Private industries</td>\n",
              "      <td>17263.1</td>\n",
              "      <td>6</td>\n",
              "    </tr>\n",
              "    <tr>\n",
              "      <th>15</th>\n",
              "      <td>Wyoming</td>\n",
              "      <td>2000</td>\n",
              "      <td>Private industries</td>\n",
              "      <td>14447.6</td>\n",
              "      <td>2</td>\n",
              "    </tr>\n",
              "    <tr>\n",
              "      <th>16</th>\n",
              "      <td>Vermont</td>\n",
              "      <td>2000</td>\n",
              "      <td>Private industries</td>\n",
              "      <td>15924.3</td>\n",
              "      <td>3</td>\n",
              "    </tr>\n",
              "    <tr>\n",
              "      <th>17</th>\n",
              "      <td>North Dakota</td>\n",
              "      <td>2000</td>\n",
              "      <td>Private industries</td>\n",
              "      <td>15171.4</td>\n",
              "      <td>4</td>\n",
              "    </tr>\n",
              "    <tr>\n",
              "      <th>18</th>\n",
              "      <td>South Dakota</td>\n",
              "      <td>2000</td>\n",
              "      <td>Private industries</td>\n",
              "      <td>19462.7</td>\n",
              "      <td>5</td>\n",
              "    </tr>\n",
              "    <tr>\n",
              "      <th>19</th>\n",
              "      <td>Montana</td>\n",
              "      <td>2000</td>\n",
              "      <td>Private industries</td>\n",
              "      <td>18064.4</td>\n",
              "      <td>6</td>\n",
              "    </tr>\n",
              "    <tr>\n",
              "      <th>20</th>\n",
              "      <td>Wyoming</td>\n",
              "      <td>2001</td>\n",
              "      <td>Private industries</td>\n",
              "      <td>15729.6</td>\n",
              "      <td>2</td>\n",
              "    </tr>\n",
              "    <tr>\n",
              "      <th>21</th>\n",
              "      <td>Vermont</td>\n",
              "      <td>2001</td>\n",
              "      <td>Private industries</td>\n",
              "      <td>16685.1</td>\n",
              "      <td>3</td>\n",
              "    </tr>\n",
              "    <tr>\n",
              "      <th>22</th>\n",
              "      <td>North Dakota</td>\n",
              "      <td>2001</td>\n",
              "      <td>Private industries</td>\n",
              "      <td>15928.2</td>\n",
              "      <td>4</td>\n",
              "    </tr>\n",
              "    <tr>\n",
              "      <th>23</th>\n",
              "      <td>South Dakota</td>\n",
              "      <td>2001</td>\n",
              "      <td>Private industries</td>\n",
              "      <td>20222.9</td>\n",
              "      <td>5</td>\n",
              "    </tr>\n",
              "    <tr>\n",
              "      <th>24</th>\n",
              "      <td>Montana</td>\n",
              "      <td>2001</td>\n",
              "      <td>Private industries</td>\n",
              "      <td>18855.0</td>\n",
              "      <td>6</td>\n",
              "    </tr>\n",
              "    <tr>\n",
              "      <th>25</th>\n",
              "      <td>Wyoming</td>\n",
              "      <td>2002</td>\n",
              "      <td>Private industries</td>\n",
              "      <td>15958.2</td>\n",
              "      <td>2</td>\n",
              "    </tr>\n",
              "    <tr>\n",
              "      <th>26</th>\n",
              "      <td>Vermont</td>\n",
              "      <td>2002</td>\n",
              "      <td>Private industries</td>\n",
              "      <td>17411.9</td>\n",
              "      <td>3</td>\n",
              "    </tr>\n",
              "    <tr>\n",
              "      <th>27</th>\n",
              "      <td>North Dakota</td>\n",
              "      <td>2002</td>\n",
              "      <td>Private industries</td>\n",
              "      <td>16931.8</td>\n",
              "      <td>4</td>\n",
              "    </tr>\n",
              "    <tr>\n",
              "      <th>28</th>\n",
              "      <td>South Dakota</td>\n",
              "      <td>2002</td>\n",
              "      <td>Private industries</td>\n",
              "      <td>22804.6</td>\n",
              "      <td>5</td>\n",
              "    </tr>\n",
              "    <tr>\n",
              "      <th>29</th>\n",
              "      <td>Montana</td>\n",
              "      <td>2002</td>\n",
              "      <td>Private industries</td>\n",
              "      <td>19701.8</td>\n",
              "      <td>6</td>\n",
              "    </tr>\n",
              "  </tbody>\n",
              "</table>\n",
              "</div>"
            ],
            "text/plain": [
              "           state  year          description      gdp  new_index\n",
              "0        Wyoming  1997   Private industries  12346.6          2\n",
              "1        Vermont  1997   Private industries  13433.6          3\n",
              "2   North Dakota  1997   Private industries  13224.4          4\n",
              "3   South Dakota  1997   Private industries  16293.6          5\n",
              "4        Montana  1997   Private industries  16050.7          6\n",
              "5        Wyoming  1998   Private industries  12423.4          2\n",
              "6        Vermont  1998   Private industries  13972.2          3\n",
              "7   North Dakota  1998   Private industries  14230.6          4\n",
              "8   South Dakota  1998   Private industries  17343.7          5\n",
              "9        Montana  1998   Private industries  17043.7          6\n",
              "10       Wyoming  1999   Private industries  13115.0          2\n",
              "11       Vermont  1999   Private industries  14925.0          3\n",
              "12  North Dakota  1999   Private industries  14375.2          4\n",
              "13  South Dakota  1999   Private industries  18026.8          5\n",
              "14       Montana  1999   Private industries  17263.1          6\n",
              "15       Wyoming  2000   Private industries  14447.6          2\n",
              "16       Vermont  2000   Private industries  15924.3          3\n",
              "17  North Dakota  2000   Private industries  15171.4          4\n",
              "18  South Dakota  2000   Private industries  19462.7          5\n",
              "19       Montana  2000   Private industries  18064.4          6\n",
              "20       Wyoming  2001   Private industries  15729.6          2\n",
              "21       Vermont  2001   Private industries  16685.1          3\n",
              "22  North Dakota  2001   Private industries  15928.2          4\n",
              "23  South Dakota  2001   Private industries  20222.9          5\n",
              "24       Montana  2001   Private industries  18855.0          6\n",
              "25       Wyoming  2002   Private industries  15958.2          2\n",
              "26       Vermont  2002   Private industries  17411.9          3\n",
              "27  North Dakota  2002   Private industries  16931.8          4\n",
              "28  South Dakota  2002   Private industries  22804.6          5\n",
              "29       Montana  2002   Private industries  19701.8          6"
            ]
          },
          "execution_count": 431,
          "metadata": {},
          "output_type": "execute_result"
        }
      ],
      "source": [
        "q3_lowest_state_gdp_df.reset_index(drop=True, inplace=True)\n",
        "q3_lowest_state_gdp_df['new_index'] = (q3_lowest_state_gdp_df.index % 5) + 2\n",
        "q3_lowest_state_gdp_df"
      ]
    },
    {
      "cell_type": "code",
      "execution_count": 432,
      "metadata": {},
      "outputs": [
        {
          "data": {
            "application/vnd.plotly.v1+json": {
              "config": {
                "plotlyServerURL": "https://plot.ly"
              },
              "data": [
                {
                  "alignmentgroup": "True",
                  "hovertemplate": "state=Wyoming<br>year=1997<br>new_index=%{x}<br>gdp=%{y}<extra></extra>",
                  "ids": [
                    12346.6
                  ],
                  "legendgroup": "Wyoming",
                  "marker": {
                    "color": "#636efa",
                    "pattern": {
                      "shape": ""
                    }
                  },
                  "name": "Wyoming",
                  "offsetgroup": "Wyoming",
                  "orientation": "v",
                  "showlegend": true,
                  "textposition": "auto",
                  "texttemplate": "%{y}",
                  "type": "bar",
                  "width": 1,
                  "x": [
                    2
                  ],
                  "xaxis": "x",
                  "y": [
                    12346.6
                  ],
                  "yaxis": "y"
                },
                {
                  "alignmentgroup": "True",
                  "hovertemplate": "state=Vermont<br>year=1997<br>new_index=%{x}<br>gdp=%{y}<extra></extra>",
                  "ids": [
                    13433.6
                  ],
                  "legendgroup": "Vermont",
                  "marker": {
                    "color": "#EF553B",
                    "pattern": {
                      "shape": ""
                    }
                  },
                  "name": "Vermont",
                  "offsetgroup": "Vermont",
                  "orientation": "v",
                  "showlegend": true,
                  "textposition": "auto",
                  "texttemplate": "%{y}",
                  "type": "bar",
                  "width": 1,
                  "x": [
                    3
                  ],
                  "xaxis": "x",
                  "y": [
                    13433.6
                  ],
                  "yaxis": "y"
                },
                {
                  "alignmentgroup": "True",
                  "hovertemplate": "state=North Dakota<br>year=1997<br>new_index=%{x}<br>gdp=%{y}<extra></extra>",
                  "ids": [
                    13224.4
                  ],
                  "legendgroup": "North Dakota",
                  "marker": {
                    "color": "#00cc96",
                    "pattern": {
                      "shape": ""
                    }
                  },
                  "name": "North Dakota",
                  "offsetgroup": "North Dakota",
                  "orientation": "v",
                  "showlegend": true,
                  "textposition": "auto",
                  "texttemplate": "%{y}",
                  "type": "bar",
                  "width": 1,
                  "x": [
                    4
                  ],
                  "xaxis": "x",
                  "y": [
                    13224.4
                  ],
                  "yaxis": "y"
                },
                {
                  "alignmentgroup": "True",
                  "hovertemplate": "state=South Dakota<br>year=1997<br>new_index=%{x}<br>gdp=%{y}<extra></extra>",
                  "ids": [
                    16293.6
                  ],
                  "legendgroup": "South Dakota",
                  "marker": {
                    "color": "#ab63fa",
                    "pattern": {
                      "shape": ""
                    }
                  },
                  "name": "South Dakota",
                  "offsetgroup": "South Dakota",
                  "orientation": "v",
                  "showlegend": true,
                  "textposition": "auto",
                  "texttemplate": "%{y}",
                  "type": "bar",
                  "width": 1,
                  "x": [
                    5
                  ],
                  "xaxis": "x",
                  "y": [
                    16293.6
                  ],
                  "yaxis": "y"
                },
                {
                  "alignmentgroup": "True",
                  "hovertemplate": "state=Montana<br>year=1997<br>new_index=%{x}<br>gdp=%{y}<extra></extra>",
                  "ids": [
                    16050.7
                  ],
                  "legendgroup": "Montana",
                  "marker": {
                    "color": "#FFA15A",
                    "pattern": {
                      "shape": ""
                    }
                  },
                  "name": "Montana",
                  "offsetgroup": "Montana",
                  "orientation": "v",
                  "showlegend": true,
                  "textposition": "auto",
                  "texttemplate": "%{y}",
                  "type": "bar",
                  "width": 1,
                  "x": [
                    6
                  ],
                  "xaxis": "x",
                  "y": [
                    16050.7
                  ],
                  "yaxis": "y"
                }
              ],
              "frames": [
                {
                  "data": [
                    {
                      "alignmentgroup": "True",
                      "hovertemplate": "state=Wyoming<br>year=1997<br>new_index=%{x}<br>gdp=%{y}<extra></extra>",
                      "ids": [
                        12346.6
                      ],
                      "legendgroup": "Wyoming",
                      "marker": {
                        "color": "#636efa",
                        "pattern": {
                          "shape": ""
                        }
                      },
                      "name": "Wyoming",
                      "offsetgroup": "Wyoming",
                      "orientation": "v",
                      "showlegend": true,
                      "textposition": "auto",
                      "texttemplate": "%{y}",
                      "type": "bar",
                      "x": [
                        2
                      ],
                      "xaxis": "x",
                      "y": [
                        12346.6
                      ],
                      "yaxis": "y"
                    },
                    {
                      "alignmentgroup": "True",
                      "hovertemplate": "state=Vermont<br>year=1997<br>new_index=%{x}<br>gdp=%{y}<extra></extra>",
                      "ids": [
                        13433.6
                      ],
                      "legendgroup": "Vermont",
                      "marker": {
                        "color": "#EF553B",
                        "pattern": {
                          "shape": ""
                        }
                      },
                      "name": "Vermont",
                      "offsetgroup": "Vermont",
                      "orientation": "v",
                      "showlegend": true,
                      "textposition": "auto",
                      "texttemplate": "%{y}",
                      "type": "bar",
                      "x": [
                        3
                      ],
                      "xaxis": "x",
                      "y": [
                        13433.6
                      ],
                      "yaxis": "y"
                    },
                    {
                      "alignmentgroup": "True",
                      "hovertemplate": "state=North Dakota<br>year=1997<br>new_index=%{x}<br>gdp=%{y}<extra></extra>",
                      "ids": [
                        13224.4
                      ],
                      "legendgroup": "North Dakota",
                      "marker": {
                        "color": "#00cc96",
                        "pattern": {
                          "shape": ""
                        }
                      },
                      "name": "North Dakota",
                      "offsetgroup": "North Dakota",
                      "orientation": "v",
                      "showlegend": true,
                      "textposition": "auto",
                      "texttemplate": "%{y}",
                      "type": "bar",
                      "x": [
                        4
                      ],
                      "xaxis": "x",
                      "y": [
                        13224.4
                      ],
                      "yaxis": "y"
                    },
                    {
                      "alignmentgroup": "True",
                      "hovertemplate": "state=South Dakota<br>year=1997<br>new_index=%{x}<br>gdp=%{y}<extra></extra>",
                      "ids": [
                        16293.6
                      ],
                      "legendgroup": "South Dakota",
                      "marker": {
                        "color": "#ab63fa",
                        "pattern": {
                          "shape": ""
                        }
                      },
                      "name": "South Dakota",
                      "offsetgroup": "South Dakota",
                      "orientation": "v",
                      "showlegend": true,
                      "textposition": "auto",
                      "texttemplate": "%{y}",
                      "type": "bar",
                      "x": [
                        5
                      ],
                      "xaxis": "x",
                      "y": [
                        16293.6
                      ],
                      "yaxis": "y"
                    },
                    {
                      "alignmentgroup": "True",
                      "hovertemplate": "state=Montana<br>year=1997<br>new_index=%{x}<br>gdp=%{y}<extra></extra>",
                      "ids": [
                        16050.7
                      ],
                      "legendgroup": "Montana",
                      "marker": {
                        "color": "#FFA15A",
                        "pattern": {
                          "shape": ""
                        }
                      },
                      "name": "Montana",
                      "offsetgroup": "Montana",
                      "orientation": "v",
                      "showlegend": true,
                      "textposition": "auto",
                      "texttemplate": "%{y}",
                      "type": "bar",
                      "x": [
                        6
                      ],
                      "xaxis": "x",
                      "y": [
                        16050.7
                      ],
                      "yaxis": "y"
                    }
                  ],
                  "name": "1997"
                },
                {
                  "data": [
                    {
                      "alignmentgroup": "True",
                      "hovertemplate": "state=Wyoming<br>year=1998<br>new_index=%{x}<br>gdp=%{y}<extra></extra>",
                      "ids": [
                        12423.4
                      ],
                      "legendgroup": "Wyoming",
                      "marker": {
                        "color": "#636efa",
                        "pattern": {
                          "shape": ""
                        }
                      },
                      "name": "Wyoming",
                      "offsetgroup": "Wyoming",
                      "orientation": "v",
                      "showlegend": true,
                      "textposition": "auto",
                      "texttemplate": "%{y}",
                      "type": "bar",
                      "x": [
                        2
                      ],
                      "xaxis": "x",
                      "y": [
                        12423.4
                      ],
                      "yaxis": "y"
                    },
                    {
                      "alignmentgroup": "True",
                      "hovertemplate": "state=Vermont<br>year=1998<br>new_index=%{x}<br>gdp=%{y}<extra></extra>",
                      "ids": [
                        13972.2
                      ],
                      "legendgroup": "Vermont",
                      "marker": {
                        "color": "#EF553B",
                        "pattern": {
                          "shape": ""
                        }
                      },
                      "name": "Vermont",
                      "offsetgroup": "Vermont",
                      "orientation": "v",
                      "showlegend": true,
                      "textposition": "auto",
                      "texttemplate": "%{y}",
                      "type": "bar",
                      "x": [
                        3
                      ],
                      "xaxis": "x",
                      "y": [
                        13972.2
                      ],
                      "yaxis": "y"
                    },
                    {
                      "alignmentgroup": "True",
                      "hovertemplate": "state=North Dakota<br>year=1998<br>new_index=%{x}<br>gdp=%{y}<extra></extra>",
                      "ids": [
                        14230.6
                      ],
                      "legendgroup": "North Dakota",
                      "marker": {
                        "color": "#00cc96",
                        "pattern": {
                          "shape": ""
                        }
                      },
                      "name": "North Dakota",
                      "offsetgroup": "North Dakota",
                      "orientation": "v",
                      "showlegend": true,
                      "textposition": "auto",
                      "texttemplate": "%{y}",
                      "type": "bar",
                      "x": [
                        4
                      ],
                      "xaxis": "x",
                      "y": [
                        14230.6
                      ],
                      "yaxis": "y"
                    },
                    {
                      "alignmentgroup": "True",
                      "hovertemplate": "state=South Dakota<br>year=1998<br>new_index=%{x}<br>gdp=%{y}<extra></extra>",
                      "ids": [
                        17343.7
                      ],
                      "legendgroup": "South Dakota",
                      "marker": {
                        "color": "#ab63fa",
                        "pattern": {
                          "shape": ""
                        }
                      },
                      "name": "South Dakota",
                      "offsetgroup": "South Dakota",
                      "orientation": "v",
                      "showlegend": true,
                      "textposition": "auto",
                      "texttemplate": "%{y}",
                      "type": "bar",
                      "x": [
                        5
                      ],
                      "xaxis": "x",
                      "y": [
                        17343.7
                      ],
                      "yaxis": "y"
                    },
                    {
                      "alignmentgroup": "True",
                      "hovertemplate": "state=Montana<br>year=1998<br>new_index=%{x}<br>gdp=%{y}<extra></extra>",
                      "ids": [
                        17043.7
                      ],
                      "legendgroup": "Montana",
                      "marker": {
                        "color": "#FFA15A",
                        "pattern": {
                          "shape": ""
                        }
                      },
                      "name": "Montana",
                      "offsetgroup": "Montana",
                      "orientation": "v",
                      "showlegend": true,
                      "textposition": "auto",
                      "texttemplate": "%{y}",
                      "type": "bar",
                      "x": [
                        6
                      ],
                      "xaxis": "x",
                      "y": [
                        17043.7
                      ],
                      "yaxis": "y"
                    }
                  ],
                  "name": "1998"
                },
                {
                  "data": [
                    {
                      "alignmentgroup": "True",
                      "hovertemplate": "state=Wyoming<br>year=1999<br>new_index=%{x}<br>gdp=%{y}<extra></extra>",
                      "ids": [
                        13115
                      ],
                      "legendgroup": "Wyoming",
                      "marker": {
                        "color": "#636efa",
                        "pattern": {
                          "shape": ""
                        }
                      },
                      "name": "Wyoming",
                      "offsetgroup": "Wyoming",
                      "orientation": "v",
                      "showlegend": true,
                      "textposition": "auto",
                      "texttemplate": "%{y}",
                      "type": "bar",
                      "x": [
                        2
                      ],
                      "xaxis": "x",
                      "y": [
                        13115
                      ],
                      "yaxis": "y"
                    },
                    {
                      "alignmentgroup": "True",
                      "hovertemplate": "state=Vermont<br>year=1999<br>new_index=%{x}<br>gdp=%{y}<extra></extra>",
                      "ids": [
                        14925
                      ],
                      "legendgroup": "Vermont",
                      "marker": {
                        "color": "#EF553B",
                        "pattern": {
                          "shape": ""
                        }
                      },
                      "name": "Vermont",
                      "offsetgroup": "Vermont",
                      "orientation": "v",
                      "showlegend": true,
                      "textposition": "auto",
                      "texttemplate": "%{y}",
                      "type": "bar",
                      "x": [
                        3
                      ],
                      "xaxis": "x",
                      "y": [
                        14925
                      ],
                      "yaxis": "y"
                    },
                    {
                      "alignmentgroup": "True",
                      "hovertemplate": "state=North Dakota<br>year=1999<br>new_index=%{x}<br>gdp=%{y}<extra></extra>",
                      "ids": [
                        14375.2
                      ],
                      "legendgroup": "North Dakota",
                      "marker": {
                        "color": "#00cc96",
                        "pattern": {
                          "shape": ""
                        }
                      },
                      "name": "North Dakota",
                      "offsetgroup": "North Dakota",
                      "orientation": "v",
                      "showlegend": true,
                      "textposition": "auto",
                      "texttemplate": "%{y}",
                      "type": "bar",
                      "x": [
                        4
                      ],
                      "xaxis": "x",
                      "y": [
                        14375.2
                      ],
                      "yaxis": "y"
                    },
                    {
                      "alignmentgroup": "True",
                      "hovertemplate": "state=South Dakota<br>year=1999<br>new_index=%{x}<br>gdp=%{y}<extra></extra>",
                      "ids": [
                        18026.8
                      ],
                      "legendgroup": "South Dakota",
                      "marker": {
                        "color": "#ab63fa",
                        "pattern": {
                          "shape": ""
                        }
                      },
                      "name": "South Dakota",
                      "offsetgroup": "South Dakota",
                      "orientation": "v",
                      "showlegend": true,
                      "textposition": "auto",
                      "texttemplate": "%{y}",
                      "type": "bar",
                      "x": [
                        5
                      ],
                      "xaxis": "x",
                      "y": [
                        18026.8
                      ],
                      "yaxis": "y"
                    },
                    {
                      "alignmentgroup": "True",
                      "hovertemplate": "state=Montana<br>year=1999<br>new_index=%{x}<br>gdp=%{y}<extra></extra>",
                      "ids": [
                        17263.1
                      ],
                      "legendgroup": "Montana",
                      "marker": {
                        "color": "#FFA15A",
                        "pattern": {
                          "shape": ""
                        }
                      },
                      "name": "Montana",
                      "offsetgroup": "Montana",
                      "orientation": "v",
                      "showlegend": true,
                      "textposition": "auto",
                      "texttemplate": "%{y}",
                      "type": "bar",
                      "x": [
                        6
                      ],
                      "xaxis": "x",
                      "y": [
                        17263.1
                      ],
                      "yaxis": "y"
                    }
                  ],
                  "name": "1999"
                },
                {
                  "data": [
                    {
                      "alignmentgroup": "True",
                      "hovertemplate": "state=Wyoming<br>year=2000<br>new_index=%{x}<br>gdp=%{y}<extra></extra>",
                      "ids": [
                        14447.6
                      ],
                      "legendgroup": "Wyoming",
                      "marker": {
                        "color": "#636efa",
                        "pattern": {
                          "shape": ""
                        }
                      },
                      "name": "Wyoming",
                      "offsetgroup": "Wyoming",
                      "orientation": "v",
                      "showlegend": true,
                      "textposition": "auto",
                      "texttemplate": "%{y}",
                      "type": "bar",
                      "x": [
                        2
                      ],
                      "xaxis": "x",
                      "y": [
                        14447.6
                      ],
                      "yaxis": "y"
                    },
                    {
                      "alignmentgroup": "True",
                      "hovertemplate": "state=Vermont<br>year=2000<br>new_index=%{x}<br>gdp=%{y}<extra></extra>",
                      "ids": [
                        15924.3
                      ],
                      "legendgroup": "Vermont",
                      "marker": {
                        "color": "#EF553B",
                        "pattern": {
                          "shape": ""
                        }
                      },
                      "name": "Vermont",
                      "offsetgroup": "Vermont",
                      "orientation": "v",
                      "showlegend": true,
                      "textposition": "auto",
                      "texttemplate": "%{y}",
                      "type": "bar",
                      "x": [
                        3
                      ],
                      "xaxis": "x",
                      "y": [
                        15924.3
                      ],
                      "yaxis": "y"
                    },
                    {
                      "alignmentgroup": "True",
                      "hovertemplate": "state=North Dakota<br>year=2000<br>new_index=%{x}<br>gdp=%{y}<extra></extra>",
                      "ids": [
                        15171.4
                      ],
                      "legendgroup": "North Dakota",
                      "marker": {
                        "color": "#00cc96",
                        "pattern": {
                          "shape": ""
                        }
                      },
                      "name": "North Dakota",
                      "offsetgroup": "North Dakota",
                      "orientation": "v",
                      "showlegend": true,
                      "textposition": "auto",
                      "texttemplate": "%{y}",
                      "type": "bar",
                      "x": [
                        4
                      ],
                      "xaxis": "x",
                      "y": [
                        15171.4
                      ],
                      "yaxis": "y"
                    },
                    {
                      "alignmentgroup": "True",
                      "hovertemplate": "state=South Dakota<br>year=2000<br>new_index=%{x}<br>gdp=%{y}<extra></extra>",
                      "ids": [
                        19462.7
                      ],
                      "legendgroup": "South Dakota",
                      "marker": {
                        "color": "#ab63fa",
                        "pattern": {
                          "shape": ""
                        }
                      },
                      "name": "South Dakota",
                      "offsetgroup": "South Dakota",
                      "orientation": "v",
                      "showlegend": true,
                      "textposition": "auto",
                      "texttemplate": "%{y}",
                      "type": "bar",
                      "x": [
                        5
                      ],
                      "xaxis": "x",
                      "y": [
                        19462.7
                      ],
                      "yaxis": "y"
                    },
                    {
                      "alignmentgroup": "True",
                      "hovertemplate": "state=Montana<br>year=2000<br>new_index=%{x}<br>gdp=%{y}<extra></extra>",
                      "ids": [
                        18064.4
                      ],
                      "legendgroup": "Montana",
                      "marker": {
                        "color": "#FFA15A",
                        "pattern": {
                          "shape": ""
                        }
                      },
                      "name": "Montana",
                      "offsetgroup": "Montana",
                      "orientation": "v",
                      "showlegend": true,
                      "textposition": "auto",
                      "texttemplate": "%{y}",
                      "type": "bar",
                      "x": [
                        6
                      ],
                      "xaxis": "x",
                      "y": [
                        18064.4
                      ],
                      "yaxis": "y"
                    }
                  ],
                  "name": "2000"
                },
                {
                  "data": [
                    {
                      "alignmentgroup": "True",
                      "hovertemplate": "state=Wyoming<br>year=2001<br>new_index=%{x}<br>gdp=%{y}<extra></extra>",
                      "ids": [
                        15729.6
                      ],
                      "legendgroup": "Wyoming",
                      "marker": {
                        "color": "#636efa",
                        "pattern": {
                          "shape": ""
                        }
                      },
                      "name": "Wyoming",
                      "offsetgroup": "Wyoming",
                      "orientation": "v",
                      "showlegend": true,
                      "textposition": "auto",
                      "texttemplate": "%{y}",
                      "type": "bar",
                      "x": [
                        2
                      ],
                      "xaxis": "x",
                      "y": [
                        15729.6
                      ],
                      "yaxis": "y"
                    },
                    {
                      "alignmentgroup": "True",
                      "hovertemplate": "state=Vermont<br>year=2001<br>new_index=%{x}<br>gdp=%{y}<extra></extra>",
                      "ids": [
                        16685.1
                      ],
                      "legendgroup": "Vermont",
                      "marker": {
                        "color": "#EF553B",
                        "pattern": {
                          "shape": ""
                        }
                      },
                      "name": "Vermont",
                      "offsetgroup": "Vermont",
                      "orientation": "v",
                      "showlegend": true,
                      "textposition": "auto",
                      "texttemplate": "%{y}",
                      "type": "bar",
                      "x": [
                        3
                      ],
                      "xaxis": "x",
                      "y": [
                        16685.1
                      ],
                      "yaxis": "y"
                    },
                    {
                      "alignmentgroup": "True",
                      "hovertemplate": "state=North Dakota<br>year=2001<br>new_index=%{x}<br>gdp=%{y}<extra></extra>",
                      "ids": [
                        15928.2
                      ],
                      "legendgroup": "North Dakota",
                      "marker": {
                        "color": "#00cc96",
                        "pattern": {
                          "shape": ""
                        }
                      },
                      "name": "North Dakota",
                      "offsetgroup": "North Dakota",
                      "orientation": "v",
                      "showlegend": true,
                      "textposition": "auto",
                      "texttemplate": "%{y}",
                      "type": "bar",
                      "x": [
                        4
                      ],
                      "xaxis": "x",
                      "y": [
                        15928.2
                      ],
                      "yaxis": "y"
                    },
                    {
                      "alignmentgroup": "True",
                      "hovertemplate": "state=South Dakota<br>year=2001<br>new_index=%{x}<br>gdp=%{y}<extra></extra>",
                      "ids": [
                        20222.9
                      ],
                      "legendgroup": "South Dakota",
                      "marker": {
                        "color": "#ab63fa",
                        "pattern": {
                          "shape": ""
                        }
                      },
                      "name": "South Dakota",
                      "offsetgroup": "South Dakota",
                      "orientation": "v",
                      "showlegend": true,
                      "textposition": "auto",
                      "texttemplate": "%{y}",
                      "type": "bar",
                      "x": [
                        5
                      ],
                      "xaxis": "x",
                      "y": [
                        20222.9
                      ],
                      "yaxis": "y"
                    },
                    {
                      "alignmentgroup": "True",
                      "hovertemplate": "state=Montana<br>year=2001<br>new_index=%{x}<br>gdp=%{y}<extra></extra>",
                      "ids": [
                        18855
                      ],
                      "legendgroup": "Montana",
                      "marker": {
                        "color": "#FFA15A",
                        "pattern": {
                          "shape": ""
                        }
                      },
                      "name": "Montana",
                      "offsetgroup": "Montana",
                      "orientation": "v",
                      "showlegend": true,
                      "textposition": "auto",
                      "texttemplate": "%{y}",
                      "type": "bar",
                      "x": [
                        6
                      ],
                      "xaxis": "x",
                      "y": [
                        18855
                      ],
                      "yaxis": "y"
                    }
                  ],
                  "name": "2001"
                },
                {
                  "data": [
                    {
                      "alignmentgroup": "True",
                      "hovertemplate": "state=Wyoming<br>year=2002<br>new_index=%{x}<br>gdp=%{y}<extra></extra>",
                      "ids": [
                        15958.2
                      ],
                      "legendgroup": "Wyoming",
                      "marker": {
                        "color": "#636efa",
                        "pattern": {
                          "shape": ""
                        }
                      },
                      "name": "Wyoming",
                      "offsetgroup": "Wyoming",
                      "orientation": "v",
                      "showlegend": true,
                      "textposition": "auto",
                      "texttemplate": "%{y}",
                      "type": "bar",
                      "x": [
                        2
                      ],
                      "xaxis": "x",
                      "y": [
                        15958.2
                      ],
                      "yaxis": "y"
                    },
                    {
                      "alignmentgroup": "True",
                      "hovertemplate": "state=Vermont<br>year=2002<br>new_index=%{x}<br>gdp=%{y}<extra></extra>",
                      "ids": [
                        17411.9
                      ],
                      "legendgroup": "Vermont",
                      "marker": {
                        "color": "#EF553B",
                        "pattern": {
                          "shape": ""
                        }
                      },
                      "name": "Vermont",
                      "offsetgroup": "Vermont",
                      "orientation": "v",
                      "showlegend": true,
                      "textposition": "auto",
                      "texttemplate": "%{y}",
                      "type": "bar",
                      "x": [
                        3
                      ],
                      "xaxis": "x",
                      "y": [
                        17411.9
                      ],
                      "yaxis": "y"
                    },
                    {
                      "alignmentgroup": "True",
                      "hovertemplate": "state=North Dakota<br>year=2002<br>new_index=%{x}<br>gdp=%{y}<extra></extra>",
                      "ids": [
                        16931.8
                      ],
                      "legendgroup": "North Dakota",
                      "marker": {
                        "color": "#00cc96",
                        "pattern": {
                          "shape": ""
                        }
                      },
                      "name": "North Dakota",
                      "offsetgroup": "North Dakota",
                      "orientation": "v",
                      "showlegend": true,
                      "textposition": "auto",
                      "texttemplate": "%{y}",
                      "type": "bar",
                      "x": [
                        4
                      ],
                      "xaxis": "x",
                      "y": [
                        16931.8
                      ],
                      "yaxis": "y"
                    },
                    {
                      "alignmentgroup": "True",
                      "hovertemplate": "state=South Dakota<br>year=2002<br>new_index=%{x}<br>gdp=%{y}<extra></extra>",
                      "ids": [
                        22804.6
                      ],
                      "legendgroup": "South Dakota",
                      "marker": {
                        "color": "#ab63fa",
                        "pattern": {
                          "shape": ""
                        }
                      },
                      "name": "South Dakota",
                      "offsetgroup": "South Dakota",
                      "orientation": "v",
                      "showlegend": true,
                      "textposition": "auto",
                      "texttemplate": "%{y}",
                      "type": "bar",
                      "x": [
                        5
                      ],
                      "xaxis": "x",
                      "y": [
                        22804.6
                      ],
                      "yaxis": "y"
                    },
                    {
                      "alignmentgroup": "True",
                      "hovertemplate": "state=Montana<br>year=2002<br>new_index=%{x}<br>gdp=%{y}<extra></extra>",
                      "ids": [
                        19701.8
                      ],
                      "legendgroup": "Montana",
                      "marker": {
                        "color": "#FFA15A",
                        "pattern": {
                          "shape": ""
                        }
                      },
                      "name": "Montana",
                      "offsetgroup": "Montana",
                      "orientation": "v",
                      "showlegend": true,
                      "textposition": "auto",
                      "texttemplate": "%{y}",
                      "type": "bar",
                      "x": [
                        6
                      ],
                      "xaxis": "x",
                      "y": [
                        19701.8
                      ],
                      "yaxis": "y"
                    }
                  ],
                  "name": "2002"
                }
              ],
              "layout": {
                "bargap": 0.5,
                "bargroupgap": 0.5,
                "barmode": "relative",
                "legend": {
                  "title": {
                    "text": "state"
                  },
                  "tracegroupgap": 0
                },
                "margin": {
                  "t": 60
                },
                "sliders": [
                  {
                    "active": 0,
                    "currentvalue": {
                      "prefix": "year="
                    },
                    "len": 0.9,
                    "pad": {
                      "b": 10,
                      "t": 60
                    },
                    "steps": [
                      {
                        "args": [
                          [
                            "1997"
                          ],
                          {
                            "frame": {
                              "duration": 0,
                              "redraw": true
                            },
                            "fromcurrent": true,
                            "mode": "immediate",
                            "transition": {
                              "duration": 0,
                              "easing": "linear"
                            }
                          }
                        ],
                        "label": "1997",
                        "method": "animate"
                      },
                      {
                        "args": [
                          [
                            "1998"
                          ],
                          {
                            "frame": {
                              "duration": 0,
                              "redraw": true
                            },
                            "fromcurrent": true,
                            "mode": "immediate",
                            "transition": {
                              "duration": 0,
                              "easing": "linear"
                            }
                          }
                        ],
                        "label": "1998",
                        "method": "animate"
                      },
                      {
                        "args": [
                          [
                            "1999"
                          ],
                          {
                            "frame": {
                              "duration": 0,
                              "redraw": true
                            },
                            "fromcurrent": true,
                            "mode": "immediate",
                            "transition": {
                              "duration": 0,
                              "easing": "linear"
                            }
                          }
                        ],
                        "label": "1999",
                        "method": "animate"
                      },
                      {
                        "args": [
                          [
                            "2000"
                          ],
                          {
                            "frame": {
                              "duration": 0,
                              "redraw": true
                            },
                            "fromcurrent": true,
                            "mode": "immediate",
                            "transition": {
                              "duration": 0,
                              "easing": "linear"
                            }
                          }
                        ],
                        "label": "2000",
                        "method": "animate"
                      },
                      {
                        "args": [
                          [
                            "2001"
                          ],
                          {
                            "frame": {
                              "duration": 0,
                              "redraw": true
                            },
                            "fromcurrent": true,
                            "mode": "immediate",
                            "transition": {
                              "duration": 0,
                              "easing": "linear"
                            }
                          }
                        ],
                        "label": "2001",
                        "method": "animate"
                      },
                      {
                        "args": [
                          [
                            "2002"
                          ],
                          {
                            "frame": {
                              "duration": 0,
                              "redraw": true
                            },
                            "fromcurrent": true,
                            "mode": "immediate",
                            "transition": {
                              "duration": 0,
                              "easing": "linear"
                            }
                          }
                        ],
                        "label": "2002",
                        "method": "animate"
                      }
                    ],
                    "x": 0.1,
                    "xanchor": "left",
                    "y": 0,
                    "yanchor": "top"
                  }
                ],
                "template": {
                  "data": {
                    "bar": [
                      {
                        "error_x": {
                          "color": "#2a3f5f"
                        },
                        "error_y": {
                          "color": "#2a3f5f"
                        },
                        "marker": {
                          "line": {
                            "color": "#E5ECF6",
                            "width": 0.5
                          },
                          "pattern": {
                            "fillmode": "overlay",
                            "size": 10,
                            "solidity": 0.2
                          }
                        },
                        "type": "bar"
                      }
                    ],
                    "barpolar": [
                      {
                        "marker": {
                          "line": {
                            "color": "#E5ECF6",
                            "width": 0.5
                          },
                          "pattern": {
                            "fillmode": "overlay",
                            "size": 10,
                            "solidity": 0.2
                          }
                        },
                        "type": "barpolar"
                      }
                    ],
                    "carpet": [
                      {
                        "aaxis": {
                          "endlinecolor": "#2a3f5f",
                          "gridcolor": "white",
                          "linecolor": "white",
                          "minorgridcolor": "white",
                          "startlinecolor": "#2a3f5f"
                        },
                        "baxis": {
                          "endlinecolor": "#2a3f5f",
                          "gridcolor": "white",
                          "linecolor": "white",
                          "minorgridcolor": "white",
                          "startlinecolor": "#2a3f5f"
                        },
                        "type": "carpet"
                      }
                    ],
                    "choropleth": [
                      {
                        "colorbar": {
                          "outlinewidth": 0,
                          "ticks": ""
                        },
                        "type": "choropleth"
                      }
                    ],
                    "contour": [
                      {
                        "colorbar": {
                          "outlinewidth": 0,
                          "ticks": ""
                        },
                        "colorscale": [
                          [
                            0,
                            "#0d0887"
                          ],
                          [
                            0.1111111111111111,
                            "#46039f"
                          ],
                          [
                            0.2222222222222222,
                            "#7201a8"
                          ],
                          [
                            0.3333333333333333,
                            "#9c179e"
                          ],
                          [
                            0.4444444444444444,
                            "#bd3786"
                          ],
                          [
                            0.5555555555555556,
                            "#d8576b"
                          ],
                          [
                            0.6666666666666666,
                            "#ed7953"
                          ],
                          [
                            0.7777777777777778,
                            "#fb9f3a"
                          ],
                          [
                            0.8888888888888888,
                            "#fdca26"
                          ],
                          [
                            1,
                            "#f0f921"
                          ]
                        ],
                        "type": "contour"
                      }
                    ],
                    "contourcarpet": [
                      {
                        "colorbar": {
                          "outlinewidth": 0,
                          "ticks": ""
                        },
                        "type": "contourcarpet"
                      }
                    ],
                    "heatmap": [
                      {
                        "colorbar": {
                          "outlinewidth": 0,
                          "ticks": ""
                        },
                        "colorscale": [
                          [
                            0,
                            "#0d0887"
                          ],
                          [
                            0.1111111111111111,
                            "#46039f"
                          ],
                          [
                            0.2222222222222222,
                            "#7201a8"
                          ],
                          [
                            0.3333333333333333,
                            "#9c179e"
                          ],
                          [
                            0.4444444444444444,
                            "#bd3786"
                          ],
                          [
                            0.5555555555555556,
                            "#d8576b"
                          ],
                          [
                            0.6666666666666666,
                            "#ed7953"
                          ],
                          [
                            0.7777777777777778,
                            "#fb9f3a"
                          ],
                          [
                            0.8888888888888888,
                            "#fdca26"
                          ],
                          [
                            1,
                            "#f0f921"
                          ]
                        ],
                        "type": "heatmap"
                      }
                    ],
                    "heatmapgl": [
                      {
                        "colorbar": {
                          "outlinewidth": 0,
                          "ticks": ""
                        },
                        "colorscale": [
                          [
                            0,
                            "#0d0887"
                          ],
                          [
                            0.1111111111111111,
                            "#46039f"
                          ],
                          [
                            0.2222222222222222,
                            "#7201a8"
                          ],
                          [
                            0.3333333333333333,
                            "#9c179e"
                          ],
                          [
                            0.4444444444444444,
                            "#bd3786"
                          ],
                          [
                            0.5555555555555556,
                            "#d8576b"
                          ],
                          [
                            0.6666666666666666,
                            "#ed7953"
                          ],
                          [
                            0.7777777777777778,
                            "#fb9f3a"
                          ],
                          [
                            0.8888888888888888,
                            "#fdca26"
                          ],
                          [
                            1,
                            "#f0f921"
                          ]
                        ],
                        "type": "heatmapgl"
                      }
                    ],
                    "histogram": [
                      {
                        "marker": {
                          "pattern": {
                            "fillmode": "overlay",
                            "size": 10,
                            "solidity": 0.2
                          }
                        },
                        "type": "histogram"
                      }
                    ],
                    "histogram2d": [
                      {
                        "colorbar": {
                          "outlinewidth": 0,
                          "ticks": ""
                        },
                        "colorscale": [
                          [
                            0,
                            "#0d0887"
                          ],
                          [
                            0.1111111111111111,
                            "#46039f"
                          ],
                          [
                            0.2222222222222222,
                            "#7201a8"
                          ],
                          [
                            0.3333333333333333,
                            "#9c179e"
                          ],
                          [
                            0.4444444444444444,
                            "#bd3786"
                          ],
                          [
                            0.5555555555555556,
                            "#d8576b"
                          ],
                          [
                            0.6666666666666666,
                            "#ed7953"
                          ],
                          [
                            0.7777777777777778,
                            "#fb9f3a"
                          ],
                          [
                            0.8888888888888888,
                            "#fdca26"
                          ],
                          [
                            1,
                            "#f0f921"
                          ]
                        ],
                        "type": "histogram2d"
                      }
                    ],
                    "histogram2dcontour": [
                      {
                        "colorbar": {
                          "outlinewidth": 0,
                          "ticks": ""
                        },
                        "colorscale": [
                          [
                            0,
                            "#0d0887"
                          ],
                          [
                            0.1111111111111111,
                            "#46039f"
                          ],
                          [
                            0.2222222222222222,
                            "#7201a8"
                          ],
                          [
                            0.3333333333333333,
                            "#9c179e"
                          ],
                          [
                            0.4444444444444444,
                            "#bd3786"
                          ],
                          [
                            0.5555555555555556,
                            "#d8576b"
                          ],
                          [
                            0.6666666666666666,
                            "#ed7953"
                          ],
                          [
                            0.7777777777777778,
                            "#fb9f3a"
                          ],
                          [
                            0.8888888888888888,
                            "#fdca26"
                          ],
                          [
                            1,
                            "#f0f921"
                          ]
                        ],
                        "type": "histogram2dcontour"
                      }
                    ],
                    "mesh3d": [
                      {
                        "colorbar": {
                          "outlinewidth": 0,
                          "ticks": ""
                        },
                        "type": "mesh3d"
                      }
                    ],
                    "parcoords": [
                      {
                        "line": {
                          "colorbar": {
                            "outlinewidth": 0,
                            "ticks": ""
                          }
                        },
                        "type": "parcoords"
                      }
                    ],
                    "pie": [
                      {
                        "automargin": true,
                        "type": "pie"
                      }
                    ],
                    "scatter": [
                      {
                        "fillpattern": {
                          "fillmode": "overlay",
                          "size": 10,
                          "solidity": 0.2
                        },
                        "type": "scatter"
                      }
                    ],
                    "scatter3d": [
                      {
                        "line": {
                          "colorbar": {
                            "outlinewidth": 0,
                            "ticks": ""
                          }
                        },
                        "marker": {
                          "colorbar": {
                            "outlinewidth": 0,
                            "ticks": ""
                          }
                        },
                        "type": "scatter3d"
                      }
                    ],
                    "scattercarpet": [
                      {
                        "marker": {
                          "colorbar": {
                            "outlinewidth": 0,
                            "ticks": ""
                          }
                        },
                        "type": "scattercarpet"
                      }
                    ],
                    "scattergeo": [
                      {
                        "marker": {
                          "colorbar": {
                            "outlinewidth": 0,
                            "ticks": ""
                          }
                        },
                        "type": "scattergeo"
                      }
                    ],
                    "scattergl": [
                      {
                        "marker": {
                          "colorbar": {
                            "outlinewidth": 0,
                            "ticks": ""
                          }
                        },
                        "type": "scattergl"
                      }
                    ],
                    "scattermapbox": [
                      {
                        "marker": {
                          "colorbar": {
                            "outlinewidth": 0,
                            "ticks": ""
                          }
                        },
                        "type": "scattermapbox"
                      }
                    ],
                    "scatterpolar": [
                      {
                        "marker": {
                          "colorbar": {
                            "outlinewidth": 0,
                            "ticks": ""
                          }
                        },
                        "type": "scatterpolar"
                      }
                    ],
                    "scatterpolargl": [
                      {
                        "marker": {
                          "colorbar": {
                            "outlinewidth": 0,
                            "ticks": ""
                          }
                        },
                        "type": "scatterpolargl"
                      }
                    ],
                    "scatterternary": [
                      {
                        "marker": {
                          "colorbar": {
                            "outlinewidth": 0,
                            "ticks": ""
                          }
                        },
                        "type": "scatterternary"
                      }
                    ],
                    "surface": [
                      {
                        "colorbar": {
                          "outlinewidth": 0,
                          "ticks": ""
                        },
                        "colorscale": [
                          [
                            0,
                            "#0d0887"
                          ],
                          [
                            0.1111111111111111,
                            "#46039f"
                          ],
                          [
                            0.2222222222222222,
                            "#7201a8"
                          ],
                          [
                            0.3333333333333333,
                            "#9c179e"
                          ],
                          [
                            0.4444444444444444,
                            "#bd3786"
                          ],
                          [
                            0.5555555555555556,
                            "#d8576b"
                          ],
                          [
                            0.6666666666666666,
                            "#ed7953"
                          ],
                          [
                            0.7777777777777778,
                            "#fb9f3a"
                          ],
                          [
                            0.8888888888888888,
                            "#fdca26"
                          ],
                          [
                            1,
                            "#f0f921"
                          ]
                        ],
                        "type": "surface"
                      }
                    ],
                    "table": [
                      {
                        "cells": {
                          "fill": {
                            "color": "#EBF0F8"
                          },
                          "line": {
                            "color": "white"
                          }
                        },
                        "header": {
                          "fill": {
                            "color": "#C8D4E3"
                          },
                          "line": {
                            "color": "white"
                          }
                        },
                        "type": "table"
                      }
                    ]
                  },
                  "layout": {
                    "annotationdefaults": {
                      "arrowcolor": "#2a3f5f",
                      "arrowhead": 0,
                      "arrowwidth": 1
                    },
                    "autotypenumbers": "strict",
                    "coloraxis": {
                      "colorbar": {
                        "outlinewidth": 0,
                        "ticks": ""
                      }
                    },
                    "colorscale": {
                      "diverging": [
                        [
                          0,
                          "#8e0152"
                        ],
                        [
                          0.1,
                          "#c51b7d"
                        ],
                        [
                          0.2,
                          "#de77ae"
                        ],
                        [
                          0.3,
                          "#f1b6da"
                        ],
                        [
                          0.4,
                          "#fde0ef"
                        ],
                        [
                          0.5,
                          "#f7f7f7"
                        ],
                        [
                          0.6,
                          "#e6f5d0"
                        ],
                        [
                          0.7,
                          "#b8e186"
                        ],
                        [
                          0.8,
                          "#7fbc41"
                        ],
                        [
                          0.9,
                          "#4d9221"
                        ],
                        [
                          1,
                          "#276419"
                        ]
                      ],
                      "sequential": [
                        [
                          0,
                          "#0d0887"
                        ],
                        [
                          0.1111111111111111,
                          "#46039f"
                        ],
                        [
                          0.2222222222222222,
                          "#7201a8"
                        ],
                        [
                          0.3333333333333333,
                          "#9c179e"
                        ],
                        [
                          0.4444444444444444,
                          "#bd3786"
                        ],
                        [
                          0.5555555555555556,
                          "#d8576b"
                        ],
                        [
                          0.6666666666666666,
                          "#ed7953"
                        ],
                        [
                          0.7777777777777778,
                          "#fb9f3a"
                        ],
                        [
                          0.8888888888888888,
                          "#fdca26"
                        ],
                        [
                          1,
                          "#f0f921"
                        ]
                      ],
                      "sequentialminus": [
                        [
                          0,
                          "#0d0887"
                        ],
                        [
                          0.1111111111111111,
                          "#46039f"
                        ],
                        [
                          0.2222222222222222,
                          "#7201a8"
                        ],
                        [
                          0.3333333333333333,
                          "#9c179e"
                        ],
                        [
                          0.4444444444444444,
                          "#bd3786"
                        ],
                        [
                          0.5555555555555556,
                          "#d8576b"
                        ],
                        [
                          0.6666666666666666,
                          "#ed7953"
                        ],
                        [
                          0.7777777777777778,
                          "#fb9f3a"
                        ],
                        [
                          0.8888888888888888,
                          "#fdca26"
                        ],
                        [
                          1,
                          "#f0f921"
                        ]
                      ]
                    },
                    "colorway": [
                      "#636efa",
                      "#EF553B",
                      "#00cc96",
                      "#ab63fa",
                      "#FFA15A",
                      "#19d3f3",
                      "#FF6692",
                      "#B6E880",
                      "#FF97FF",
                      "#FECB52"
                    ],
                    "font": {
                      "color": "#2a3f5f"
                    },
                    "geo": {
                      "bgcolor": "white",
                      "lakecolor": "white",
                      "landcolor": "#E5ECF6",
                      "showlakes": true,
                      "showland": true,
                      "subunitcolor": "white"
                    },
                    "hoverlabel": {
                      "align": "left"
                    },
                    "hovermode": "closest",
                    "mapbox": {
                      "style": "light"
                    },
                    "paper_bgcolor": "white",
                    "plot_bgcolor": "#E5ECF6",
                    "polar": {
                      "angularaxis": {
                        "gridcolor": "white",
                        "linecolor": "white",
                        "ticks": ""
                      },
                      "bgcolor": "#E5ECF6",
                      "radialaxis": {
                        "gridcolor": "white",
                        "linecolor": "white",
                        "ticks": ""
                      }
                    },
                    "scene": {
                      "xaxis": {
                        "backgroundcolor": "#E5ECF6",
                        "gridcolor": "white",
                        "gridwidth": 2,
                        "linecolor": "white",
                        "showbackground": true,
                        "ticks": "",
                        "zerolinecolor": "white"
                      },
                      "yaxis": {
                        "backgroundcolor": "#E5ECF6",
                        "gridcolor": "white",
                        "gridwidth": 2,
                        "linecolor": "white",
                        "showbackground": true,
                        "ticks": "",
                        "zerolinecolor": "white"
                      },
                      "zaxis": {
                        "backgroundcolor": "#E5ECF6",
                        "gridcolor": "white",
                        "gridwidth": 2,
                        "linecolor": "white",
                        "showbackground": true,
                        "ticks": "",
                        "zerolinecolor": "white"
                      }
                    },
                    "shapedefaults": {
                      "line": {
                        "color": "#2a3f5f"
                      }
                    },
                    "ternary": {
                      "aaxis": {
                        "gridcolor": "white",
                        "linecolor": "white",
                        "ticks": ""
                      },
                      "baxis": {
                        "gridcolor": "white",
                        "linecolor": "white",
                        "ticks": ""
                      },
                      "bgcolor": "#E5ECF6",
                      "caxis": {
                        "gridcolor": "white",
                        "linecolor": "white",
                        "ticks": ""
                      }
                    },
                    "title": {
                      "x": 0.05
                    },
                    "xaxis": {
                      "automargin": true,
                      "gridcolor": "white",
                      "linecolor": "white",
                      "ticks": "",
                      "title": {
                        "standoff": 15
                      },
                      "zerolinecolor": "white",
                      "zerolinewidth": 2
                    },
                    "yaxis": {
                      "automargin": true,
                      "gridcolor": "white",
                      "linecolor": "white",
                      "ticks": "",
                      "title": {
                        "standoff": 15
                      },
                      "zerolinecolor": "white",
                      "zerolinewidth": 2
                    }
                  }
                },
                "title": {
                  "text": "Private Industries' Contributions to Each State Throughout the Years 1997-2002",
                  "x": 0.5,
                  "xanchor": "center",
                  "yanchor": "top"
                },
                "xaxis": {
                  "anchor": "y",
                  "domain": [
                    0,
                    1
                  ],
                  "range": [
                    0.9,
                    7
                  ],
                  "title": {
                    "text": "States with Lowest GDP"
                  },
                  "visible": false
                },
                "yaxis": {
                  "anchor": "x",
                  "domain": [
                    0,
                    1
                  ],
                  "range": [
                    0,
                    25000
                  ],
                  "title": {
                    "text": "GDP"
                  }
                }
              }
            }
          },
          "metadata": {},
          "output_type": "display_data"
        }
      ],
      "source": [
        "fig = px.bar(q3_lowest_state_gdp_df,x=\"new_index\", y=\"gdp\", animation_frame=\"year\", animation_group=\"gdp\",\n",
        "            color=\"state\", range_x=[0.9, 7], range_y=[0, 25000], text_auto=True)\n",
        "\n",
        "fig[\"layout\"].pop(\"updatemenus\") # optional, drop animation b\n",
        "fig.update_xaxes(visible = False)\n",
        "fig.update_yaxes(title_text='GDP')\n",
        "fig.update_layout(\n",
        "    title={\n",
        "        'text': \"Private Industries' Contributions to Each State Throughout the Years 1997-2002\",\n",
        "        'x':0.5,  \n",
        "        'xanchor': 'center',  \n",
        "        'yanchor': 'top'  \n",
        "    }\n",
        ")\n",
        "fig.update_layout(bargap=0.5, bargroupgap=0.5)\n",
        "fig.update_traces(width=1)\n",
        "\n",
        "fig.show()"
      ]
    },
    {
      "cell_type": "code",
      "execution_count": 440,
      "metadata": {},
      "outputs": [
        {
          "data": {
            "application/vnd.plotly.v1+json": {
              "config": {
                "plotlyServerURL": "https://plot.ly"
              },
              "data": [
                {
                  "hovertemplate": "chamber=House<br>year=1997<br>index=%{x}<br>party.mean.diff.d1=%{y}<extra></extra>",
                  "ids": [
                    0.777287368
                  ],
                  "legendgroup": "House",
                  "line": {
                    "color": "#636efa",
                    "dash": "solid"
                  },
                  "marker": {
                    "symbol": "circle"
                  },
                  "mode": "lines",
                  "name": "House",
                  "orientation": "v",
                  "showlegend": true,
                  "type": "scatter",
                  "x": [
                    118
                  ],
                  "xaxis": "x",
                  "y": [
                    0.777287368
                  ],
                  "yaxis": "y"
                },
                {
                  "hovertemplate": "chamber=Senate<br>year=1997<br>index=%{x}<br>party.mean.diff.d1=%{y}<extra></extra>",
                  "ids": [
                    0.683943434
                  ],
                  "legendgroup": "Senate",
                  "line": {
                    "color": "#EF553B",
                    "dash": "solid"
                  },
                  "marker": {
                    "symbol": "circle"
                  },
                  "mode": "lines",
                  "name": "Senate",
                  "orientation": "v",
                  "showlegend": true,
                  "type": "scatter",
                  "x": [
                    119
                  ],
                  "xaxis": "x",
                  "y": [
                    0.683943434
                  ],
                  "yaxis": "y"
                }
              ],
              "frames": [
                {
                  "data": [
                    {
                      "hovertemplate": "chamber=House<br>year=1997<br>index=%{x}<br>party.mean.diff.d1=%{y}<extra></extra>",
                      "ids": [
                        0.777287368
                      ],
                      "legendgroup": "House",
                      "line": {
                        "color": "#636efa",
                        "dash": "solid"
                      },
                      "marker": {
                        "symbol": "circle"
                      },
                      "mode": "lines",
                      "name": "House",
                      "orientation": "v",
                      "showlegend": true,
                      "type": "scatter",
                      "x": [
                        118
                      ],
                      "xaxis": "x",
                      "y": [
                        0.777287368
                      ],
                      "yaxis": "y"
                    },
                    {
                      "hovertemplate": "chamber=Senate<br>year=1997<br>index=%{x}<br>party.mean.diff.d1=%{y}<extra></extra>",
                      "ids": [
                        0.683943434
                      ],
                      "legendgroup": "Senate",
                      "line": {
                        "color": "#EF553B",
                        "dash": "solid"
                      },
                      "marker": {
                        "symbol": "circle"
                      },
                      "mode": "lines",
                      "name": "Senate",
                      "orientation": "v",
                      "showlegend": true,
                      "type": "scatter",
                      "x": [
                        119
                      ],
                      "xaxis": "x",
                      "y": [
                        0.683943434
                      ],
                      "yaxis": "y"
                    }
                  ],
                  "name": "1997"
                },
                {
                  "data": [
                    {
                      "hovertemplate": "chamber=House<br>year=1999<br>index=%{x}<br>party.mean.diff.d1=%{y}<extra></extra>",
                      "ids": [
                        0.777077934
                      ],
                      "legendgroup": "House",
                      "line": {
                        "color": "#636efa",
                        "dash": "solid"
                      },
                      "marker": {
                        "symbol": "circle"
                      },
                      "mode": "lines",
                      "name": "House",
                      "orientation": "v",
                      "showlegend": true,
                      "type": "scatter",
                      "x": [
                        120
                      ],
                      "xaxis": "x",
                      "y": [
                        0.777077934
                      ],
                      "yaxis": "y"
                    },
                    {
                      "hovertemplate": "chamber=Senate<br>year=1999<br>index=%{x}<br>party.mean.diff.d1=%{y}<extra></extra>",
                      "ids": [
                        0.65838354
                      ],
                      "legendgroup": "Senate",
                      "line": {
                        "color": "#EF553B",
                        "dash": "solid"
                      },
                      "marker": {
                        "symbol": "circle"
                      },
                      "mode": "lines",
                      "name": "Senate",
                      "orientation": "v",
                      "showlegend": true,
                      "type": "scatter",
                      "x": [
                        121
                      ],
                      "xaxis": "x",
                      "y": [
                        0.65838354
                      ],
                      "yaxis": "y"
                    }
                  ],
                  "name": "1999"
                },
                {
                  "data": [
                    {
                      "hovertemplate": "chamber=House<br>year=2001<br>index=%{x}<br>party.mean.diff.d1=%{y}<extra></extra>",
                      "ids": [
                        0.786642605
                      ],
                      "legendgroup": "House",
                      "line": {
                        "color": "#636efa",
                        "dash": "solid"
                      },
                      "marker": {
                        "symbol": "circle"
                      },
                      "mode": "lines",
                      "name": "House",
                      "orientation": "v",
                      "showlegend": true,
                      "type": "scatter",
                      "x": [
                        122
                      ],
                      "xaxis": "x",
                      "y": [
                        0.786642605
                      ],
                      "yaxis": "y"
                    },
                    {
                      "hovertemplate": "chamber=Senate<br>year=2001<br>index=%{x}<br>party.mean.diff.d1=%{y}<extra></extra>",
                      "ids": [
                        0.66318
                      ],
                      "legendgroup": "Senate",
                      "line": {
                        "color": "#EF553B",
                        "dash": "solid"
                      },
                      "marker": {
                        "symbol": "circle"
                      },
                      "mode": "lines",
                      "name": "Senate",
                      "orientation": "v",
                      "showlegend": true,
                      "type": "scatter",
                      "x": [
                        123
                      ],
                      "xaxis": "x",
                      "y": [
                        0.66318
                      ],
                      "yaxis": "y"
                    }
                  ],
                  "name": "2001"
                }
              ],
              "layout": {
                "legend": {
                  "title": {
                    "text": "chamber"
                  },
                  "tracegroupgap": 0
                },
                "margin": {
                  "t": 60
                },
                "sliders": [
                  {
                    "active": 0,
                    "currentvalue": {
                      "prefix": "year="
                    },
                    "len": 0.9,
                    "pad": {
                      "b": 10,
                      "t": 60
                    },
                    "steps": [
                      {
                        "args": [
                          [
                            "1997"
                          ],
                          {
                            "frame": {
                              "duration": 0,
                              "redraw": false
                            },
                            "fromcurrent": true,
                            "mode": "immediate",
                            "transition": {
                              "duration": 0,
                              "easing": "linear"
                            }
                          }
                        ],
                        "label": "1997",
                        "method": "animate"
                      },
                      {
                        "args": [
                          [
                            "1999"
                          ],
                          {
                            "frame": {
                              "duration": 0,
                              "redraw": false
                            },
                            "fromcurrent": true,
                            "mode": "immediate",
                            "transition": {
                              "duration": 0,
                              "easing": "linear"
                            }
                          }
                        ],
                        "label": "1999",
                        "method": "animate"
                      },
                      {
                        "args": [
                          [
                            "2001"
                          ],
                          {
                            "frame": {
                              "duration": 0,
                              "redraw": false
                            },
                            "fromcurrent": true,
                            "mode": "immediate",
                            "transition": {
                              "duration": 0,
                              "easing": "linear"
                            }
                          }
                        ],
                        "label": "2001",
                        "method": "animate"
                      }
                    ],
                    "x": 0.1,
                    "xanchor": "left",
                    "y": 0,
                    "yanchor": "top"
                  }
                ],
                "template": {
                  "data": {
                    "bar": [
                      {
                        "error_x": {
                          "color": "#2a3f5f"
                        },
                        "error_y": {
                          "color": "#2a3f5f"
                        },
                        "marker": {
                          "line": {
                            "color": "#E5ECF6",
                            "width": 0.5
                          },
                          "pattern": {
                            "fillmode": "overlay",
                            "size": 10,
                            "solidity": 0.2
                          }
                        },
                        "type": "bar"
                      }
                    ],
                    "barpolar": [
                      {
                        "marker": {
                          "line": {
                            "color": "#E5ECF6",
                            "width": 0.5
                          },
                          "pattern": {
                            "fillmode": "overlay",
                            "size": 10,
                            "solidity": 0.2
                          }
                        },
                        "type": "barpolar"
                      }
                    ],
                    "carpet": [
                      {
                        "aaxis": {
                          "endlinecolor": "#2a3f5f",
                          "gridcolor": "white",
                          "linecolor": "white",
                          "minorgridcolor": "white",
                          "startlinecolor": "#2a3f5f"
                        },
                        "baxis": {
                          "endlinecolor": "#2a3f5f",
                          "gridcolor": "white",
                          "linecolor": "white",
                          "minorgridcolor": "white",
                          "startlinecolor": "#2a3f5f"
                        },
                        "type": "carpet"
                      }
                    ],
                    "choropleth": [
                      {
                        "colorbar": {
                          "outlinewidth": 0,
                          "ticks": ""
                        },
                        "type": "choropleth"
                      }
                    ],
                    "contour": [
                      {
                        "colorbar": {
                          "outlinewidth": 0,
                          "ticks": ""
                        },
                        "colorscale": [
                          [
                            0,
                            "#0d0887"
                          ],
                          [
                            0.1111111111111111,
                            "#46039f"
                          ],
                          [
                            0.2222222222222222,
                            "#7201a8"
                          ],
                          [
                            0.3333333333333333,
                            "#9c179e"
                          ],
                          [
                            0.4444444444444444,
                            "#bd3786"
                          ],
                          [
                            0.5555555555555556,
                            "#d8576b"
                          ],
                          [
                            0.6666666666666666,
                            "#ed7953"
                          ],
                          [
                            0.7777777777777778,
                            "#fb9f3a"
                          ],
                          [
                            0.8888888888888888,
                            "#fdca26"
                          ],
                          [
                            1,
                            "#f0f921"
                          ]
                        ],
                        "type": "contour"
                      }
                    ],
                    "contourcarpet": [
                      {
                        "colorbar": {
                          "outlinewidth": 0,
                          "ticks": ""
                        },
                        "type": "contourcarpet"
                      }
                    ],
                    "heatmap": [
                      {
                        "colorbar": {
                          "outlinewidth": 0,
                          "ticks": ""
                        },
                        "colorscale": [
                          [
                            0,
                            "#0d0887"
                          ],
                          [
                            0.1111111111111111,
                            "#46039f"
                          ],
                          [
                            0.2222222222222222,
                            "#7201a8"
                          ],
                          [
                            0.3333333333333333,
                            "#9c179e"
                          ],
                          [
                            0.4444444444444444,
                            "#bd3786"
                          ],
                          [
                            0.5555555555555556,
                            "#d8576b"
                          ],
                          [
                            0.6666666666666666,
                            "#ed7953"
                          ],
                          [
                            0.7777777777777778,
                            "#fb9f3a"
                          ],
                          [
                            0.8888888888888888,
                            "#fdca26"
                          ],
                          [
                            1,
                            "#f0f921"
                          ]
                        ],
                        "type": "heatmap"
                      }
                    ],
                    "heatmapgl": [
                      {
                        "colorbar": {
                          "outlinewidth": 0,
                          "ticks": ""
                        },
                        "colorscale": [
                          [
                            0,
                            "#0d0887"
                          ],
                          [
                            0.1111111111111111,
                            "#46039f"
                          ],
                          [
                            0.2222222222222222,
                            "#7201a8"
                          ],
                          [
                            0.3333333333333333,
                            "#9c179e"
                          ],
                          [
                            0.4444444444444444,
                            "#bd3786"
                          ],
                          [
                            0.5555555555555556,
                            "#d8576b"
                          ],
                          [
                            0.6666666666666666,
                            "#ed7953"
                          ],
                          [
                            0.7777777777777778,
                            "#fb9f3a"
                          ],
                          [
                            0.8888888888888888,
                            "#fdca26"
                          ],
                          [
                            1,
                            "#f0f921"
                          ]
                        ],
                        "type": "heatmapgl"
                      }
                    ],
                    "histogram": [
                      {
                        "marker": {
                          "pattern": {
                            "fillmode": "overlay",
                            "size": 10,
                            "solidity": 0.2
                          }
                        },
                        "type": "histogram"
                      }
                    ],
                    "histogram2d": [
                      {
                        "colorbar": {
                          "outlinewidth": 0,
                          "ticks": ""
                        },
                        "colorscale": [
                          [
                            0,
                            "#0d0887"
                          ],
                          [
                            0.1111111111111111,
                            "#46039f"
                          ],
                          [
                            0.2222222222222222,
                            "#7201a8"
                          ],
                          [
                            0.3333333333333333,
                            "#9c179e"
                          ],
                          [
                            0.4444444444444444,
                            "#bd3786"
                          ],
                          [
                            0.5555555555555556,
                            "#d8576b"
                          ],
                          [
                            0.6666666666666666,
                            "#ed7953"
                          ],
                          [
                            0.7777777777777778,
                            "#fb9f3a"
                          ],
                          [
                            0.8888888888888888,
                            "#fdca26"
                          ],
                          [
                            1,
                            "#f0f921"
                          ]
                        ],
                        "type": "histogram2d"
                      }
                    ],
                    "histogram2dcontour": [
                      {
                        "colorbar": {
                          "outlinewidth": 0,
                          "ticks": ""
                        },
                        "colorscale": [
                          [
                            0,
                            "#0d0887"
                          ],
                          [
                            0.1111111111111111,
                            "#46039f"
                          ],
                          [
                            0.2222222222222222,
                            "#7201a8"
                          ],
                          [
                            0.3333333333333333,
                            "#9c179e"
                          ],
                          [
                            0.4444444444444444,
                            "#bd3786"
                          ],
                          [
                            0.5555555555555556,
                            "#d8576b"
                          ],
                          [
                            0.6666666666666666,
                            "#ed7953"
                          ],
                          [
                            0.7777777777777778,
                            "#fb9f3a"
                          ],
                          [
                            0.8888888888888888,
                            "#fdca26"
                          ],
                          [
                            1,
                            "#f0f921"
                          ]
                        ],
                        "type": "histogram2dcontour"
                      }
                    ],
                    "mesh3d": [
                      {
                        "colorbar": {
                          "outlinewidth": 0,
                          "ticks": ""
                        },
                        "type": "mesh3d"
                      }
                    ],
                    "parcoords": [
                      {
                        "line": {
                          "colorbar": {
                            "outlinewidth": 0,
                            "ticks": ""
                          }
                        },
                        "type": "parcoords"
                      }
                    ],
                    "pie": [
                      {
                        "automargin": true,
                        "type": "pie"
                      }
                    ],
                    "scatter": [
                      {
                        "fillpattern": {
                          "fillmode": "overlay",
                          "size": 10,
                          "solidity": 0.2
                        },
                        "type": "scatter"
                      }
                    ],
                    "scatter3d": [
                      {
                        "line": {
                          "colorbar": {
                            "outlinewidth": 0,
                            "ticks": ""
                          }
                        },
                        "marker": {
                          "colorbar": {
                            "outlinewidth": 0,
                            "ticks": ""
                          }
                        },
                        "type": "scatter3d"
                      }
                    ],
                    "scattercarpet": [
                      {
                        "marker": {
                          "colorbar": {
                            "outlinewidth": 0,
                            "ticks": ""
                          }
                        },
                        "type": "scattercarpet"
                      }
                    ],
                    "scattergeo": [
                      {
                        "marker": {
                          "colorbar": {
                            "outlinewidth": 0,
                            "ticks": ""
                          }
                        },
                        "type": "scattergeo"
                      }
                    ],
                    "scattergl": [
                      {
                        "marker": {
                          "colorbar": {
                            "outlinewidth": 0,
                            "ticks": ""
                          }
                        },
                        "type": "scattergl"
                      }
                    ],
                    "scattermapbox": [
                      {
                        "marker": {
                          "colorbar": {
                            "outlinewidth": 0,
                            "ticks": ""
                          }
                        },
                        "type": "scattermapbox"
                      }
                    ],
                    "scatterpolar": [
                      {
                        "marker": {
                          "colorbar": {
                            "outlinewidth": 0,
                            "ticks": ""
                          }
                        },
                        "type": "scatterpolar"
                      }
                    ],
                    "scatterpolargl": [
                      {
                        "marker": {
                          "colorbar": {
                            "outlinewidth": 0,
                            "ticks": ""
                          }
                        },
                        "type": "scatterpolargl"
                      }
                    ],
                    "scatterternary": [
                      {
                        "marker": {
                          "colorbar": {
                            "outlinewidth": 0,
                            "ticks": ""
                          }
                        },
                        "type": "scatterternary"
                      }
                    ],
                    "surface": [
                      {
                        "colorbar": {
                          "outlinewidth": 0,
                          "ticks": ""
                        },
                        "colorscale": [
                          [
                            0,
                            "#0d0887"
                          ],
                          [
                            0.1111111111111111,
                            "#46039f"
                          ],
                          [
                            0.2222222222222222,
                            "#7201a8"
                          ],
                          [
                            0.3333333333333333,
                            "#9c179e"
                          ],
                          [
                            0.4444444444444444,
                            "#bd3786"
                          ],
                          [
                            0.5555555555555556,
                            "#d8576b"
                          ],
                          [
                            0.6666666666666666,
                            "#ed7953"
                          ],
                          [
                            0.7777777777777778,
                            "#fb9f3a"
                          ],
                          [
                            0.8888888888888888,
                            "#fdca26"
                          ],
                          [
                            1,
                            "#f0f921"
                          ]
                        ],
                        "type": "surface"
                      }
                    ],
                    "table": [
                      {
                        "cells": {
                          "fill": {
                            "color": "#EBF0F8"
                          },
                          "line": {
                            "color": "white"
                          }
                        },
                        "header": {
                          "fill": {
                            "color": "#C8D4E3"
                          },
                          "line": {
                            "color": "white"
                          }
                        },
                        "type": "table"
                      }
                    ]
                  },
                  "layout": {
                    "annotationdefaults": {
                      "arrowcolor": "#2a3f5f",
                      "arrowhead": 0,
                      "arrowwidth": 1
                    },
                    "autotypenumbers": "strict",
                    "coloraxis": {
                      "colorbar": {
                        "outlinewidth": 0,
                        "ticks": ""
                      }
                    },
                    "colorscale": {
                      "diverging": [
                        [
                          0,
                          "#8e0152"
                        ],
                        [
                          0.1,
                          "#c51b7d"
                        ],
                        [
                          0.2,
                          "#de77ae"
                        ],
                        [
                          0.3,
                          "#f1b6da"
                        ],
                        [
                          0.4,
                          "#fde0ef"
                        ],
                        [
                          0.5,
                          "#f7f7f7"
                        ],
                        [
                          0.6,
                          "#e6f5d0"
                        ],
                        [
                          0.7,
                          "#b8e186"
                        ],
                        [
                          0.8,
                          "#7fbc41"
                        ],
                        [
                          0.9,
                          "#4d9221"
                        ],
                        [
                          1,
                          "#276419"
                        ]
                      ],
                      "sequential": [
                        [
                          0,
                          "#0d0887"
                        ],
                        [
                          0.1111111111111111,
                          "#46039f"
                        ],
                        [
                          0.2222222222222222,
                          "#7201a8"
                        ],
                        [
                          0.3333333333333333,
                          "#9c179e"
                        ],
                        [
                          0.4444444444444444,
                          "#bd3786"
                        ],
                        [
                          0.5555555555555556,
                          "#d8576b"
                        ],
                        [
                          0.6666666666666666,
                          "#ed7953"
                        ],
                        [
                          0.7777777777777778,
                          "#fb9f3a"
                        ],
                        [
                          0.8888888888888888,
                          "#fdca26"
                        ],
                        [
                          1,
                          "#f0f921"
                        ]
                      ],
                      "sequentialminus": [
                        [
                          0,
                          "#0d0887"
                        ],
                        [
                          0.1111111111111111,
                          "#46039f"
                        ],
                        [
                          0.2222222222222222,
                          "#7201a8"
                        ],
                        [
                          0.3333333333333333,
                          "#9c179e"
                        ],
                        [
                          0.4444444444444444,
                          "#bd3786"
                        ],
                        [
                          0.5555555555555556,
                          "#d8576b"
                        ],
                        [
                          0.6666666666666666,
                          "#ed7953"
                        ],
                        [
                          0.7777777777777778,
                          "#fb9f3a"
                        ],
                        [
                          0.8888888888888888,
                          "#fdca26"
                        ],
                        [
                          1,
                          "#f0f921"
                        ]
                      ]
                    },
                    "colorway": [
                      "#636efa",
                      "#EF553B",
                      "#00cc96",
                      "#ab63fa",
                      "#FFA15A",
                      "#19d3f3",
                      "#FF6692",
                      "#B6E880",
                      "#FF97FF",
                      "#FECB52"
                    ],
                    "font": {
                      "color": "#2a3f5f"
                    },
                    "geo": {
                      "bgcolor": "white",
                      "lakecolor": "white",
                      "landcolor": "#E5ECF6",
                      "showlakes": true,
                      "showland": true,
                      "subunitcolor": "white"
                    },
                    "hoverlabel": {
                      "align": "left"
                    },
                    "hovermode": "closest",
                    "mapbox": {
                      "style": "light"
                    },
                    "paper_bgcolor": "white",
                    "plot_bgcolor": "#E5ECF6",
                    "polar": {
                      "angularaxis": {
                        "gridcolor": "white",
                        "linecolor": "white",
                        "ticks": ""
                      },
                      "bgcolor": "#E5ECF6",
                      "radialaxis": {
                        "gridcolor": "white",
                        "linecolor": "white",
                        "ticks": ""
                      }
                    },
                    "scene": {
                      "xaxis": {
                        "backgroundcolor": "#E5ECF6",
                        "gridcolor": "white",
                        "gridwidth": 2,
                        "linecolor": "white",
                        "showbackground": true,
                        "ticks": "",
                        "zerolinecolor": "white"
                      },
                      "yaxis": {
                        "backgroundcolor": "#E5ECF6",
                        "gridcolor": "white",
                        "gridwidth": 2,
                        "linecolor": "white",
                        "showbackground": true,
                        "ticks": "",
                        "zerolinecolor": "white"
                      },
                      "zaxis": {
                        "backgroundcolor": "#E5ECF6",
                        "gridcolor": "white",
                        "gridwidth": 2,
                        "linecolor": "white",
                        "showbackground": true,
                        "ticks": "",
                        "zerolinecolor": "white"
                      }
                    },
                    "shapedefaults": {
                      "line": {
                        "color": "#2a3f5f"
                      }
                    },
                    "ternary": {
                      "aaxis": {
                        "gridcolor": "white",
                        "linecolor": "white",
                        "ticks": ""
                      },
                      "baxis": {
                        "gridcolor": "white",
                        "linecolor": "white",
                        "ticks": ""
                      },
                      "bgcolor": "#E5ECF6",
                      "caxis": {
                        "gridcolor": "white",
                        "linecolor": "white",
                        "ticks": ""
                      }
                    },
                    "title": {
                      "x": 0.05
                    },
                    "xaxis": {
                      "automargin": true,
                      "gridcolor": "white",
                      "linecolor": "white",
                      "ticks": "",
                      "title": {
                        "standoff": 15
                      },
                      "zerolinecolor": "white",
                      "zerolinewidth": 2
                    },
                    "yaxis": {
                      "automargin": true,
                      "gridcolor": "white",
                      "linecolor": "white",
                      "ticks": "",
                      "title": {
                        "standoff": 15
                      },
                      "zerolinecolor": "white",
                      "zerolinewidth": 2
                    }
                  }
                },
                "xaxis": {
                  "anchor": "y",
                  "domain": [
                    0,
                    1
                  ],
                  "range": [
                    118,
                    28272
                  ],
                  "title": {
                    "text": "index"
                  }
                },
                "yaxis": {
                  "anchor": "x",
                  "domain": [
                    0,
                    1
                  ],
                  "range": [
                    0,
                    1
                  ],
                  "title": {
                    "text": "party.mean.diff.d1"
                  }
                }
              }
            }
          },
          "metadata": {},
          "output_type": "display_data"
        }
      ],
      "source": [
        "fig = px.line(q3_data, y=\"party.mean.diff.d1\", animation_frame=\"year\", animation_group=\"party.mean.diff.d1\",\n",
        "            color=\"chamber\", range_x=[118, 28272], range_y=[0, 1])\n",
        "\n",
        "fig[\"layout\"].pop(\"updatemenus\") # optional, drop animation b\n",
        "\n",
        "\n",
        "\n",
        "fig.show()"
      ]
    }
  ],
  "metadata": {
    "colab": {
      "provenance": []
    },
    "kernelspec": {
      "display_name": "Python 3",
      "name": "python3"
    },
    "language_info": {
      "codemirror_mode": {
        "name": "ipython",
        "version": 3
      },
      "file_extension": ".py",
      "mimetype": "text/x-python",
      "name": "python",
      "nbconvert_exporter": "python",
      "pygments_lexer": "ipython3",
      "version": "3.11.4"
    }
  },
  "nbformat": 4,
  "nbformat_minor": 0
}
